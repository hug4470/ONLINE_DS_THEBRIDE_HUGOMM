{
 "cells": [
  {
   "cell_type": "markdown",
   "metadata": {},
   "source": [
    "![imagen](./img/ejercicios.png)"
   ]
  },
  {
   "cell_type": "markdown",
   "metadata": {},
   "source": [
    "# Ejercicios funciones\n",
    "## Ejercicio 1\n",
    "Escribe una función que convierta números del 1 al 7 en nombres de los dias de la semana. La función constará de un único argumento numérico y una salida de tipo string"
   ]
  },
  {
   "cell_type": "code",
   "execution_count": 1,
   "metadata": {},
   "outputs": [
    {
     "name": "stdout",
     "output_type": "stream",
     "text": [
      "Jueves\n"
     ]
    }
   ],
   "source": [
    "def convertidor (num):\n",
    "    correspondencia = {1:\"Lunes\",2:\"Martes\", 3: \"Miércoles\", 4: \"Jueves\", 5 : \"Viernes\", 6 : \"Sábado\", 7 : \"Domingo\"}\n",
    "    for key, value in correspondencia.items():\n",
    "        if num == key:\n",
    "            print (value)\n",
    "        elif num >7 or num <0:\n",
    "            print (\"Día erróneo\")\n",
    "\n",
    "convertidor (4)"
   ]
  },
  {
   "cell_type": "code",
   "execution_count": 23,
   "metadata": {},
   "outputs": [
    {
     "name": "stdout",
     "output_type": "stream",
     "text": [
      "Martes\n",
      "Número erróneo\n"
     ]
    }
   ],
   "source": [
    "# CORRECCIÓN. PUEDE SIMPLIFICARSE LA FUNCIÓN SIN BUCLE FOR\n",
    "def convertidor (num):\n",
    "    correspondencia = {1:\"Lunes\",2:\"Martes\", 3: \"Miércoles\", 4: \"Jueves\", 5 : \"Viernes\", 6 : \"Sábado\", 7 : \"Domingo\"}\n",
    "    if num in correspondencia.keys():\n",
    "        print(correspondencia[num])\n",
    "    else:\n",
    "        print (\"Número erróneo\")\n",
    "\n",
    "convertidor (2)\n",
    "convertidor(8)"
   ]
  },
  {
   "cell_type": "markdown",
   "metadata": {},
   "source": [
    "## Ejercicio 2\n",
    "En el ejercicio 8 de flujos de control, creábamos una pirámide invertida de números desde el 5. Crea una función que replique el comportamiento de la pirámide, y utiliza un único parámetro de entrada de la función para determinar el número de filas de la pirámide."
   ]
  },
  {
   "cell_type": "code",
   "execution_count": 2,
   "metadata": {},
   "outputs": [
    {
     "name": "stdout",
     "output_type": "stream",
     "text": [
      "5 4 3 2 1\n",
      "4 3 2 1\n",
      "3 2 1\n",
      "2 1\n",
      "1\n"
     ]
    }
   ],
   "source": [
    "lista = [5, 4, 3, 2, 1]\n",
    "while len(lista) > 0:\n",
    "        print (*lista)\n",
    "        lista.pop(0)"
   ]
  },
  {
   "cell_type": "code",
   "execution_count": 3,
   "metadata": {},
   "outputs": [
    {
     "name": "stdout",
     "output_type": "stream",
     "text": [
      "10\n",
      "[10, 9, 8, 7, 6, 5, 4, 3, 2, 1]\n",
      "10 9 8 7 6 5 4 3 2 1\n",
      "9 8 7 6 5 4 3 2 1\n",
      "8 7 6 5 4 3 2 1\n",
      "7 6 5 4 3 2 1\n",
      "6 5 4 3 2 1\n",
      "5 4 3 2 1\n",
      "4 3 2 1\n",
      "3 2 1\n",
      "2 1\n",
      "1\n",
      "10\n",
      "[1, 2, 3, 4, 5, 6, 7, 8, 9, 10]\n",
      "1 2 3 4 5 6 7 8 9 10\n",
      "2 3 4 5 6 7 8 9 10\n",
      "3 4 5 6 7 8 9 10\n",
      "4 5 6 7 8 9 10\n",
      "5 6 7 8 9 10\n",
      "6 7 8 9 10\n",
      "7 8 9 10\n",
      "8 9 10\n",
      "9 10\n",
      "10\n"
     ]
    }
   ],
   "source": [
    "def piramide_descendente(num):\n",
    "    print(num)\n",
    "    lista = range(num, 0, -1)\n",
    "    lista = list(lista)\n",
    "    print(lista)\n",
    "    while len(lista) > 0:\n",
    "        print (*lista)\n",
    "        lista.pop(0)\n",
    "\n",
    "piramide_descendente (10)\n",
    "\n",
    "def piramide_ascendente(num):\n",
    "    print(num)\n",
    "    lista = range(1, num+1)\n",
    "    lista = list(lista)\n",
    "    print(lista)\n",
    "    while len(lista) > 0:\n",
    "        print (*lista)\n",
    "        lista.pop(0)\n",
    "\n",
    "piramide_ascendente (10)"
   ]
  },
  {
   "cell_type": "code",
   "execution_count": 96,
   "metadata": {},
   "outputs": [
    {
     "name": "stdout",
     "output_type": "stream",
     "text": [
      "10\n",
      "[]\n"
     ]
    }
   ],
   "source": [
    "# piramide(int(input(\"Introduce un número\")))\n"
   ]
  },
  {
   "cell_type": "markdown",
   "metadata": {},
   "source": [
    "## Ejercicio 3\n",
    "Escribe una función que compare dos números. La función tiene dos argumentos y hay tres salidas posibles: que sean iguales, que el primero sea  mayor que el segundo, o que el segundo sea mayor que el primero"
   ]
  },
  {
   "cell_type": "code",
   "execution_count": 74,
   "metadata": {},
   "outputs": [
    {
     "name": "stdout",
     "output_type": "stream",
     "text": [
      "-4 es menor que 0\n",
      "4 es mayor que 3\n",
      "Son iguales\n"
     ]
    }
   ],
   "source": [
    "def comparador (numero1 = 0, numero2 = 0):\n",
    "    if numero1 == numero2:\n",
    "        print(\"Son iguales\")\n",
    "    elif numero1 > numero2:\n",
    "        print(numero1, \"es mayor que\", numero2)\n",
    "    elif numero2 > numero1:\n",
    "        print(numero1, \"es menor que\", numero2)\n",
    "\n",
    "comparador()\n",
    "comparador(4,3)\n",
    "comparador(4,4)\n",
    "# comparador(int(input(\"Introduce un número\")), int(input(\"Introduce otro\")))"
   ]
  },
  {
   "attachments": {},
   "cell_type": "markdown",
   "metadata": {},
   "source": [
    "## Ejercicio 4\n",
    "Escribe una función que sea un contador de letras. En el primer argumento tienes que introducir un texto, y el segundo que sea una letra que contar. La función tiene que devolver un entero con el número de veces que aparece esa letra, tanto mayúscula, como minúscula"
   ]
  },
  {
   "cell_type": "code",
   "execution_count": 6,
   "metadata": {},
   "outputs": [
    {
     "name": "stdout",
     "output_type": "stream",
     "text": [
      "La letra O se repite: 0 veces.\n"
     ]
    }
   ],
   "source": [
    "\n",
    "def contador (frase,letra):\n",
    "    veces = 0\n",
    "    veces = veces + frase.count(letra)\n",
    "    letra = letra.upper()\n",
    "    veces = veces + frase.count(letra)\n",
    "    return print (\"La letra\", letra, \"se repite:\", veces, \"veces.\")\n",
    "\n",
    "frase1 = \"Hola me llamo Hugo, no hugo.\"\n",
    "\n",
    "contador(frase1, \"O\")"
   ]
  },
  {
   "cell_type": "code",
   "execution_count": 7,
   "metadata": {},
   "outputs": [
    {
     "ename": "NameError",
     "evalue": "name 'frase' is not defined",
     "output_type": "error",
     "traceback": [
      "\u001b[1;31m---------------------------------------------------------------------------\u001b[0m",
      "\u001b[1;31mNameError\u001b[0m                                 Traceback (most recent call last)",
      "Cell \u001b[1;32mIn[7], line 2\u001b[0m\n\u001b[0;32m      1\u001b[0m \u001b[38;5;66;03m# CORRECCION. no contemplamos el caso de las tildes antes y además si metiamos la letra en mayusculas, no contaba las minusculas.\u001b[39;00m\n\u001b[1;32m----> 2\u001b[0m frase \u001b[38;5;241m=\u001b[39m \u001b[43mfrase\u001b[49m\u001b[38;5;241m.\u001b[39mlower()\n\u001b[0;32m      4\u001b[0m dict_vocales \u001b[38;5;241m=\u001b[39m {\u001b[38;5;124m\"\u001b[39m\u001b[38;5;124má\u001b[39m\u001b[38;5;124m\"\u001b[39m : \u001b[38;5;124m\"\u001b[39m\u001b[38;5;124ma\u001b[39m\u001b[38;5;124m\"\u001b[39m, \u001b[38;5;124m\"\u001b[39m\u001b[38;5;124mé\u001b[39m\u001b[38;5;124m\"\u001b[39m : \u001b[38;5;124m\"\u001b[39m\u001b[38;5;124me\u001b[39m\u001b[38;5;124m\"\u001b[39m, \u001b[38;5;124m\"\u001b[39m\u001b[38;5;124mí\u001b[39m\u001b[38;5;124m\"\u001b[39m : \u001b[38;5;124m\"\u001b[39m\u001b[38;5;124mi\u001b[39m\u001b[38;5;124m\"\u001b[39m, \u001b[38;5;124m\"\u001b[39m\u001b[38;5;124mó\u001b[39m\u001b[38;5;124m\"\u001b[39m : \u001b[38;5;124m\"\u001b[39m\u001b[38;5;124mo\u001b[39m\u001b[38;5;124m\"\u001b[39m, \u001b[38;5;124m\"\u001b[39m\u001b[38;5;124mú\u001b[39m\u001b[38;5;124m\"\u001b[39m : \u001b[38;5;124m\"\u001b[39m\u001b[38;5;124mu\u001b[39m\u001b[38;5;124m\"\u001b[39m}\n\u001b[0;32m      6\u001b[0m \u001b[38;5;28;01mfor\u001b[39;00m clave \u001b[38;5;129;01min\u001b[39;00m dict_vocales:\n",
      "\u001b[1;31mNameError\u001b[0m: name 'frase' is not defined"
     ]
    }
   ],
   "source": [
    "# CORRECCION. no contemplamos el caso de las tildes antes y además si metiamos la letra en mayusculas, no contaba las minusculas.\n",
    "frase = frase.lower()\n",
    "\n",
    "dict_vocales = {\"á\" : \"a\", \"é\" : \"e\", \"í\" : \"i\", \"ó\" : \"o\", \"ú\" : \"u\"}\n",
    "\n",
    "for clave in dict_vocales:\n",
    "    frase = frase.replace(clave,dict_vocales[clave])\n",
    "\n"
   ]
  },
  {
   "cell_type": "code",
   "execution_count": 129,
   "metadata": {},
   "outputs": [
    {
     "data": {
      "text/plain": [
       "'hola, hugo. hoy hay caspita'"
      ]
     },
     "execution_count": 129,
     "metadata": {},
     "output_type": "execute_result"
    }
   ],
   "source": [
    "def limpiador (texto, dict_vocales = {\"á\" : \"a\", \"é\" : \"e\", \"í\" : \"i\", \"ó\" : \"o\", \"ú\" : \"u\"}):\n",
    "    texto = texto.lower()\n",
    "    for clave in dict_vocales:\n",
    "        texto = texto.replace(clave,dict_vocales[clave])\n",
    "    return texto\n",
    "\n",
    "contador2 (\"Hola, Hugo. Hoy hay cáspita\")"
   ]
  },
  {
   "cell_type": "code",
   "execution_count": 133,
   "metadata": {},
   "outputs": [
    {
     "data": {
      "text/plain": [
       "4"
      ]
     },
     "execution_count": 133,
     "metadata": {},
     "output_type": "execute_result"
    }
   ],
   "source": [
    "def contador2 (texto, letra):\n",
    "    letra = letra.lower()\n",
    "    texto = limpiador(texto)\n",
    "    return texto.count(letra)\n",
    "\n",
    "contador2 (\"Hola, Hugo. Hoy hay cáspita\", \"a\")"
   ]
  },
  {
   "cell_type": "markdown",
   "metadata": {},
   "source": [
    "## Ejercicio 5\n",
    "Escribe una función que tenga un único argumento, un string. La salida de la función tiene que ser un diccionario con el conteo de todas las letras de ese string, siendo la clave la letra y el valor el conteo."
   ]
  },
  {
   "cell_type": "code",
   "execution_count": 164,
   "metadata": {},
   "outputs": [
    {
     "data": {
      "text/plain": [
       "{'Hoy es día 25, del 9': 14, '12345678': 8}"
      ]
     },
     "execution_count": 164,
     "metadata": {},
     "output_type": "execute_result"
    }
   ],
   "source": [
    "diccionario5 = {}\n",
    "\n",
    "def contador2 (texto):\n",
    "    frase = str(texto)\n",
    "    conteo = len(frase) - frase.count(\" \") - frase.count(\",\")\n",
    "    diccionario5[frase] = conteo\n",
    "    return diccionario5\n",
    "\n",
    "contador2 (\"Hoy es día 25, del 9\")\n",
    "contador2 (12345678)"
   ]
  },
  {
   "cell_type": "code",
   "execution_count": 158,
   "metadata": {},
   "outputs": [
    {
     "data": {
      "text/plain": [
       "{'Hoy es día 25 del 9': 14}"
      ]
     },
     "execution_count": 158,
     "metadata": {},
     "output_type": "execute_result"
    }
   ],
   "source": [
    "diccionario5 = {}\n",
    "abecedario = \"abcdefghijklmnñopqrstuvwxyz\"\n",
    "\n",
    "def contador2 (texto):\n",
    "    frase = str(texto)\n",
    "    for caracter in frase:\n",
    "        if caracter in abecedario:\n",
    "            conteo = len(frase) - frase.count(\" \")\n",
    "            diccionario5[frase] = conteo\n",
    "    return diccionario5\n",
    "\n",
    "contador2 (\"Hoy es día 25 del 9\")\n",
    "contador2 (12345678)"
   ]
  },
  {
   "cell_type": "code",
   "execution_count": null,
   "metadata": {},
   "outputs": [],
   "source": [
    "# LO ENTENDÍ MAL, DEBERÍA REPETIRLO, ENTENDÍ QUE LA CLAVE ERA EL TEXTO Y DEBERÍA SER LA LETRA"
   ]
  },
  {
   "cell_type": "markdown",
   "metadata": {},
   "source": [
    "## Ejercicio 6\n",
    "Escribir una función que añada o elimine elementos en una lista. La función necesita los siguientes argumentos:\n",
    "* lista: la lista donde se añadirán o eliminarán los elementos\n",
    "* comando: \"add\" o \"remove\"\n",
    "* elemento: Por defecto es None.\n",
    "\n",
    "Tendrá como salida la lista"
   ]
  },
  {
   "cell_type": "code",
   "execution_count": 128,
   "metadata": {},
   "outputs": [],
   "source": [
    "listafinal = []"
   ]
  },
  {
   "cell_type": "code",
   "execution_count": 9,
   "metadata": {},
   "outputs": [
    {
     "name": "stdout",
     "output_type": "stream",
     "text": [
      "[2, 3]\n",
      "[1, 2, 3, 4]\n",
      "(1, 2, 3)\n"
     ]
    }
   ],
   "source": [
    "# def listador (lista, comando = Add / Remove, *args = None):\n",
    "#     lista = list(lista)\n",
    "\n",
    "\n",
    "def listador (lista, comando, elementos = None):\n",
    "    listafinal = []\n",
    "    lista = list(lista)\n",
    "    \n",
    "    if comando == \"Add\":\n",
    "        if elementos == None:\n",
    "            return print(\"Falta elementos\")\n",
    "        elif elementos != None:\n",
    "            lista.append(elementos)\n",
    "            listafinal = lista\n",
    "            return print(listafinal)\n",
    "    elif comando == \"Remove\":\n",
    "        if elementos == None:\n",
    "            return print(\"Falta elementos\")\n",
    "        elif elementos != None:\n",
    "            try:\n",
    "                lista.remove(elementos)\n",
    "                listafinal = lista\n",
    "                return print (listafinal)\n",
    "            except:\n",
    "                print(\"No se puede borrar porque no se encuentra\")\n",
    "    else:\n",
    "        return print(\"Comando erróneo. Solo Add o Remove.\")\n",
    "\n",
    "lista1 = (1,2,3)\n",
    "listador (lista1,\"Remove\", 1)\n",
    "listador (lista1, \"Add\", 4)\n",
    "print(lista1)\n"
   ]
  },
  {
   "cell_type": "markdown",
   "metadata": {},
   "source": [
    "## Ejercicio 7\n",
    "Crea una función que reciba un número arbitrario de palabras, y devuelva una frase completa, separando las palabras con espacios."
   ]
  },
  {
   "cell_type": "code",
   "execution_count": 12,
   "metadata": {},
   "outputs": [
    {
     "data": {
      "text/plain": [
       "'Hola Hugo'"
      ]
     },
     "execution_count": 12,
     "metadata": {},
     "output_type": "execute_result"
    }
   ],
   "source": [
    "def fraseador (*args):\n",
    "    frase = \"\"\n",
    "    for palabra in args:\n",
    "            frase += palabra + \" \"\n",
    "    frase = frase[:-1]\n",
    "    return frase\n",
    "\n",
    "fraseador(\"Hola\", \"Hugo\")"
   ]
  },
  {
   "cell_type": "code",
   "execution_count": 13,
   "metadata": {},
   "outputs": [
    {
     "data": {
      "text/plain": [
       "'Hola hugo'"
      ]
     },
     "execution_count": 13,
     "metadata": {},
     "output_type": "execute_result"
    }
   ],
   "source": [
    "# CORRECION con método join\n",
    "def fraseador2 (*args):\n",
    "    return \" \".join(args)\n",
    "\n",
    "fraseador2(\"Hola\", \"hugo\")"
   ]
  },
  {
   "cell_type": "markdown",
   "metadata": {},
   "source": [
    "## Ejercicio 8\n",
    "Escribe un programa que obtenga el enésimo número de la [serie de Fibonacci](https://es.wikipedia.org/wiki/Sucesi%C3%B3n_de_Fibonacci). Tienes que crear una función recursiva con un único argumento.\n",
    "\n",
    "```Python\n",
    "fibonacci(2) = 1\n",
    "fibonacci(4) = 3\n",
    "fibonacci(5) = 5\n",
    "fibonacci(8) = 21\n",
    "```"
   ]
  },
  {
   "cell_type": "markdown",
   "metadata": {},
   "source": [
    "fibonacci(n) = fibonacci(n-1) + fibonacci(n-2)"
   ]
  },
  {
   "cell_type": "code",
   "execution_count": 15,
   "metadata": {},
   "outputs": [
    {
     "data": {
      "text/plain": [
       "89"
      ]
     },
     "execution_count": 15,
     "metadata": {},
     "output_type": "execute_result"
    }
   ],
   "source": [
    "def fibonacci(n):\n",
    "    if n == 0 or n == 1:\n",
    "        return n\n",
    "    return fibonacci(n-1)  + fibonacci(n-2)\n",
    "fibonacci(11)"
   ]
  },
  {
   "cell_type": "code",
   "execution_count": 179,
   "metadata": {},
   "outputs": [],
   "source": [
    "# EXPLICACIÓN\n",
    "# fibonacci(3) = fibonacci(2) + fibonacci(1) = fibonacci(1) + fibonacci(0) + fibonacci(1) = 1 + 0 + 1\n",
    "# Va bajando el cálculo de fibonacci por numero hasta que llega a valores enteros que conoce (1 y 0), \n",
    "# entonces ya puede recorrer hacia atrás el desdoble de la funcion de fibonacci y consigue sumar todos.\n",
    "# No puede sumar fibonacci(n) pero si calcular todos los fibonacci() inferiores hasta tener valores enteros y resolver la suma."
   ]
  },
  {
   "attachments": {},
   "cell_type": "markdown",
   "metadata": {},
   "source": [
    "## Ejercicio 9\n",
    "Define en una única celda las siguientes funciones:\n",
    "* Función que calcule el área de un cuadrado\n",
    "* Función que calcule el área de un triángulo\n",
    "* Función que calcule el área de un círculo\n",
    "\n",
    "En otra celda, calcular el area de:\n",
    "* Dos círculos de radio 10 + un triángulo de base 3 y altura 7\n",
    "* Un cuadrado de lado = 10 + 3 círculos (uno de radio = 4 y los otros dos de radio = 6) + 5 triángulos de base = 2 + altura = 4"
   ]
  },
  {
   "cell_type": "code",
   "execution_count": 16,
   "metadata": {},
   "outputs": [
    {
     "name": "stdout",
     "output_type": "stream",
     "text": [
      "3.141592653589793\n"
     ]
    }
   ],
   "source": [
    "import math\n",
    "print(math.pi)\n",
    "\n",
    "def cuadrado (lado):\n",
    "    area = lado**2\n",
    "    return area\n",
    "\n",
    "def triangulo (base, altura):\n",
    "    area = (base * altura)/2\n",
    "    return area\n",
    "\n",
    "def circulo (radio):\n",
    "    area = math.pi * radio **2\n",
    "    return area\n"
   ]
  },
  {
   "cell_type": "code",
   "execution_count": 17,
   "metadata": {},
   "outputs": [
    {
     "name": "stdout",
     "output_type": "stream",
     "text": [
      "638.8185307179587\n",
      "396.46015351590177\n"
     ]
    }
   ],
   "source": [
    "ejer9_1 = circulo(10)*2 + triangulo (3,7)\n",
    "ejer9_2 = cuadrado(10) + circulo(4) + 2*(circulo(6)) + 5*(triangulo(2,4))\n",
    "\n",
    "print (ejer9_1)\n",
    "print (ejer9_2)"
   ]
  },
  {
   "cell_type": "markdown",
   "metadata": {},
   "source": [
    "## Ejercicio 10\n",
    "\n",
    "Guarda las funciones de estos ejercicios en un fichero llamado `funciones.py` e importalas desde este jupyter notebook para probar que puedes hacer uso de ellas."
   ]
  },
  {
   "cell_type": "code",
   "execution_count": 187,
   "metadata": {},
   "outputs": [],
   "source": [
    "import funciones\n",
    "\n",
    "# EN CASO DE QUE NO ESTE EN EL MSIMO DIRECTORIO\n",
    "\n",
    "# import from (DIRECTORIO) funciones"
   ]
  }
 ],
 "metadata": {
  "kernelspec": {
   "display_name": "Python 3.7.4 64-bit",
   "language": "python",
   "name": "python3"
  },
  "language_info": {
   "codemirror_mode": {
    "name": "ipython",
    "version": 3
   },
   "file_extension": ".py",
   "mimetype": "text/x-python",
   "name": "python",
   "nbconvert_exporter": "python",
   "pygments_lexer": "ipython3",
   "version": "3.11.9"
  },
  "vscode": {
   "interpreter": {
    "hash": "90139cb9a825bf3d63f6f6704e828dbd1ff7edbd4d0c6e906a71235d6efc74af"
   }
  }
 },
 "nbformat": 4,
 "nbformat_minor": 4
}
