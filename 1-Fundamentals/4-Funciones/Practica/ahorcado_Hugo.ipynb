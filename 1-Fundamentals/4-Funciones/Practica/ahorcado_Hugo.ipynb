{
 "cells": [
  {
   "attachments": {},
   "cell_type": "markdown",
   "metadata": {},
   "source": [
    "## Juego del Ahorcado\n",
    "Desarrolla el juego del ahorcado en python. En cada turno irá mostrando por pantalla ```_ _ _ _ _``` las rayas bajas correspondientes al número de letras que tiene la palabra a adivinar. El usuario deberá insertar una letra y, si esa letra existe, se mostrará o mostrarán las letras acertadas ```S _ S _ _``` en sus posiciones correspondientes. \n",
    "\n",
    "Si falla, se mostrará el número de errores que lleva y, si lleva x errores, entonces se mostrará \"Fin del juego\"."
   ]
  },
  {
   "cell_type": "markdown",
   "metadata": {},
   "source": [
    "1. Inicializa el juego: declara una palabra a adivinar y muestra por pantalla la palabra oculta.\n"
   ]
  },
  {
   "cell_type": "markdown",
   "metadata": {},
   "source": [
    "\n",
    "```python\n",
    "_ _ _ _ _ _ _ _\n",
    "```"
   ]
  },
  {
   "cell_type": "code",
   "execution_count": 2,
   "metadata": {},
   "outputs": [
    {
     "name": "stdout",
     "output_type": "stream",
     "text": [
      "_ _ _ _ _ _ _\n"
     ]
    }
   ],
   "source": [
    "palabra = \"adivino\"\n",
    "\n",
    "palabra_oculta = list(\"_\"*len(palabra))\n",
    "\n",
    "print (*palabra_oculta)"
   ]
  },
  {
   "cell_type": "markdown",
   "metadata": {},
   "source": [
    "2. Funcionamiento turnos: mediante un bucle genera el sistema de turnos donde el usuario introduce una letra y le va mostrando su progreso y sus vidas."
   ]
  },
  {
   "cell_type": "code",
   "execution_count": 3,
   "metadata": {},
   "outputs": [
    {
     "name": "stdout",
     "output_type": "stream",
     "text": [
      "_ _ _ _ _ _ _\n",
      "Está en la palabra. Vidas:  5\n"
     ]
    },
    {
     "ename": "NameError",
     "evalue": "name 'sustituir_letras_ocultas' is not defined",
     "output_type": "error",
     "traceback": [
      "\u001b[1;31m---------------------------------------------------------------------------\u001b[0m",
      "\u001b[1;31mNameError\u001b[0m                                 Traceback (most recent call last)",
      "Cell \u001b[1;32mIn[3], line 8\u001b[0m\n\u001b[0;32m      6\u001b[0m \u001b[38;5;28;01mif\u001b[39;00m letra_intento \u001b[38;5;129;01min\u001b[39;00m palabra:\n\u001b[0;32m      7\u001b[0m     \u001b[38;5;28mprint\u001b[39m(\u001b[38;5;124m\"\u001b[39m\u001b[38;5;124mEstá en la palabra. Vidas: \u001b[39m\u001b[38;5;124m\"\u001b[39m, vidas)\n\u001b[1;32m----> 8\u001b[0m     palabra_oculta \u001b[38;5;241m=\u001b[39m \u001b[43msustituir_letras_ocultas\u001b[49m(letra_intento, palabra, palabra_oculta)\n\u001b[0;32m      9\u001b[0m \u001b[38;5;28;01melse\u001b[39;00m:\n\u001b[0;32m     10\u001b[0m     vidas \u001b[38;5;241m=\u001b[39m vidas \u001b[38;5;241m-\u001b[39m \u001b[38;5;241m1\u001b[39m\n",
      "\u001b[1;31mNameError\u001b[0m: name 'sustituir_letras_ocultas' is not defined"
     ]
    }
   ],
   "source": [
    "vidas = 5\n",
    "\n",
    "while vidas > 0:\n",
    "    print (*palabra_oculta)\n",
    "    letra_intento = input (\"Introduce una letra\")\n",
    "    if letra_intento in palabra:\n",
    "        print(\"Está en la palabra. Vidas: \", vidas)\n",
    "        palabra_oculta = sustituir_letras_ocultas(letra_intento, palabra, palabra_oculta)\n",
    "    else:\n",
    "        vidas = vidas - 1\n",
    "        print (\"No está en la palabra. Vidas: \", vidas)\n",
    "        "
   ]
  },
  {
   "cell_type": "code",
   "execution_count": 1,
   "metadata": {},
   "outputs": [
    {
     "name": "stdout",
     "output_type": "stream",
     "text": [
      "_ _ _ _ _ _ _\n"
     ]
    }
   ],
   "source": [
    "palabra = \"adivino\"\n",
    "\n",
    "letra_usuario = input(\"Letra\")\n",
    "\n",
    "palabra_oculta = list(\"_\"*len(palabra))\n",
    "\n",
    "for posicion, letra in enumerate(palabra):\n",
    "    if letra == letra_usuario:\n",
    "        palabra_oculta[posicion] = letra\n",
    "print (*palabra_oculta)\n"
   ]
  },
  {
   "cell_type": "code",
   "execution_count": 2,
   "metadata": {},
   "outputs": [],
   "source": [
    "def sustituir_letras_ocultas(letra_usuario, palabra, palabra_oculta):\n",
    "    for posicion, letra in enumerate(palabra):\n",
    "        if letra == letra_usuario:\n",
    "            palabra_oculta[posicion] = letra\n",
    "    return palabra_oculta"
   ]
  },
  {
   "cell_type": "markdown",
   "metadata": {},
   "source": [
    "3. Desarrolla la finalización de la partida, tanto si gana como si pierde."
   ]
  },
  {
   "cell_type": "code",
   "execution_count": 3,
   "metadata": {},
   "outputs": [
    {
     "name": "stdout",
     "output_type": "stream",
     "text": [
      "<class 'str'>\n",
      "<class 'list'>\n",
      "adivino\n",
      "['_', '_', '_', '_', '_', '_', '_']\n",
      "_ _ _ _ _ _ _\n",
      "Está en la palabra. Vidas:  5\n",
      "adivino\n",
      "['_', '_', '_', '_', '_', '_', '_']\n",
      "_ _ _ _ _ _ _\n",
      "No está en la palabra. Vidas:  4\n",
      "adivino\n",
      "['_', '_', '_', '_', '_', '_', '_']\n",
      "_ _ _ _ _ _ _\n",
      "No está en la palabra. Vidas:  3\n",
      "adivino\n",
      "['_', '_', '_', '_', '_', '_', '_']\n",
      "_ _ _ _ _ _ _\n",
      "No está en la palabra. Vidas:  2\n",
      "adivino\n",
      "['_', '_', '_', '_', '_', '_', '_']\n",
      "_ _ _ _ _ _ _\n",
      "No está en la palabra. Vidas:  1\n",
      "adivino\n",
      "['_', '_', '_', '_', '_', '_', '_']\n",
      "_ _ _ _ _ _ _\n",
      "No está en la palabra. Vidas:  0\n"
     ]
    }
   ],
   "source": [
    "vidas = 5\n",
    "print (type(palabra))\n",
    "print (type(palabra_oculta))\n",
    "\n",
    "while vidas > 0 and palabra != str(palabra_oculta):\n",
    "    if palabra == str(palabra_oculta):\n",
    "        break\n",
    "    print (*palabra_oculta)\n",
    "    letra_intento = input (\"Introduce una letra\")\n",
    "    if letra_intento in palabra:\n",
    "        print(\"Está en la palabra. Vidas: \", vidas)\n",
    "        palabra_oculta = sustituir_letras_ocultas(letra_intento, palabra, palabra_oculta)\n",
    "    else:\n",
    "        vidas = vidas - 1\n",
    "        print (\"No está en la palabra. Vidas: \", vidas)\n"
   ]
  },
  {
   "cell_type": "code",
   "execution_count": 12,
   "metadata": {},
   "outputs": [
    {
     "name": "stdout",
     "output_type": "stream",
     "text": [
      "[ ' _ ' ,   ' _ ' ,   ' _ ' ,   ' _ ' ,   ' _ ' ,   ' _ ' ,   ' _ ' ]\n"
     ]
    }
   ],
   "source": [
    "print(*(str(palabra_oculta)))\n",
    "\n"
   ]
  },
  {
   "cell_type": "markdown",
   "metadata": {},
   "source": [
    "4. Encapsula el juego en una función llamada ```jugar_ahorcado()``` con la palabra a adivinar y el número de vidas para seleccionar la dificultad como argumentos de entrada."
   ]
  },
  {
   "cell_type": "code",
   "execution_count": null,
   "metadata": {},
   "outputs": [],
   "source": []
  }
 ],
 "metadata": {
  "kernelspec": {
   "display_name": "Python 3.7.4 64-bit",
   "language": "python",
   "name": "python3"
  },
  "language_info": {
   "codemirror_mode": {
    "name": "ipython",
    "version": 3
   },
   "file_extension": ".py",
   "mimetype": "text/x-python",
   "name": "python",
   "nbconvert_exporter": "python",
   "pygments_lexer": "ipython3",
   "version": "3.11.9"
  },
  "orig_nbformat": 4,
  "vscode": {
   "interpreter": {
    "hash": "90139cb9a825bf3d63f6f6704e828dbd1ff7edbd4d0c6e906a71235d6efc74af"
   }
  }
 },
 "nbformat": 4,
 "nbformat_minor": 2
}
