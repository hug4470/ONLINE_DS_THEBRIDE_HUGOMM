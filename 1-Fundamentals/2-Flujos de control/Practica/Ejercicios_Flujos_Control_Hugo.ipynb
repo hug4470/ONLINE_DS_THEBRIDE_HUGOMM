{
 "cells": [
  {
   "cell_type": "markdown",
   "metadata": {},
   "source": [
    "![imagen](./img/ejercicios.png)"
   ]
  },
  {
   "cell_type": "markdown",
   "metadata": {},
   "source": [
    "# Ejercicios Flujos de control"
   ]
  },
  {
   "cell_type": "markdown",
   "metadata": {},
   "source": [
    "## Ejercicio 1\n",
    "Declara una variable numérica que será una hora cualquiera del día. Implementa la siguiente casuística:\n",
    "\n",
    "* Si es entre las 0 y las 8, print \"Durmiendo\"\n",
    "* Si es entre las 9 y las 18, print \"Trabajando\"\n",
    "* Si es entre las 19 y las 21, print \"Clase\"\n",
    "* Si es entre las 22 y las 24, print \"Descanso\"\n",
    "* En cualquier otro caso, print \"Transporte o error\""
   ]
  },
  {
   "cell_type": "code",
   "execution_count": 1,
   "metadata": {},
   "outputs": [
    {
     "name": "stdout",
     "output_type": "stream",
     "text": [
      "Trabajando\n"
     ]
    }
   ],
   "source": [
    "hora_aleatoria = 14\n",
    "\n",
    "if hora_aleatoria >= 0 and hora_aleatoria <= 8:\n",
    "    print (\"Durmiendo\")\n",
    "elif hora_aleatoria >= 9 and hora_aleatoria <= 18:\n",
    "    print (\"Trabajando\")\n",
    "elif hora_aleatoria >= 19 and hora_aleatoria <= 21:\n",
    "    print (\"Clase\") \n",
    "# Pre-corrección: elif hora_aleatoria >= 22 and hora_aleatoria <= 22:\n",
    "elif hora_aleatoria >= 22 and hora_aleatoria < 24:\n",
    "    print (\"Descanso\")\n",
    "else:\n",
    "    print (\"Transporte o error\")"
   ]
  },
  {
   "cell_type": "markdown",
   "metadata": {},
   "source": [
    "## Ejercicio 2\n",
    "En este ejercicio vamos a implementar un calculador de precios de casas muy sencillo. Tenemos las siguientes variables:\n",
    "\n",
    "> superficie\n",
    ">\n",
    "> distrito\n",
    "\n",
    "Implementa la siguiente casuística:\n",
    "\n",
    "1. Si el distrito es \"Moncloa\" o \"Centro\", y además la superficie es superior a 100 metros cuadrados, el precio de la casa es de 1000\n",
    "2. Si el distrito es \"Salamanca\", y además la superficie de la casa es al menos de 150 metros, el precio de la casa es de 1500\n",
    "3. Si el distrito no es \"Retiro\" y la superficie está entre 60 y 80 metros, el precio es de 600\n",
    "4. En cualquier otro caso, el precio será de 0"
   ]
  },
  {
   "cell_type": "code",
   "execution_count": 2,
   "metadata": {},
   "outputs": [
    {
     "ename": "ValueError",
     "evalue": "invalid literal for int() with base 10: ''",
     "output_type": "error",
     "traceback": [
      "\u001b[1;31m---------------------------------------------------------------------------\u001b[0m",
      "\u001b[1;31mValueError\u001b[0m                                Traceback (most recent call last)",
      "Cell \u001b[1;32mIn[2], line 6\u001b[0m\n\u001b[0;32m      2\u001b[0m superficie \u001b[38;5;241m=\u001b[39m \u001b[38;5;28minput\u001b[39m (\u001b[38;5;124m\"\u001b[39m\u001b[38;5;124m¿Qué superficie tiene?\u001b[39m\u001b[38;5;124m\"\u001b[39m)\n\u001b[0;32m      3\u001b[0m precio_casa \u001b[38;5;241m=\u001b[39m \u001b[38;5;241m0\u001b[39m\n\u001b[1;32m----> 6\u001b[0m \u001b[38;5;28;01mif\u001b[39;00m (distrito \u001b[38;5;241m==\u001b[39m \u001b[38;5;124m\"\u001b[39m\u001b[38;5;124mMoncloa\u001b[39m\u001b[38;5;124m\"\u001b[39m \u001b[38;5;129;01mor\u001b[39;00m \u001b[38;5;124m\"\u001b[39m\u001b[38;5;124mCentro\u001b[39m\u001b[38;5;124m\"\u001b[39m) \u001b[38;5;129;01mand\u001b[39;00m (\u001b[38;5;28;43mint\u001b[39;49m\u001b[43m(\u001b[49m\u001b[43msuperficie\u001b[49m\u001b[43m)\u001b[49m \u001b[38;5;241m>\u001b[39m \u001b[38;5;241m100\u001b[39m):\n\u001b[0;32m      7\u001b[0m     precio_casa \u001b[38;5;241m+\u001b[39m\u001b[38;5;241m=\u001b[39m \u001b[38;5;241m1000\u001b[39m\n\u001b[0;32m      8\u001b[0m \u001b[38;5;28;01melif\u001b[39;00m distrito \u001b[38;5;241m==\u001b[39m \u001b[38;5;124m\"\u001b[39m\u001b[38;5;124mSalamanca\u001b[39m\u001b[38;5;124m\"\u001b[39m \u001b[38;5;129;01mand\u001b[39;00m \u001b[38;5;28mint\u001b[39m(superficie) \u001b[38;5;241m>\u001b[39m\u001b[38;5;241m=\u001b[39m \u001b[38;5;241m150\u001b[39m:\n",
      "\u001b[1;31mValueError\u001b[0m: invalid literal for int() with base 10: ''"
     ]
    }
   ],
   "source": [
    "distrito = input(\"¿Que distrito es?\")\n",
    "superficie = input (\"¿Qué superficie tiene?\")\n",
    "precio_casa = 0\n",
    "\n",
    "\n",
    "if (distrito == \"Moncloa\" or \"Centro\") and (int(superficie) > 100):\n",
    "    precio_casa += 1000\n",
    "elif distrito == \"Salamanca\" and int(superficie) >= 150:\n",
    "    precio_casa += 1500\n",
    "elif (distrito != \"Retiro\") and (int(superficie) > 60) and (int (superficie) < 80):\n",
    "    precio_casa += 600\n",
    "\n",
    "print (\"El precio será\", precio_casa)\n"
   ]
  },
  {
   "cell_type": "markdown",
   "metadata": {},
   "source": [
    "## Ejercicio 3\n",
    "En este ejercicio vamos a realizar un programa muy parecido. Para este caso queremos que se cumplan las siguientes condiciones:\n",
    "\n",
    "1. Primero se compruebe si el distrito es \"Retiro\". Si es asá, que imprima \"Distrito Retiro\", y si no, \"Otro distrito\"\n",
    "2. Si el distrito es \"Retiro\", comprueba si la superficie es mayor de 100 metros cuadrados. En tal caso, que imprima un precio de 1000, y si no, de 500.\n",
    "\n",
    "Prueba a usar `ifs` anidados"
   ]
  },
  {
   "cell_type": "code",
   "execution_count": 43,
   "metadata": {},
   "outputs": [
    {
     "name": "stdout",
     "output_type": "stream",
     "text": [
      "Otro distrito\n"
     ]
    }
   ],
   "source": [
    "distrito2 = input(\"¿Que distrito es?\")\n",
    "superficie2 = input (\"¿Qué superficie tiene?\")\n",
    "\n",
    "if distrito2 == \"Retiro\":\n",
    "    print (\"Distrito Retiro\")\n",
    "    if int(superficie2) > 100:\n",
    "        print (\"Precio: 1000€\")\n",
    "    else:\n",
    "        print (\"Precio: 500€\")\n",
    "else:\n",
    "    print (\"Otro distrito\")\n"
   ]
  },
  {
   "cell_type": "markdown",
   "metadata": {},
   "source": [
    "## Ejercicio 4\n",
    "Escribe un programa que tenga dos variables: un numero, y una lista numérica. El programa debe recorrer la lista e imprimir por pantalla cada elemento de la lista multiplicado por el número"
   ]
  },
  {
   "cell_type": "code",
   "execution_count": 170,
   "metadata": {},
   "outputs": [
    {
     "name": "stdout",
     "output_type": "stream",
     "text": [
      "2\n",
      "4\n",
      "8\n",
      "10\n",
      "12\n",
      "14\n"
     ]
    }
   ],
   "source": [
    "multiplicador = 2\n",
    "lista_numerica = [1, 2, 4, 5, 6, 7]\n",
    "\n",
    "for numero in lista_numerica:\n",
    "    producto = numero * multiplicador\n",
    "    print(producto)"
   ]
  },
  {
   "cell_type": "code",
   "execution_count": 5,
   "metadata": {},
   "outputs": [
    {
     "name": "stdout",
     "output_type": "stream",
     "text": [
      "2\n",
      "4\n",
      "8\n",
      "10\n",
      "12\n",
      "14\n"
     ]
    }
   ],
   "source": [
    "# COREECCIÓN\n",
    "multiplicador = 2\n",
    "lista_numerica = [1, 2, 4, 5, 6, 7]\n",
    "\n",
    "for numero in lista_numerica:\n",
    "    print(numero * multiplicador)"
   ]
  },
  {
   "cell_type": "code",
   "execution_count": 7,
   "metadata": {},
   "outputs": [
    {
     "name": "stdout",
     "output_type": "stream",
     "text": [
      "[2, 4, 8, 10, 12, 14]\n"
     ]
    }
   ],
   "source": [
    "# LIST COMPREHENSION\n",
    "lista_2 = [numero * multiplicador for numero in lista_numerica]\n",
    "print (lista_2)"
   ]
  },
  {
   "cell_type": "code",
   "execution_count": 11,
   "metadata": {},
   "outputs": [
    {
     "name": "stdout",
     "output_type": "stream",
     "text": [
      "0 1\n",
      "1 2\n",
      "2 4\n",
      "3 5\n",
      "4 6\n",
      "5 7\n"
     ]
    }
   ],
   "source": [
    "# Para posiciones (índices)\n",
    "for i in range(len(lista_numerica)):\n",
    "    print(i, lista_numerica[i])"
   ]
  },
  {
   "cell_type": "markdown",
   "metadata": {},
   "source": [
    "## Ejercicio 5\n",
    "Imprime por pantalla cada número del -10 al -1. En ese orden. Consulta [la documentación](https://www.w3schools.com/python/ref_func_range.asp) de `range`"
   ]
  },
  {
   "cell_type": "code",
   "execution_count": 13,
   "metadata": {},
   "outputs": [
    {
     "name": "stdout",
     "output_type": "stream",
     "text": [
      "-10\n",
      "-9\n",
      "-8\n",
      "-7\n",
      "-6\n",
      "-5\n",
      "-4\n",
      "-3\n",
      "-2\n",
      "-1\n"
     ]
    }
   ],
   "source": [
    "for numero in range(-10, 0):\n",
    "    print (numero)"
   ]
  },
  {
   "cell_type": "markdown",
   "metadata": {},
   "source": [
    "## Ejercicio 6\n",
    "Dada la siguiente lista:\n",
    "\n",
    "> list1 = [12, 15, 32, 42, 55, 75, 122, 132, 150, 180, 200]\n",
    "\n",
    "Implementa un programa que los recorra e imprima por pantalla todos los divisibles por 5. Si nos encontramos con alguno que sea mayor que 150, detener el bucle."
   ]
  },
  {
   "cell_type": "code",
   "execution_count": 24,
   "metadata": {},
   "outputs": [
    {
     "name": "stdout",
     "output_type": "stream",
     "text": [
      "15\n",
      "55\n",
      "75\n",
      "150\n"
     ]
    }
   ],
   "source": [
    "list1 = [12, 15, 32, 42, 55, 75, 122, 132, 150, 180, 200, 25]\n",
    "\n",
    "\n",
    "for numero in list1:\n",
    "    if numero <= 150:\n",
    "        if numero % 5 == 0:\n",
    "            print (numero)\n",
    "  \n",
    "    \n",
    "    "
   ]
  },
  {
   "cell_type": "code",
   "execution_count": 23,
   "metadata": {},
   "outputs": [
    {
     "name": "stdout",
     "output_type": "stream",
     "text": [
      "15\n",
      "55\n",
      "75\n",
      "150\n"
     ]
    }
   ],
   "source": [
    "# CORRECCIÓN (HABÍA QUE USAR BREAK)\n",
    "for numero in list1:\n",
    "    if numero > 150:\n",
    "        break\n",
    "    if numero % 5 == 0:\n",
    "        print (numero)"
   ]
  },
  {
   "attachments": {},
   "cell_type": "markdown",
   "metadata": {},
   "source": [
    "## Ejercicio 7\n",
    "Escribe un programa en Python que imprima por pantalla todos los números que cumplan que sean divisibles por 5 y divisibles por 7, dentro del rango de valores (150, 350)."
   ]
  },
  {
   "cell_type": "code",
   "execution_count": 25,
   "metadata": {},
   "outputs": [
    {
     "name": "stdout",
     "output_type": "stream",
     "text": [
      "175\n",
      "210\n",
      "245\n",
      "280\n",
      "315\n"
     ]
    }
   ],
   "source": [
    "for numero in range (150, 350, 1):\n",
    "    if numero % 5 == 0 and numero % 7 == 0:\n",
    "        print (numero)"
   ]
  },
  {
   "cell_type": "markdown",
   "metadata": {},
   "source": [
    "## Ejercicio 8\n",
    "Implementa un programa que imprima por pantalla el siguiente patrón\n",
    "\n",
    "5 4 3 2 1 \n",
    "\n",
    "4 3 2 1 \n",
    "\n",
    "3 2 1 \n",
    "\n",
    "2 1 \n",
    "\n",
    "1\n",
    "\n",
    "NOTA: NO hay lineas en blanco entre una línea y otra."
   ]
  },
  {
   "cell_type": "code",
   "execution_count": 29,
   "metadata": {},
   "outputs": [
    {
     "name": "stdout",
     "output_type": "stream",
     "text": [
      "5 4 3 2 1\n",
      "4 3 2 1\n",
      "3 2 1\n",
      "2 1\n",
      "1\n"
     ]
    }
   ],
   "source": [
    "lista = [5, 4, 3, 2, 1]\n",
    "while len(lista) > 0:\n",
    "        print (str(lista).replace(\",\",\"\").replace(\"[\", \"\").replace(\"]\",\"\"))\n",
    "        lista.pop(0)\n",
    "\n",
    "\n"
   ]
  },
  {
   "cell_type": "code",
   "execution_count": 30,
   "metadata": {},
   "outputs": [
    {
     "name": "stdout",
     "output_type": "stream",
     "text": [
      "5 4 3 2 1\n",
      "4 3 2 1\n",
      "3 2 1\n",
      "2 1\n",
      "1\n"
     ]
    }
   ],
   "source": [
    "# CORRECCIÓN\n",
    "lista = [5, 4, 3, 2, 1]\n",
    "while len(lista) > 0:\n",
    "        print (*lista)\n",
    "        lista.pop(0)\n",
    "\n",
    "\n"
   ]
  },
  {
   "cell_type": "code",
   "execution_count": 32,
   "metadata": {},
   "outputs": [
    {
     "name": "stdout",
     "output_type": "stream",
     "text": [
      "5 4 3 2 1\n",
      "4 3 2 1\n",
      "3 2 1\n",
      "2 1\n",
      "1\n"
     ]
    }
   ],
   "source": [
    "# CORRECCIÓN 2\n",
    "i = 0\n",
    "lista = [5, 4, 3, 2, 1]\n",
    "while i < len(lista):\n",
    "    print(*lista[i:])\n",
    "    i = i + 1"
   ]
  },
  {
   "cell_type": "markdown",
   "metadata": {},
   "source": [
    "## Ejercicio 9\n",
    "En este ejercicio vamos a crear un pequeño juego. Se trata de intentar adivinar un numero del 1 al 5. Tenemos dos intentos para acertar. Pasos a seguir:\n",
    "\n",
    "1. Ya viene implementado con la librería `random` cómo obtener un número aleatorio del 1 al 5\n",
    "2. Tendrás que declarar en una variable el numero de vidas, y mediante un bucle while, comprobar que todavia quedan vidas.\n",
    "3. Dentro del bucle, obtener el valor del usuario y comprobar si es ese el numero a adivinar. Si no, actualizar las vidas.\n",
    "4. Si acertamos, salimos del bucle e imprimimos por pantalla \"You win\". Y si perdemos también salimos del bucle, pero en este caso imprimimos por pantalla \"You lose\".\n",
    "\n",
    "TIP: te puede resultar útil usar la sentencia `else` cuando acabe el bucle `while`. Lo que haya dentro de ese `else` se ejecutará una vez acabe la ejecución del `while`. Lo podrás usar para cuando pierdas."
   ]
  },
  {
   "cell_type": "code",
   "execution_count": 5,
   "metadata": {},
   "outputs": [],
   "source": [
    "import random\n",
    "import time\n",
    "def jugar():\n",
    "    aleatorio = random.randint(1,5)\n",
    "    print (aleatorio)\n",
    "    vidas = 2\n",
    "    # print (aleatorio)\n",
    "    print (\"Bienvenido a una nueva partida\")\n",
    "\n",
    "    valor = input (\"¿Qué numero del 1 al 10 eliges?\")\n",
    "    valor_entero = int(valor)\n",
    "\n",
    "\n",
    "    while vidas == 2:\n",
    "        \n",
    "        if valor_entero == aleatorio:\n",
    "            print (\"You win!\")\n",
    "            break\n",
    "        else: \n",
    "            vidas -= 1\n",
    "            print (\"You lose\")\n",
    "            print (\"Te queda una vida\")\n",
    "            time.sleep (1)\n",
    "            valor2 = input (\"Inténtalo otra vez\")\n",
    "            valor2_entero = int (valor2)\n",
    "            if valor2_entero == aleatorio:\n",
    "                print (\"You win!\")\n",
    "            else:\n",
    "                vidas -= 1\n",
    "                print (\"You lose. No te quedan vidas.\")\n",
    "                jugar()"
   ]
  },
  {
   "cell_type": "code",
   "execution_count": 6,
   "metadata": {},
   "outputs": [
    {
     "name": "stdout",
     "output_type": "stream",
     "text": [
      "2\n",
      "Bienvenido a una nueva partida\n",
      "You win!\n"
     ]
    }
   ],
   "source": [
    "jugar()"
   ]
  },
  {
   "cell_type": "code",
   "execution_count": 38,
   "metadata": {},
   "outputs": [
    {
     "name": "stdout",
     "output_type": "stream",
     "text": [
      "4\n",
      "Tienes 2 vidas\n",
      "No has acertado\n",
      "Tienes 1 vidas\n",
      "Has acertado\n"
     ]
    }
   ],
   "source": [
    "# CORRECCIÓN \n",
    "# Ha metido el input inicial en el bucle while, así que se reinicia solo, \n",
    "# no hace falta otro input en el else como hice yo en el primer ejercicio\n",
    "\n",
    "vidas = 2\n",
    "# print (aleatorio)\n",
    "\n",
    "while vidas > 0:\n",
    "    print (\"Tienes\", vidas, \"vidas\")\n",
    "    numero_usuario = int (input(\"ELige un número del 1 al 5\"))\n",
    "    if numero_usuario == aleatorio:\n",
    "        print (\"Has acertado\")\n",
    "        break\n",
    "    else: \n",
    "        print (\"No has acertado\")\n",
    "        vidas -= 1\n",
    "else: \n",
    "    print (\"Fin del juego\")"
   ]
  },
  {
   "cell_type": "code",
   "execution_count": 47,
   "metadata": {},
   "outputs": [],
   "source": [
    "# LO CONVERTIMOS EN FUNCIÓN\n",
    "\n",
    "def jugar ():\n",
    "    vidas = 2\n",
    "    # print (aleatorio)\n",
    "\n",
    "    while vidas > 0:\n",
    "        print (\"Tienes\", vidas, \"vidas\")\n",
    "        numero_usuario = int (input(\"Elige un número del 1 al 5\"))\n",
    "        if numero_usuario == aleatorio:\n",
    "            print (\"Has acertado\")\n",
    "            break\n",
    "        else: \n",
    "            print (\"No has acertado\")\n",
    "            vidas -= 1\n",
    "    else: \n",
    "        print (\"Fin del juego\")"
   ]
  },
  {
   "cell_type": "code",
   "execution_count": 63,
   "metadata": {},
   "outputs": [
    {
     "data": {
      "text/plain": [
       "0"
      ]
     },
     "execution_count": 63,
     "metadata": {},
     "output_type": "execute_result"
    }
   ],
   "source": []
  }
 ],
 "metadata": {
  "kernelspec": {
   "display_name": "Python 3.7.4 64-bit",
   "language": "python",
   "name": "python3"
  },
  "language_info": {
   "codemirror_mode": {
    "name": "ipython",
    "version": 3
   },
   "file_extension": ".py",
   "mimetype": "text/x-python",
   "name": "python",
   "nbconvert_exporter": "python",
   "pygments_lexer": "ipython3",
   "version": "3.11.9"
  },
  "vscode": {
   "interpreter": {
    "hash": "90139cb9a825bf3d63f6f6704e828dbd1ff7edbd4d0c6e906a71235d6efc74af"
   }
  }
 },
 "nbformat": 4,
 "nbformat_minor": 4
}
