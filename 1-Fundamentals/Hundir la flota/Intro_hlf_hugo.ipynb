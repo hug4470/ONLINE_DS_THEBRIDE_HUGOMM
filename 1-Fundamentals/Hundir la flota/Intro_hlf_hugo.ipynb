{
 "cells": [
  {
   "cell_type": "markdown",
   "metadata": {},
   "source": [
    "![imagen](./img/hundir-la-flota-juego-de-mesa.jpg)"
   ]
  },
  {
   "cell_type": "markdown",
   "metadata": {},
   "source": [
    "En esta entrega vas a crear tu propio juego de **Hundir la flota** en Python. \n",
    "[Aquí](http://es.battleship-game.org/) podrás probarlo online."
   ]
  },
  {
   "attachments": {},
   "cell_type": "markdown",
   "metadata": {},
   "source": [
    "### En clase\n",
    "1. Crea la función `crear_tablero(tamaño)`, un tablero por defecto de 10x10 relleno del carácter \"_\" con numpy.\n",
    "2. Crea la función `colocar_barco(barco, tablero)`, que recibirá la lista de casillas de un barco y el tablero donde colocarlo. Prueba primero a posicionar un par de barcos por ejemplo en [(0,1), (1,1)] y [(1,3), (1,4), (1,5), (1,6)]. Los barcos serán Os mayúsculas. Como ves, un barco de dos posiciones de eslora y otro de cuatro.\n",
    "3. Crea la función `disparar(casilla, barco)`, si el disparo acierta en un barco sustituye la O por una X (tocado), si es agua, sustituye la _ por una A (Agua). Prueba primero a disparar el barco de 2 casillas.\n",
    "4. Crea la función `crear_barco(eslora)`, que deberá crear una lista de casillas de un barco en función a la eslora, de forma aleatoria.\n",
    "\n",
    "### Proyecto individual\n",
    "5. Crea la función `colocar_barcos(tablero)`, que deberá de colocar la lista de barcos generados de forma aleatoria (6 barcos en total (3x2, 2x3 y 1x4)) ¡Mucho ojo con barcos que estén superpuestos (no pueden ocupar dos barcos la misma casilla) o barcos que se salgan del tablero!\n",
    "6. Escribe el flujo completo del programa, con la dinámica de turnos y funcionalidades necesarios para jugar contra la máquina (dispara a tu tablero de forma aleatoria). Crea todas las funciones que necesites y aplica todo lo aprendido que te sea útil.\n",
    "7. Encapsula todo en un `main.py` y un `utils.py` para ejecutarlo desde terminal.\n",
    "8. Sube tu proyecto a un repositorio de github y prepara una demo (solo se podrá enseñar desde terminal) para la presentación de tu proyecto."
   ]
  },
  {
   "cell_type": "markdown",
   "metadata": {},
   "source": [
    "## Presentación\n",
    "Cada uno realizará una presentación el **viernes 27 de septiembre**, donde se contarán con **10 minutos máximo**, importante ceñirse al tiempo. Se tendrá que enseñar:\n",
    "1. El git clone del repositorio de github a tu ordenador y explicar las partes más relevantes del código.\n",
    "2. Una demo donde se muestre el correcto funcionamiento del código para jugar, ejecutándose desde terminal"
   ]
  },
  {
   "cell_type": "code",
   "execution_count": 25,
   "metadata": {},
   "outputs": [
    {
     "ename": "ModuleNotFoundError",
     "evalue": "No module named 'utils'",
     "output_type": "error",
     "traceback": [
      "\u001b[1;31m---------------------------------------------------------------------------\u001b[0m",
      "\u001b[1;31mModuleNotFoundError\u001b[0m                       Traceback (most recent call last)",
      "Cell \u001b[1;32mIn[25], line 2\u001b[0m\n\u001b[0;32m      1\u001b[0m \u001b[38;5;28;01mimport\u001b[39;00m \u001b[38;5;21;01mnumpy\u001b[39;00m \u001b[38;5;28;01mas\u001b[39;00m \u001b[38;5;21;01mnp\u001b[39;00m\n\u001b[1;32m----> 2\u001b[0m \u001b[38;5;28;01mimport\u001b[39;00m \u001b[38;5;21;01mutils\u001b[39;00m\n",
      "\u001b[1;31mModuleNotFoundError\u001b[0m: No module named 'utils'"
     ]
    }
   ],
   "source": [
    "import numpy as np\n",
    "import utils"
   ]
  },
  {
   "cell_type": "code",
   "execution_count": 9,
   "metadata": {},
   "outputs": [
    {
     "name": "stdout",
     "output_type": "stream",
     "text": [
      "[['_' '_' '_' '_' '_' '_' '_' '_' '_' '_']\n",
      " ['_' '_' '_' '_' '_' '_' '_' '_' '_' '_']\n",
      " ['_' '_' '_' '_' '_' '_' '_' '_' '_' '_']\n",
      " ['_' '_' '_' '_' '_' '_' '_' '_' '_' '_']\n",
      " ['_' '_' '_' '_' '_' '_' '_' '_' '_' '_']\n",
      " ['_' '_' '_' '_' '_' '_' '_' '_' '_' '_']\n",
      " ['_' '_' '_' '_' '_' '_' '_' '_' '_' '_']\n",
      " ['_' '_' '_' '_' '_' '_' '_' '_' '_' '_']\n",
      " ['_' '_' '_' '_' '_' '_' '_' '_' '_' '_']\n",
      " ['_' '_' '_' '_' '_' '_' '_' '_' '_' '_']]\n"
     ]
    }
   ],
   "source": [
    "tablero = np.full((10,10), \"_\")\n",
    "print(tablero)"
   ]
  },
  {
   "cell_type": "code",
   "execution_count": 10,
   "metadata": {},
   "outputs": [
    {
     "name": "stdout",
     "output_type": "stream",
     "text": [
      "[['A' '_' '_' '_' '_' '_' '_' '_' '_' '_']\n",
      " ['_' '_' '_' '_' '_' '_' '_' '_' '_' '_']\n",
      " ['_' '_' '_' '_' '_' '_' '_' '_' '_' '_']\n",
      " ['_' '_' '_' '_' '_' '_' '_' '_' '_' '_']\n",
      " ['_' '_' '_' '_' '_' '_' '_' '_' '_' '_']\n",
      " ['_' '_' '_' '_' '_' '_' '_' '_' '_' '_']\n",
      " ['_' '_' '_' '_' '_' '_' '_' '_' '_' '_']\n",
      " ['_' '_' '_' '_' '_' '_' '_' '_' '_' '_']\n",
      " ['_' '_' '_' '_' '_' '_' '_' '_' '_' '_']\n",
      " ['_' '_' '_' '_' '_' '_' '_' '_' '_' 'B']]\n"
     ]
    }
   ],
   "source": [
    "# ACCEDEMOS A LA PRIMERA FILA, PRIMERA CASILLA\n",
    "tablero[0][0] = \"A\"\n",
    "tablero[9][9] = \"B\" #TABLERO FILA COLUMNA\n",
    "print(tablero)"
   ]
  },
  {
   "cell_type": "code",
   "execution_count": 11,
   "metadata": {},
   "outputs": [],
   "source": [
    "def crear_tablero(tamaño = 10):\n",
    "    tablero = np.full((tamaño,tamaño), \"_\")\n",
    "    return tablero"
   ]
  },
  {
   "cell_type": "code",
   "execution_count": 12,
   "metadata": {},
   "outputs": [
    {
     "name": "stdout",
     "output_type": "stream",
     "text": [
      "[['_' '_' '_' '_' '_' '_' '_' '_' '_' '_']\n",
      " ['_' '_' '_' '_' '_' '_' '_' '_' '_' '_']\n",
      " ['_' '_' '_' '_' '_' '_' '_' '_' '_' '_']\n",
      " ['_' '_' '_' '_' '_' '_' '_' '_' '_' '_']\n",
      " ['_' '_' '_' '_' '_' '_' '_' '_' '_' '_']\n",
      " ['_' '_' '_' '_' '_' '_' '_' '_' '_' '_']\n",
      " ['_' '_' '_' '_' '_' '_' '_' '_' '_' '_']\n",
      " ['_' '_' '_' '_' '_' '_' '_' '_' '_' '_']\n",
      " ['_' '_' '_' '_' '_' '_' '_' '_' '_' '_']\n",
      " ['_' '_' '_' '_' '_' '_' '_' '_' '_' '_']]\n"
     ]
    }
   ],
   "source": [
    "tablero = crear_tablero()\n",
    "print(tablero)"
   ]
  },
  {
   "cell_type": "code",
   "execution_count": 13,
   "metadata": {},
   "outputs": [],
   "source": [
    "barco_1 =[(0,1), (1,1)]\n",
    "barco_2 = [(1,3), (1,4), (1,5), (1,6)]"
   ]
  },
  {
   "cell_type": "code",
   "execution_count": 14,
   "metadata": {},
   "outputs": [
    {
     "name": "stdout",
     "output_type": "stream",
     "text": [
      "[['_' 'O' '_' '_' '_' '_' '_' '_' '_' '_']\n",
      " ['_' 'O' '_' 'O' 'O' 'O' 'O' '_' '_' '_']\n",
      " ['_' '_' '_' '_' '_' '_' '_' '_' '_' '_']\n",
      " ['_' '_' '_' '_' '_' '_' '_' '_' '_' '_']\n",
      " ['_' '_' '_' '_' '_' '_' '_' '_' '_' '_']\n",
      " ['_' '_' '_' '_' '_' '_' '_' '_' '_' '_']\n",
      " ['_' '_' '_' '_' '_' '_' '_' '_' '_' '_']\n",
      " ['_' '_' '_' '_' '_' '_' '_' '_' '_' '_']\n",
      " ['_' '_' '_' '_' '_' '_' '_' '_' '_' '_']\n",
      " ['_' '_' '_' '_' '_' '_' '_' '_' '_' '_']]\n"
     ]
    }
   ],
   "source": [
    "for casilla in barco_1:\n",
    "    tablero[casilla] = \"O\"\n",
    "for casilla in barco_2:\n",
    "    tablero[casilla] = \"O\"\n",
    "\n",
    "print(tablero)"
   ]
  },
  {
   "cell_type": "code",
   "execution_count": 15,
   "metadata": {},
   "outputs": [],
   "source": [
    "def colocar_barco(barco, tablero):\n",
    "    for casilla in barco:\n",
    "            tablero[casilla] = \"O\"\n",
    "    return tablero"
   ]
  },
  {
   "cell_type": "code",
   "execution_count": 16,
   "metadata": {},
   "outputs": [
    {
     "name": "stdout",
     "output_type": "stream",
     "text": [
      "[['_' 'O' '_' '_' '_' '_' '_' '_' '_' '_']\n",
      " ['_' 'O' '_' 'O' 'O' 'O' 'O' '_' '_' '_']\n",
      " ['_' '_' '_' '_' '_' '_' '_' '_' '_' '_']\n",
      " ['_' '_' '_' '_' '_' '_' '_' '_' '_' '_']\n",
      " ['_' '_' '_' '_' '_' '_' '_' '_' '_' '_']\n",
      " ['_' '_' '_' '_' '_' '_' '_' '_' '_' '_']\n",
      " ['_' '_' '_' '_' '_' '_' '_' '_' '_' '_']\n",
      " ['_' '_' '_' '_' '_' '_' '_' '_' '_' '_']\n",
      " ['_' '_' '_' '_' '_' '_' '_' '_' '_' '_']\n",
      " ['_' '_' '_' '_' '_' '_' '_' '_' '_' '_']]\n"
     ]
    }
   ],
   "source": [
    "tablero = crear_tablero()\n",
    "\n",
    "barco1 =[(0,1), (1,1)]\n",
    "barco2 = [(1,3), (1,4), (1,5), (1,6)]\n",
    "\n",
    "\n",
    "tablero = colocar_barco(barco1, tablero)\n",
    "tablero = colocar_barco (barco2,tablero)\n",
    "\n",
    "print (tablero)"
   ]
  },
  {
   "cell_type": "markdown",
   "metadata": {},
   "source": [
    "3. Crea la función `disparar(casilla, barco)`, si el disparo acierta en un barco sustituye la O por una X (tocado), si es agua, sustituye la _ por una A (Agua). Prueba primero a disparar el barco de 2 casillas."
   ]
  },
  {
   "cell_type": "code",
   "execution_count": 17,
   "metadata": {},
   "outputs": [],
   "source": [
    "def disparar (casilla,tablero):\n",
    "    if tablero[casilla] == \"O\":\n",
    "        print(\"Tocado\")\n",
    "        tablero[casilla] = \"X\"\n",
    "    else:\n",
    "        print(\"Agua\")\n",
    "        tablero[casilla] = \"A\"\n",
    "    return tablero"
   ]
  },
  {
   "cell_type": "code",
   "execution_count": 20,
   "metadata": {},
   "outputs": [
    {
     "name": "stdout",
     "output_type": "stream",
     "text": [
      "Agua\n",
      "Tocado\n",
      "Tocado\n",
      "[['A' 'X' '_' '_' '_' '_' '_' '_' '_' '_']\n",
      " ['_' 'X' '_' 'O' 'O' 'O' 'O' '_' '_' '_']\n",
      " ['_' '_' '_' '_' '_' '_' '_' '_' '_' '_']\n",
      " ['_' '_' '_' '_' '_' '_' '_' '_' '_' '_']\n",
      " ['_' '_' '_' '_' '_' '_' '_' '_' '_' '_']\n",
      " ['_' '_' '_' '_' '_' '_' '_' '_' '_' '_']\n",
      " ['_' '_' '_' '_' '_' '_' '_' '_' '_' '_']\n",
      " ['_' '_' '_' '_' '_' '_' '_' '_' '_' '_']\n",
      " ['_' '_' '_' '_' '_' '_' '_' '_' '_' '_']\n",
      " ['_' '_' '_' '_' '_' '_' '_' '_' '_' '_']]\n"
     ]
    }
   ],
   "source": [
    "tablero = crear_tablero()\n",
    "\n",
    "barco1 =[(0,1), (1,1)]\n",
    "barco2 = [(1,3), (1,4), (1,5), (1,6)]\n",
    "\n",
    "\n",
    "tablero = colocar_barco(barco1, tablero)\n",
    "tablero = colocar_barco (barco2,tablero)\n",
    "\n",
    "tablero = disparar ((0,0), tablero)\n",
    "tablero = disparar ((0,1), tablero)\n",
    "tablero = disparar((1,1), tablero)\n",
    "\n",
    "print (tablero)"
   ]
  },
  {
   "cell_type": "markdown",
   "metadata": {},
   "source": [
    "4. Crea la función `crear_barco(eslora)`, que deberá crear una lista de casillas de un barco en función a la eslora, de forma aleatoria."
   ]
  },
  {
   "cell_type": "code",
   "execution_count": 7,
   "metadata": {},
   "outputs": [],
   "source": [
    "# Sabemos que un barco es una lista de una casilla 1 \n",
    "# y una casilla 2 (que a su vez son tuplas de las coordenadas de la casilla)\n",
    "# ambas coordenadas para cada casilla soon fila y luego columna.\n",
    "import random\n",
    "# barco = [casilla_1, casilla_2]\n",
    "\n",
    "# casilla_1 = (fila1, columna1)\n",
    "# casilla_2 = (fila2,columna2)\n",
    "\n",
    "# la orientacion dependerá de donde pongamos la segunda casilla (y el resto)\n",
    "\n",
    "orientacion = random.choice([\"Vertical\", \"Horizontal\"]) \n",
    "#Será aleatoria, en lista\n",
    "\n",
    "# si queremos casillas aleatorias:\n",
    "\n",
    "casilla_1 = (random.randint(0,9),(random.randint(0,9)))\n",
    "casilla_2 = (random.randint(0,9),(random.randint(0,9)))\n",
    "\n",
    "# para que las casillas vayan juntas\n",
    "fila = random.randint(0,9)\n",
    "columna = random.randint(0,9)\n",
    "casilla_1 = (fila, columna)\n",
    "casilla_2 = (fila, columna)\n",
    "\n",
    "# ahora mismo tenemos las dos casillas en el mismo sitio, depende de su orientación habrá que modificar la fila o clumna de la segunda casilla\n",
    "casilla_1 = (fila+1, columna) #VERTICAL. Añadirá en la siguiente fila, es decir, debajo.\n",
    "casilla_2 = (fila, columna+1) #HORIZONTAL. Añadirá en la siguiente columna, es decir, al lado.\n",
    "\n",
    "# hay que añadir un condicionante según la orientación\n",
    "if orientacion == \"Vertical\":\n",
    "    casilla_2 = (fila+1, columna) # Vertical\n",
    "else:\n",
    "    casilla_2 = (fila, columna+1) # Horizontal\n"
   ]
  },
  {
   "cell_type": "code",
   "execution_count": 29,
   "metadata": {},
   "outputs": [
    {
     "name": "stdout",
     "output_type": "stream",
     "text": [
      "[(4, 7), (4, 7)]\n"
     ]
    }
   ],
   "source": [
    "#  Ahora ya tenemos definido como crear un barco\n",
    "barco = [casilla_1, casilla_2]\n",
    "print(barco)\n"
   ]
  },
  {
   "cell_type": "code",
   "execution_count": 217,
   "metadata": {},
   "outputs": [],
   "source": [
    "# creamos función de crear barcos"
   ]
  },
  {
   "cell_type": "code",
   "execution_count": 3,
   "metadata": {},
   "outputs": [],
   "source": [
    "def crear_barco(eslora):\n",
    "    casilla = (random.randint(0,9),random.randint(0,9)) #solo necesitamos 1 casilla, porque la 2 sera su modificacion\n",
    "    orientacion = random.choice([\"Vertical\", \"Horizontal\"])\n",
    "\n",
    "    barco = [casilla] #Definimos que barco es una lista con un solo elemento, una casilla de momento, luego appendearemos la otra\n",
    "\n",
    "    while len(barco) < eslora:   #Comprueba la longitud del barco\n",
    "        if orientacion == \"Vertical\":\n",
    "            casilla = (casilla[0]+1, casilla[1]) #Se suma 1 a la primera posicion de la tupla casilla[0,X], para que sea vertical\n",
    "            barco.append(casilla)\n",
    "        else:\n",
    "            casilla =(casilla[0], casilla[1]+1)\n",
    "            barco.append(casilla)\n",
    "\n",
    "    return barco"
   ]
  },
  {
   "cell_type": "code",
   "execution_count": 24,
   "metadata": {},
   "outputs": [
    {
     "data": {
      "text/plain": [
       "[(1, 2), (1, 3)]"
      ]
     },
     "execution_count": 24,
     "metadata": {},
     "output_type": "execute_result"
    }
   ],
   "source": [
    "crear_barco(2)"
   ]
  },
  {
   "cell_type": "code",
   "execution_count": 87,
   "metadata": {},
   "outputs": [
    {
     "name": "stdout",
     "output_type": "stream",
     "text": [
      "Habrá que generar nuevo barco porque se sale del tablero\n",
      "Agua\n",
      "Agua\n",
      "Agua\n",
      "[['A' 'A' '_' '_' '_' '_' '_' 'O' 'O' 'O']\n",
      " ['_' 'A' '_' '_' '_' 'O' '_' '_' '_' '_']\n",
      " ['_' '_' '_' '_' '_' 'O' '_' '_' '_' '_']\n",
      " ['_' '_' '_' '_' '_' '_' '_' '_' '_' '_']\n",
      " ['_' '_' '_' '_' '_' '_' '_' '_' '_' '_']\n",
      " ['_' '_' '_' '_' '_' '_' '_' '_' '_' '_']\n",
      " ['_' '_' '_' '_' '_' '_' '_' '_' '_' '_']\n",
      " ['_' '_' '_' '_' '_' '_' '_' '_' '_' '_']\n",
      " ['_' '_' '_' '_' '_' '_' '_' '_' '_' '_']\n",
      " ['_' '_' '_' '_' '_' '_' '_' '_' '_' '_']]\n"
     ]
    }
   ],
   "source": [
    "# ACTUALICEMOS NUESTRO MAIN\n",
    "tablero = crear_tablero(10)    #generamos tablero\n",
    "\n",
    "barco_1 = crear_barco(2)       #creamos barcos\n",
    "barco_2 = crear_barco(4)\n",
    "try:                            #prevenimos por si esa casilla está en el tablero\n",
    "    tablero = colocar_barco(barco_1, tablero)\n",
    "    tablero = colocar_barco(barco_2, tablero)\n",
    "except:\n",
    "    print(\"Habrá que generar nuevo barco porque se sale del tablero\")\n",
    "\n",
    "tablero = disparar((0,0), tablero)\n",
    "tablero = disparar((0,1), tablero)\n",
    "tablero = disparar((1,1), tablero)\n",
    "\n",
    "print(tablero)"
   ]
  },
  {
   "cell_type": "markdown",
   "metadata": {},
   "source": [
    "5. Crea la función `colocar_barcos(tablero)`, que deberá de colocar la lista de barcos generados de forma aleatoria (6 barcos en total (3x2, 2x3 y 1x4)) ¡Mucho ojo con barcos que estén superpuestos (no pueden ocupar dos barcos la misma casilla) o barcos que se salgan del tablero!"
   ]
  },
  {
   "cell_type": "code",
   "execution_count": 841,
   "metadata": {},
   "outputs": [],
   "source": [
    "# "
   ]
  },
  {
   "cell_type": "code",
   "execution_count": 32,
   "metadata": {},
   "outputs": [
    {
     "ename": "NameError",
     "evalue": "name 'crear_tablero' is not defined",
     "output_type": "error",
     "traceback": [
      "\u001b[1;31m---------------------------------------------------------------------------\u001b[0m",
      "\u001b[1;31mNameError\u001b[0m                                 Traceback (most recent call last)",
      "Cell \u001b[1;32mIn[32], line 1\u001b[0m\n\u001b[1;32m----> 1\u001b[0m tablero \u001b[38;5;241m=\u001b[39m \u001b[43mcrear_tablero\u001b[49m(\u001b[38;5;241m10\u001b[39m)  \n\u001b[0;32m      3\u001b[0m \u001b[38;5;28;01mdef\u001b[39;00m \u001b[38;5;21mcolocar_barcos\u001b[39m(tablero):\n\u001b[0;32m      4\u001b[0m     flota \u001b[38;5;241m=\u001b[39m [crear_barco(\u001b[38;5;241m2\u001b[39m)]\u001b[38;5;241m+\u001b[39m[crear_barco(\u001b[38;5;241m2\u001b[39m)]\u001b[38;5;241m+\u001b[39m[crear_barco(\u001b[38;5;241m2\u001b[39m)] \u001b[38;5;241m+\u001b[39m [crear_barco(\u001b[38;5;241m3\u001b[39m)] \u001b[38;5;241m+\u001b[39m [crear_barco(\u001b[38;5;241m3\u001b[39m)] \u001b[38;5;241m+\u001b[39m [crear_barco(\u001b[38;5;241m4\u001b[39m)]\n",
      "\u001b[1;31mNameError\u001b[0m: name 'crear_tablero' is not defined"
     ]
    }
   ],
   "source": [
    "tablero = crear_tablero(10)  \n",
    "\n",
    "def colocar_barcos(tablero):\n",
    "    flota = [crear_barco(2)]+[crear_barco(2)]+[crear_barco(2)] + [crear_barco(3)] + [crear_barco(3)] + [crear_barco(4)]\n",
    "    print(flota)\n",
    "    # flota = [crear_barco(2), crear_barco(2),]\n",
    "    # print(flota)\n",
    "    for barco in flota:\n",
    "        # print(barco)\n",
    "        for casilla in barco:\n",
    "            if tablero[casilla] == \"_\" or (len(barco) < (len(tablero[0]) - len(barco))):\n",
    "                try:\n",
    "                    for barco in flota:\n",
    "                        colocar_barco(barco, tablero)\n",
    "                except:\n",
    "                    print(\"error\")\n",
    "                    # colocar_barcos(tablero)\n",
    "            # elif len (barco) > (len(tablero[1]) - int(barco[1])):\n",
    "            #     print(\"Error\")\n",
    "\n",
    "#colocar_barcos(tablero)\n",
    "colocar_barcos(tablero)\n",
    "print(tablero)"
   ]
  },
  {
   "cell_type": "code",
   "execution_count": 106,
   "metadata": {},
   "outputs": [
    {
     "name": "stdout",
     "output_type": "stream",
     "text": [
      "[[(4, 1), (5, 1)], [(9, 2), (9, 3)], [(0, 3), (0, 4)], [(6, 5), (7, 5), (8, 5)], [(2, 5), (3, 5), (4, 5)], [(5, 5), (6, 5), (7, 5), (8, 5)]]\n",
      "<class 'int'>\n",
      "<class 'int'>\n",
      "<class 'int'>\n",
      "<class 'int'>\n",
      "[[(6, 1), (7, 1)], [(0, 8), (0, 9)], [(6, 6), (6, 7)], [(8, 3), (8, 4), (8, 5)], [(0, 3), (1, 3), (2, 3)], [(5, 8), (6, 8), (7, 8), (8, 8)]]\n",
      "<class 'int'>\n",
      "<class 'int'>\n",
      "<class 'int'>\n",
      "<class 'int'>\n",
      "[[(7, 0), (8, 0)], [(9, 7), (9, 8)], [(1, 7), (2, 7)], [(7, 7), (7, 8), (7, 9)], [(5, 4), (6, 4), (7, 4)], [(0, 7), (0, 8), (0, 9), (0, 10)]]\n",
      "<class 'int'>\n",
      "<class 'int'>\n",
      "<class 'int'>\n",
      "<class 'int'>\n",
      "[[(4, 4), (4, 5)], [(8, 3), (9, 3)], [(1, 4), (2, 4)], [(2, 5), (3, 5), (4, 5)], [(3, 8), (3, 9), (3, 10)], [(9, 5), (9, 6), (9, 7), (9, 8)]]\n",
      "<class 'int'>\n",
      "<class 'int'>\n",
      "<class 'int'>\n",
      "<class 'int'>\n",
      "[[(7, 3), (7, 4)], [(5, 4), (5, 5)], [(1, 6), (2, 6)], [(7, 2), (7, 3), (7, 4)], [(9, 5), (10, 5), (11, 5)], [(9, 8), (9, 9), (9, 10), (9, 11)]]\n",
      "<class 'int'>\n",
      "<class 'int'>\n",
      "<class 'int'>\n",
      "<class 'int'>\n",
      "[[(1, 0), (1, 1)], [(4, 7), (5, 7)], [(2, 0), (3, 0)], [(9, 8), (9, 9), (9, 10)], [(0, 5), (1, 5), (2, 5)], [(3, 1), (3, 2), (3, 3), (3, 4)]]\n",
      "<class 'int'>\n",
      "<class 'int'>\n",
      "<class 'int'>\n",
      "<class 'int'>\n",
      "[[(2, 0), (2, 1)], [(3, 3), (3, 4)], [(3, 6), (3, 7)], [(6, 5), (6, 6), (6, 7)], [(5, 6), (6, 6), (7, 6)], [(8, 6), (9, 6), (10, 6), (11, 6)]]\n",
      "<class 'int'>\n",
      "<class 'int'>\n",
      "<class 'int'>\n",
      "<class 'int'>\n",
      "[[(3, 3), (3, 4)], [(0, 3), (1, 3)], [(8, 7), (9, 7)], [(7, 5), (8, 5), (9, 5)], [(2, 0), (2, 1), (2, 2)], [(2, 9), (3, 9), (4, 9), (5, 9)]]\n",
      "<class 'int'>\n",
      "<class 'int'>\n",
      "<class 'int'>\n",
      "<class 'int'>\n",
      "[[(3, 1), (4, 1)], [(4, 9), (4, 10)], [(2, 0), (3, 0)], [(9, 4), (10, 4), (11, 4)], [(7, 2), (8, 2), (9, 2)], [(9, 9), (9, 10), (9, 11), (9, 12)]]\n",
      "<class 'int'>\n",
      "<class 'int'>\n",
      "<class 'int'>\n",
      "<class 'int'>\n",
      "[[(9, 2), (10, 2)], [(7, 8), (8, 8)], [(7, 5), (8, 5)], [(4, 4), (4, 5), (4, 6)], [(0, 1), (0, 2), (0, 3)], [(0, 5), (1, 5), (2, 5), (3, 5)]]\n",
      "<class 'int'>\n",
      "<class 'int'>\n"
     ]
    },
    {
     "ename": "IndexError",
     "evalue": "index 10 is out of bounds for axis 0 with size 10",
     "output_type": "error",
     "traceback": [
      "\u001b[1;31m---------------------------------------------------------------------------\u001b[0m",
      "\u001b[1;31mIndexError\u001b[0m                                Traceback (most recent call last)",
      "Cell \u001b[1;32mIn[106], line 23\u001b[0m\n\u001b[0;32m     18\u001b[0m                 \u001b[38;5;28;01mreturn\u001b[39;00m flota\n\u001b[0;32m     19\u001b[0m             \u001b[38;5;66;03m# elif len (barco) > (len(tablero[1]) - int(barco[1])):\u001b[39;00m\n\u001b[0;32m     20\u001b[0m             \u001b[38;5;66;03m#     print(\"Error\")\u001b[39;00m\n\u001b[0;32m     21\u001b[0m \n\u001b[0;32m     22\u001b[0m \u001b[38;5;66;03m#colocar_barcos(tablero)\u001b[39;00m\n\u001b[1;32m---> 23\u001b[0m \u001b[43mcolocar_barcos\u001b[49m\u001b[43m(\u001b[49m\u001b[43mtablero\u001b[49m\u001b[43m)\u001b[49m\n\u001b[0;32m     24\u001b[0m \u001b[38;5;28mprint\u001b[39m(tablero)\n",
      "Cell \u001b[1;32mIn[106], line 14\u001b[0m, in \u001b[0;36mcolocar_barcos\u001b[1;34m(tablero)\u001b[0m\n\u001b[0;32m     12\u001b[0m \u001b[38;5;28mprint\u001b[39m(\u001b[38;5;28mtype\u001b[39m(\u001b[38;5;28mlen\u001b[39m(barco)))\n\u001b[0;32m     13\u001b[0m \u001b[38;5;28;01mif\u001b[39;00m (tablero[casilla] \u001b[38;5;241m==\u001b[39m \u001b[38;5;124m\"\u001b[39m\u001b[38;5;124mO\u001b[39m\u001b[38;5;124m\"\u001b[39m) \u001b[38;5;129;01mor\u001b[39;00m (\u001b[38;5;28mlen\u001b[39m(barco) \u001b[38;5;241m>\u001b[39m (\u001b[38;5;28mlen\u001b[39m(tablero[\u001b[38;5;241m0\u001b[39m]) \u001b[38;5;241m-\u001b[39m \u001b[38;5;28mlen\u001b[39m(barco))):\n\u001b[1;32m---> 14\u001b[0m     \u001b[43mcolocar_barcos\u001b[49m\u001b[43m(\u001b[49m\u001b[43mtablero\u001b[49m\u001b[43m)\u001b[49m\n\u001b[0;32m     15\u001b[0m \u001b[38;5;28;01melif\u001b[39;00m tablero[casilla] \u001b[38;5;241m==\u001b[39m \u001b[38;5;124m\"\u001b[39m\u001b[38;5;124m_\u001b[39m\u001b[38;5;124m\"\u001b[39m:\n\u001b[0;32m     16\u001b[0m     colocar_barco(barco, tablero)\n",
      "Cell \u001b[1;32mIn[106], line 14\u001b[0m, in \u001b[0;36mcolocar_barcos\u001b[1;34m(tablero)\u001b[0m\n\u001b[0;32m     12\u001b[0m \u001b[38;5;28mprint\u001b[39m(\u001b[38;5;28mtype\u001b[39m(\u001b[38;5;28mlen\u001b[39m(barco)))\n\u001b[0;32m     13\u001b[0m \u001b[38;5;28;01mif\u001b[39;00m (tablero[casilla] \u001b[38;5;241m==\u001b[39m \u001b[38;5;124m\"\u001b[39m\u001b[38;5;124mO\u001b[39m\u001b[38;5;124m\"\u001b[39m) \u001b[38;5;129;01mor\u001b[39;00m (\u001b[38;5;28mlen\u001b[39m(barco) \u001b[38;5;241m>\u001b[39m (\u001b[38;5;28mlen\u001b[39m(tablero[\u001b[38;5;241m0\u001b[39m]) \u001b[38;5;241m-\u001b[39m \u001b[38;5;28mlen\u001b[39m(barco))):\n\u001b[1;32m---> 14\u001b[0m     \u001b[43mcolocar_barcos\u001b[49m\u001b[43m(\u001b[49m\u001b[43mtablero\u001b[49m\u001b[43m)\u001b[49m\n\u001b[0;32m     15\u001b[0m \u001b[38;5;28;01melif\u001b[39;00m tablero[casilla] \u001b[38;5;241m==\u001b[39m \u001b[38;5;124m\"\u001b[39m\u001b[38;5;124m_\u001b[39m\u001b[38;5;124m\"\u001b[39m:\n\u001b[0;32m     16\u001b[0m     colocar_barco(barco, tablero)\n",
      "    \u001b[1;31m[... skipping similar frames: colocar_barcos at line 14 (6 times)]\u001b[0m\n",
      "Cell \u001b[1;32mIn[106], line 14\u001b[0m, in \u001b[0;36mcolocar_barcos\u001b[1;34m(tablero)\u001b[0m\n\u001b[0;32m     12\u001b[0m \u001b[38;5;28mprint\u001b[39m(\u001b[38;5;28mtype\u001b[39m(\u001b[38;5;28mlen\u001b[39m(barco)))\n\u001b[0;32m     13\u001b[0m \u001b[38;5;28;01mif\u001b[39;00m (tablero[casilla] \u001b[38;5;241m==\u001b[39m \u001b[38;5;124m\"\u001b[39m\u001b[38;5;124mO\u001b[39m\u001b[38;5;124m\"\u001b[39m) \u001b[38;5;129;01mor\u001b[39;00m (\u001b[38;5;28mlen\u001b[39m(barco) \u001b[38;5;241m>\u001b[39m (\u001b[38;5;28mlen\u001b[39m(tablero[\u001b[38;5;241m0\u001b[39m]) \u001b[38;5;241m-\u001b[39m \u001b[38;5;28mlen\u001b[39m(barco))):\n\u001b[1;32m---> 14\u001b[0m     \u001b[43mcolocar_barcos\u001b[49m\u001b[43m(\u001b[49m\u001b[43mtablero\u001b[49m\u001b[43m)\u001b[49m\n\u001b[0;32m     15\u001b[0m \u001b[38;5;28;01melif\u001b[39;00m tablero[casilla] \u001b[38;5;241m==\u001b[39m \u001b[38;5;124m\"\u001b[39m\u001b[38;5;124m_\u001b[39m\u001b[38;5;124m\"\u001b[39m:\n\u001b[0;32m     16\u001b[0m     colocar_barco(barco, tablero)\n",
      "Cell \u001b[1;32mIn[106], line 16\u001b[0m, in \u001b[0;36mcolocar_barcos\u001b[1;34m(tablero)\u001b[0m\n\u001b[0;32m     14\u001b[0m     colocar_barcos(tablero)\n\u001b[0;32m     15\u001b[0m \u001b[38;5;28;01melif\u001b[39;00m tablero[casilla] \u001b[38;5;241m==\u001b[39m \u001b[38;5;124m\"\u001b[39m\u001b[38;5;124m_\u001b[39m\u001b[38;5;124m\"\u001b[39m:\n\u001b[1;32m---> 16\u001b[0m     \u001b[43mcolocar_barco\u001b[49m\u001b[43m(\u001b[49m\u001b[43mbarco\u001b[49m\u001b[43m,\u001b[49m\u001b[43m \u001b[49m\u001b[43mtablero\u001b[49m\u001b[43m)\u001b[49m\n\u001b[0;32m     17\u001b[0m \u001b[38;5;28;01melse\u001b[39;00m: \n\u001b[0;32m     18\u001b[0m     \u001b[38;5;28;01mreturn\u001b[39;00m flota\n",
      "Cell \u001b[1;32mIn[15], line 3\u001b[0m, in \u001b[0;36mcolocar_barco\u001b[1;34m(barco, tablero)\u001b[0m\n\u001b[0;32m      1\u001b[0m \u001b[38;5;28;01mdef\u001b[39;00m \u001b[38;5;21mcolocar_barco\u001b[39m(barco, tablero):\n\u001b[0;32m      2\u001b[0m     \u001b[38;5;28;01mfor\u001b[39;00m casilla \u001b[38;5;129;01min\u001b[39;00m barco:\n\u001b[1;32m----> 3\u001b[0m             \u001b[43mtablero\u001b[49m\u001b[43m[\u001b[49m\u001b[43mcasilla\u001b[49m\u001b[43m]\u001b[49m \u001b[38;5;241m=\u001b[39m \u001b[38;5;124m\"\u001b[39m\u001b[38;5;124mO\u001b[39m\u001b[38;5;124m\"\u001b[39m\n\u001b[0;32m      4\u001b[0m     \u001b[38;5;28;01mreturn\u001b[39;00m tablero\n",
      "\u001b[1;31mIndexError\u001b[0m: index 10 is out of bounds for axis 0 with size 10"
     ]
    }
   ],
   "source": [
    "tablero = crear_tablero(10)  \n",
    "\n",
    "def colocar_barcos(tablero):\n",
    "    flota = [crear_barco(2)]+[crear_barco(2)]+[crear_barco(2)] + [crear_barco(3)] + [crear_barco(3)] + [crear_barco(4)]\n",
    "    print(flota)\n",
    "    # flota = [crear_barco(2), crear_barco(2),]\n",
    "    # print(flota)\n",
    "    for barco in flota:\n",
    "        # print(barco)\n",
    "        for casilla in barco:\n",
    "            print(type(len(tablero[0])))\n",
    "            print(type(len(barco)))\n",
    "            if (tablero[casilla] == \"O\") or (len(barco) > (len(tablero[0]) - len(barco))):\n",
    "                colocar_barcos(tablero)\n",
    "            elif tablero[casilla] == \"_\":\n",
    "                colocar_barco(barco, tablero)\n",
    "            else: \n",
    "                return flota\n",
    "            # elif len (barco) > (len(tablero[1]) - int(barco[1])):\n",
    "            #     print(\"Error\")\n",
    "\n",
    "#colocar_barcos(tablero)\n",
    "colocar_barcos(tablero)\n",
    "print(tablero)"
   ]
  },
  {
   "cell_type": "code",
   "execution_count": 1138,
   "metadata": {},
   "outputs": [
    {
     "name": "stdout",
     "output_type": "stream",
     "text": [
      "10\n",
      "[(0, 7), (0, 8), (0, 9)]\n",
      "(0, 8)\n"
     ]
    }
   ],
   "source": [
    "print (len(tablero[1]))\n",
    "barco11 = crear_barco(3)\n",
    "print(barco11)\n",
    "print(barco11[1])"
   ]
  },
  {
   "cell_type": "code",
   "execution_count": null,
   "metadata": {},
   "outputs": [],
   "source": [
    "    #     try:\n",
    "    #         colocar_barco(barco, tablero)\n",
    "    #     except:\n",
    "    #         print(\"Habrá que generar nuevo barco porque se sale del tablero\")\n",
    "    # return tablero"
   ]
  }
 ],
 "metadata": {
  "kernelspec": {
   "display_name": "Python 3.7.4 64-bit",
   "language": "python",
   "name": "python3"
  },
  "language_info": {
   "codemirror_mode": {
    "name": "ipython",
    "version": 3
   },
   "file_extension": ".py",
   "mimetype": "text/x-python",
   "name": "python",
   "nbconvert_exporter": "python",
   "pygments_lexer": "ipython3",
   "version": "3.11.9"
  },
  "orig_nbformat": 4,
  "vscode": {
   "interpreter": {
    "hash": "90139cb9a825bf3d63f6f6704e828dbd1ff7edbd4d0c6e906a71235d6efc74af"
   }
  }
 },
 "nbformat": 4,
 "nbformat_minor": 2
}
