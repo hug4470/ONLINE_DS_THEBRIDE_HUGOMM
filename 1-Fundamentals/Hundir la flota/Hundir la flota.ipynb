{
 "cells": [
  {
   "cell_type": "markdown",
   "metadata": {},
   "source": [
    "### En clase\n",
    "1. Crea la función `crear_tablero(tamaño)`, un tablero por defecto de 10x10 relleno del carácter \"_\" con numpy.\n",
    "2. Crea la función `colocar_barco(barco, tablero)`, que recibirá la lista de casillas de un barco y el tablero donde colocarlo. Prueba primero a posicionar un par de barcos por ejemplo en [(0,1), (1,1)] y [(1,3), (1,4), (1,5), (1,6)]. Los barcos serán Os mayúsculas. Como ves, un barco de dos posiciones de eslora y otro de cuatro.\n",
    "3. Crea la función `disparar(casilla, barco)`, si el disparo acierta en un barco sustituye la O por una X (tocado), si es agua, sustituye la _ por una A (Agua). Prueba primero a disparar el barco de 2 casillas.\n",
    "4. Crea la función `crear_barco(eslora)`, que deberá crear una lista de casillas de un barco en función a la eslora, de forma aleatoria.\n",
    "\n",
    "### Proyecto individual\n",
    "5. Crea la función `colocar_barcos(tablero)`, que deberá de colocar la lista de barcos generados de forma aleatoria (6 barcos en total (3x2, 2x3 y 1x4)) ¡Mucho ojo con barcos que estén superpuestos (no pueden ocupar dos barcos la misma casilla) o barcos que se salgan del tablero!\n",
    "6. Escribe el flujo completo del programa, con la dinámica de turnos y funcionalidades necesarios para jugar contra la máquina (dispara a tu tablero de forma aleatoria). Crea todas las funciones que necesites y aplica todo lo aprendido que te sea útil.\n",
    "7. Encapsula todo en un `main.py` y un `utils.py` para ejecutarlo desde terminal.\n",
    "8. Sube tu proyecto a un repositorio de github y prepara una demo (solo se podrá enseñar desde terminal) para la presentación de tu proyecto."
   ]
  },
  {
   "cell_type": "code",
   "execution_count": 12,
   "metadata": {},
   "outputs": [],
   "source": [
    "# PASOS:\n",
    "# FUNCION JUEGO:\n",
    "#     (F) crear tableros:\n",
    "#         1. jugador\n",
    "#         2.maquina\n",
    "#     (F) colocar barcos:\n",
    "#         0. crear barco\n",
    "#         1. generar barcos jugador\n",
    "#         2. colocar barcos jugador\n",
    "#         3. chequeo\n",
    "#         4. generar barcos maquina\n",
    "#         5. generar barcos maquina\n",
    "#         6. chequeo\n",
    "#     -JUEGO-\n",
    "#     (F)TURNOS\n",
    "#         (F)Turno jugador\n",
    "#             1. generar disparos jugador\n",
    "#             # 2. chequear\n",
    "#             3. continuar o pasar\n",
    "#         (F)Turno maquina\n",
    "#             1. generar disparos jugador\n",
    "#             2. chequear\n",
    "#             3. continuar o pasar\n",
    "#     -FIN-"
   ]
  },
  {
   "cell_type": "code",
   "execution_count": 55,
   "metadata": {},
   "outputs": [],
   "source": [
    "import numpy as np\n",
    "import random"
   ]
  },
  {
   "cell_type": "code",
   "execution_count": 56,
   "metadata": {},
   "outputs": [],
   "source": [
    "def crear_tableros(tamaño=10):\n",
    "    tablero_jugador = np.full((tamaño,tamaño), \"_\")\n",
    "    tablero_maquina = np.full((tamaño,tamaño), \"_\")\n",
    "    return tablero_jugador, tablero_maquina\n",
    "# crear_tablero_jugador()"
   ]
  },
  {
   "cell_type": "code",
   "execution_count": 350,
   "metadata": {},
   "outputs": [
    {
     "data": {
      "text/plain": [
       "[(3, 0), (4, 0), (5, 0)]"
      ]
     },
     "execution_count": 350,
     "metadata": {},
     "output_type": "execute_result"
    }
   ],
   "source": [
    "def crear_barco1(eslora):\n",
    "    casilla = (random.randint(0,9),random.randint(0,9)) #solo necesitamos 1 casilla, porque la 2 sera su modificacion\n",
    "    orientacion = random.choice([\"Vertical\", \"Horizontal\"])\n",
    "\n",
    "    barco = [casilla] #Definimos que barco es una lista con un solo elemento, una casilla de momento, luego appendearemos la otra\n",
    "\n",
    "    while len(barco) < eslora:   #Comprueba la longitud del barco\n",
    "        if orientacion == \"Vertical\":\n",
    "            casilla = (casilla[0]+1, casilla[1]) #Se suma 1 a la primera posicion de la tupla casilla[0,X], para que sea vertical\n",
    "            barco.append(casilla)\n",
    "        else:\n",
    "            casilla =(casilla[0], casilla[1]+1)\n",
    "            barco.append(casilla)\n",
    "\n",
    "    return barco\n",
    "\n",
    "crear_barco1(3)"
   ]
  },
  {
   "cell_type": "code",
   "execution_count": 417,
   "metadata": {},
   "outputs": [
    {
     "name": "stdout",
     "output_type": "stream",
     "text": [
      "(4, 1) [(3, 1), (4, 1)]\n"
     ]
    },
    {
     "data": {
      "text/plain": [
       "[(3, 1), (4, 1)]"
      ]
     },
     "execution_count": 417,
     "metadata": {},
     "output_type": "execute_result"
    }
   ],
   "source": [
    "def crear_barco(eslora):\n",
    "    columna = random.randint(0,9)\n",
    "    fila = random.randint(0,9)\n",
    "    casilla = (fila, columna) #solo necesitamos 1 casilla, porque la 2 sera su modificacion\n",
    "    orientacion = random.choice([\"Vertical\", \"Horizontal\"])\n",
    "\n",
    "    barco = [casilla] #Definimos que barco es una lista con un solo elemento, una casilla de momento, luego appendearemos la otra\n",
    "\n",
    "    if orientacion == \"Vertical\":\n",
    "        if eslora + fila < 10:\n",
    "            for n in range(eslora-2):\n",
    "                casilla = (casilla[0]+1, casilla[1]) #Se suma 1 a la primera posicion de la tupla casilla[0,X], para que sea vertical\n",
    "                barco.append(casilla)\n",
    "                print(casilla, barco)\n",
    "    elif orientacion == \"Horizontal\":\n",
    "        if eslora + columna < 10:\n",
    "            for n in range(eslora-2):\n",
    "                casilla = (casilla[0], casilla[1]+1) #Se suma 1 a la primera posicion de la tupla casilla[0,X], para que sea vertical\n",
    "                barco.append(casilla)\n",
    "    else:\n",
    "        crear_barco()\n",
    "\n",
    "    return barco\n",
    "\n",
    "crear_barco(3)"
   ]
  },
  {
   "cell_type": "code",
   "execution_count": 139,
   "metadata": {},
   "outputs": [
    {
     "name": "stdout",
     "output_type": "stream",
     "text": [
      "FLOTA JUGADOR:  [[(2, 2), (3, 2), (4, 2)], [(6, 2), (6, 3), (6, 4)], [(0, 6), (0, 7), (0, 8)], [(3, 1), (4, 1), (5, 1), (6, 1)], [(1, 7)], [(7, 9)]] FLOTA MAQUINA:  [[(0, 3), (1, 3), (2, 3)], [(0, 9)], [(9, 0)], [(2, 6), (2, 7), (2, 8), (2, 9)], [(3, 4), (3, 5), (3, 6), (3, 7)], [(9, 3)]]\n"
     ]
    }
   ],
   "source": [
    "flota_jugador = []\n",
    "flota_maquina = []\n",
    "\n",
    "def generar_barcos (tablero):\n",
    "    flota_jugador = [crear_barco(2)]+[crear_barco(2)]+[crear_barco(2)] + [crear_barco(3)] + [crear_barco(3)] + [crear_barco(4)]\n",
    "    flota_maquina = [crear_barco(2)]+[crear_barco(2)]+[crear_barco(2)] + [crear_barco(3)] + [crear_barco(3)] + [crear_barco(4)]\n",
    "\n",
    "    return print(\"FLOTA JUGADOR: \", flota_jugador, \"FLOTA MAQUINA: \", flota_maquina)\n",
    "\n",
    "generar_barcos(tablero)"
   ]
  }
 ],
 "metadata": {
  "kernelspec": {
   "display_name": "Python 3",
   "language": "python",
   "name": "python3"
  },
  "language_info": {
   "codemirror_mode": {
    "name": "ipython",
    "version": 3
   },
   "file_extension": ".py",
   "mimetype": "text/x-python",
   "name": "python",
   "nbconvert_exporter": "python",
   "pygments_lexer": "ipython3",
   "version": "3.11.9"
  }
 },
 "nbformat": 4,
 "nbformat_minor": 2
}
