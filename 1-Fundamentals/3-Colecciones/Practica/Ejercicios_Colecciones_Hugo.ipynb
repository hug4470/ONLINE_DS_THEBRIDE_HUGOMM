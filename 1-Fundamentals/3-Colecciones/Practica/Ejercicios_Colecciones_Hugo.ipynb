{
 "cells": [
  {
   "cell_type": "markdown",
   "metadata": {},
   "source": [
    "![imagen](./img/ejercicios.png)"
   ]
  },
  {
   "cell_type": "markdown",
   "metadata": {},
   "source": [
    "## Ejercicio 1\n",
    "Dada la siguiente lista:\n",
    "> ```ejer_1 = [1,2,3,4,5]```\n",
    "\n",
    "Inviértela para que quede de la siguiente manera\n",
    "> ```ejer_1 = [5,4,3,2,1]```"
   ]
  },
  {
   "cell_type": "code",
   "execution_count": 3,
   "metadata": {},
   "outputs": [
    {
     "name": "stdout",
     "output_type": "stream",
     "text": [
      "[5, 4, 3, 2, 1]\n"
     ]
    }
   ],
   "source": [
    "ejer_1 = [1,2,3,4,5]\n",
    "ejer_1.reverse()\n",
    "print (ejer_1)"
   ]
  },
  {
   "cell_type": "code",
   "execution_count": 5,
   "metadata": {},
   "outputs": [
    {
     "data": {
      "text/plain": [
       "[5, 4, 3, 2, 1]"
      ]
     },
     "execution_count": 5,
     "metadata": {},
     "output_type": "execute_result"
    }
   ],
   "source": [
    "# CORRECCIÓN. OTRO MÉTODO\n",
    "ejer_1 = [1,2,3,4,5]\n",
    "ejer_1 [::-1]\n",
    "# ejer_1 [-1:-6:-1]"
   ]
  },
  {
   "cell_type": "code",
   "execution_count": 36,
   "metadata": {},
   "outputs": [
    {
     "name": "stdout",
     "output_type": "stream",
     "text": [
      "[1, 2, 3, 4, 5]\n",
      "[4, 3, 90, 2, 5, 1]\n"
     ]
    }
   ],
   "source": [
    "print (ejer_1)\n",
    "print (list(reversed([1,5,2,90,3,4])))"
   ]
  },
  {
   "cell_type": "code",
   "execution_count": 27,
   "metadata": {},
   "outputs": [
    {
     "name": "stdout",
     "output_type": "stream",
     "text": [
      "[5, 4, 3, 2, 1]\n",
      "[5, 123, 2, 3, -2, 1]\n"
     ]
    }
   ],
   "source": [
    "# POR QUÉ EL MÉTODO SLICING ES BUENO PARA INVERTIR SIMPLEMENTE, Y SORT/REVERSE PARA ORDENAR E INVERTIR\n",
    "def f_ejer_1 (lista):\n",
    "    lista = sorted(lista,reverse=True)\n",
    "    print(lista)\n",
    "\n",
    "def f_ejer_1_1 (lista1):\n",
    "    lista1 = lista1 [::-1]\n",
    "    print (lista1)\n",
    "\n",
    "f_ejer_1([1,3,2,4,5])\n",
    "f_ejer_1_1([1,-2,3,2,123,5])"
   ]
  },
  {
   "cell_type": "markdown",
   "metadata": {},
   "source": [
    "## Ejercicio 3\n",
    "Crea una lista nueva con todas las combinaciones de las siguientes dos listas:\n",
    "> ```ejer_3_1 = [\"Hola\", \"amigo\"]```\n",
    ">\n",
    "> ```ejer_3_2 = [\"Que\", \"tal\"]```\n",
    "\n",
    "Obten el siguiente output:\n",
    "\n",
    "```['Hola Que', 'Hola tal', 'amigo Que', 'amigo tal']```"
   ]
  },
  {
   "cell_type": "code",
   "execution_count": 62,
   "metadata": {},
   "outputs": [
    {
     "name": "stdout",
     "output_type": "stream",
     "text": [
      "['Hola Que', 'Hola tal', 'amigo Que', 'amigo tal']\n"
     ]
    }
   ],
   "source": [
    "ejer_3_1 = [\"Hola\", \"amigo\"]\n",
    "ejer_3_2 = [\"Que\", \"tal\"]\n",
    "ejer_3 = []\n",
    "\n",
    "for palabra1 in ejer_3_1:\n",
    "    for palabra2 in ejer_3_2:\n",
    "        ejer_3.append(palabra1 + \" \" + palabra2)\n",
    "\n",
    "print (ejer_3)"
   ]
  },
  {
   "attachments": {},
   "cell_type": "markdown",
   "metadata": {},
   "source": [
    "## Ejercicio 4\n",
    "Dada la siguiente lista, encuentra por el índice el valor 45 y sustitúyelo por el 0\n",
    "> ```ejer_4 = [20, 47, 19, 29, 45, 67, 78, 90]```"
   ]
  },
  {
   "cell_type": "code",
   "execution_count": 17,
   "metadata": {},
   "outputs": [
    {
     "name": "stdout",
     "output_type": "stream",
     "text": [
      "La posición del 45 es: 4\n",
      "[20, 47, 19, 29, 0, 67, 78, 90]\n"
     ]
    }
   ],
   "source": [
    "ejer_4 = [20, 47, 19, 29, 45, 67, 78, 90]\n",
    "print (\"La posición del 45 es:\", ejer_4.index(45))\n",
    "ejer_4.insert(ejer_4.index(45),0)\n",
    "ejer_4.remove(45)\n",
    "print (ejer_4)"
   ]
  },
  {
   "cell_type": "code",
   "execution_count": 38,
   "metadata": {},
   "outputs": [
    {
     "name": "stdout",
     "output_type": "stream",
     "text": [
      "La posición del 45 es: 4\n",
      "[20, 47, 19, 29, 0, 67, 78, 90]\n"
     ]
    }
   ],
   "source": [
    "# CORRECCIÓN\n",
    "ejer_4 = [20, 47, 19, 29, 45, 67, 78, 90]\n",
    "print (\"La posición del 45 es:\", ejer_4.index(45))\n",
    "ejer_4[(ejer_4.index(45))] = 0\n",
    "print (ejer_4)"
   ]
  },
  {
   "cell_type": "code",
   "execution_count": 49,
   "metadata": {},
   "outputs": [
    {
     "name": "stdout",
     "output_type": "stream",
     "text": [
      "[20, 47, 19, 29, 0, 67, 0, 78, 0, 0, 90]\n",
      "[20, 47, 19, 29, 0, 67, 0, 78, 0, 0, 90]\n"
     ]
    }
   ],
   "source": [
    "# POR SI HAY MÁS DE UN 45 Y QUEREMOS SUSTITUIRLOS TODOS\n",
    "ejer_4 = [20, 47, 19, 29, 45, 67, 45, 78, 45, 45, 90]\n",
    "for indice, numero, in enumerate(ejer_4):\n",
    "    if numero == 45:\n",
    "        ejer_4[indice] = 0\n",
    "\n",
    "print (ejer_4)\n",
    "\n",
    "# OPCION 2\n",
    "ejer_4 = [20, 47, 19, 29, 45, 67, 45, 78, 45, 45, 90]\n",
    "while 45 in ejer_4:\n",
    "    ejer_4[ejer_4.index(45)] = 0\n",
    "\n",
    "print (ejer_4)"
   ]
  },
  {
   "cell_type": "markdown",
   "metadata": {},
   "source": [
    "## Ejercicio 5\n",
    "Dada la siguiente lista, elimina todos los valores iguales a 3\n",
    "> ```ejer_5 = [3, 20, 3, 47, 19, 3, 29, 45, 67, 78, 90, 3, 3]```\n",
    "\n",
    "TIP: No intentes eliminar elementos sobre la lista que estás iterando. Haz una copia con `ejer_5.copy()`."
   ]
  },
  {
   "cell_type": "code",
   "execution_count": 50,
   "metadata": {},
   "outputs": [
    {
     "name": "stdout",
     "output_type": "stream",
     "text": [
      "[3, 20, 3, 47, 19, 3, 29, 45, 67, 78, 90, 3, 3]\n",
      "[20, 47, 19, 29, 45, 67, 78, 90]\n"
     ]
    }
   ],
   "source": [
    "ejer_5 = [3, 20, 3, 47, 19, 3, 29, 45, 67, 78, 90, 3, 3]\n",
    "ejer_5_copia = ejer_5.copy()\n",
    "print (ejer_5_copia)\n",
    "\n",
    "for numero in ejer_5_copia:\n",
    "    if numero == 3:\n",
    "        ejer_5.remove(3)\n",
    "\n",
    "print (ejer_5)\n"
   ]
  },
  {
   "cell_type": "code",
   "execution_count": 10,
   "metadata": {},
   "outputs": [
    {
     "name": "stdout",
     "output_type": "stream",
     "text": [
      "[20, 3, 47, 19, 3, 29, 45, 67, 78, 90, 3, 3]\n",
      "[20, 47, 19, 3, 29, 45, 67, 78, 90, 3, 3]\n",
      "[20, 47, 19, 29, 45, 67, 78, 90, 3, 3]\n",
      "[20, 47, 19, 29, 45, 67, 78, 90, 3]\n",
      "[20, 47, 19, 29, 45, 67, 78, 90]\n"
     ]
    }
   ],
   "source": [
    "# SOLUCIÓN ALTERNATIVA CON WHILE    \n",
    "ejer_5 = [3, 20, 3, 47, 19, 3, 29, 45, 67, 78, 90, 3, 3]\n",
    "while 3 in ejer_5:\n",
    "    ejer_5.remove(3)\n",
    "    print( ejer_5)"
   ]
  },
  {
   "cell_type": "code",
   "execution_count": 11,
   "metadata": {},
   "outputs": [
    {
     "ename": "AttributeError",
     "evalue": "'list' object has no attribute 'replace'",
     "output_type": "error",
     "traceback": [
      "\u001b[1;31m---------------------------------------------------------------------------\u001b[0m",
      "\u001b[1;31mAttributeError\u001b[0m                            Traceback (most recent call last)",
      "Cell \u001b[1;32mIn[11], line 2\u001b[0m\n\u001b[0;32m      1\u001b[0m lista1 \u001b[38;5;241m=\u001b[39m [\u001b[38;5;241m1\u001b[39m,\u001b[38;5;241m2\u001b[39m,\u001b[38;5;241m3\u001b[39m]\n\u001b[1;32m----> 2\u001b[0m \u001b[43mlista1\u001b[49m\u001b[38;5;241;43m.\u001b[39;49m\u001b[43mreplace\u001b[49m(\u001b[38;5;241m1\u001b[39m,\u001b[38;5;241m4\u001b[39m)\n",
      "\u001b[1;31mAttributeError\u001b[0m: 'list' object has no attribute 'replace'"
     ]
    }
   ],
   "source": [
    "lista1 = [1,2,3]\n",
    "lista1.replace(1,4)"
   ]
  },
  {
   "attachments": {},
   "cell_type": "markdown",
   "metadata": {},
   "source": [
    "## Ejercicio 6\n",
    "1. Crea una tupla con 3 elementos\n",
    "2. Crea otra tupla con un elemento y comprueba su tipo\n",
    "3. Crea una tupla con elementos de diferentes tipos\n",
    "4. Imprime por pantalla el primer y último elemento de la tupla del apartado 3. Usa `len` para el último\n",
    "5. Añade un elemento a la tupla del apartado 3.\n",
    "6. Eliminar un elemento de la tupla del apartado 5, que se encuentre más o menos en la mitad.\n",
    "7. Convierte la tupla del apartado 5 en una lista"
   ]
  },
  {
   "cell_type": "code",
   "execution_count": 12,
   "metadata": {},
   "outputs": [
    {
     "name": "stdout",
     "output_type": "stream",
     "text": [
      "<class 'tuple'>\n",
      "Hola 3.5\n",
      "['Hola', 2, True, 3.5, 'hugo']\n",
      "('Hola', 2, 3.5, 'hugo')\n",
      "<class 'list'>\n"
     ]
    }
   ],
   "source": [
    "tupla = (1, 2, 3)\n",
    "\n",
    "tupla2 = (9,)\n",
    "print(type(tupla2))\n",
    "\n",
    "tupla3 = (\"Hola\", 2, True, 3.5)\n",
    "\n",
    "print (tupla3[0], tupla3[len(tupla3)-1])\n",
    "\n",
    "lista_tupla = list(tupla3)\n",
    "lista_tupla.append(\"hugo\")\n",
    "tuple(lista_tupla)\n",
    "print (lista_tupla)\n",
    "\n",
    "lista_tupla = list(lista_tupla)\n",
    "lista_tupla.pop(int(len(lista_tupla)/2))\n",
    "lista_tupla = tuple(lista_tupla)\n",
    "print(lista_tupla)\n",
    "\n",
    "lista_tupla = list(lista_tupla)\n",
    "print(type(lista_tupla))"
   ]
  },
  {
   "attachments": {},
   "cell_type": "markdown",
   "metadata": {},
   "source": [
    "## Ejercicio 7\n",
    "Concatena todos los elementos de la tupla en un único string. Para ello utiliza el metodo `.join()` de los Strings\n",
    "> ```ejer_7 = (\"cien\", \"cañones\", \"por\", \"banda\")```\n",
    "\n",
    "Resultado: `cien cañones por banda`"
   ]
  },
  {
   "cell_type": "code",
   "execution_count": 14,
   "metadata": {},
   "outputs": [
    {
     "name": "stdout",
     "output_type": "stream",
     "text": [
      "cien cañones por banda\n"
     ]
    }
   ],
   "source": [
    "ejer_7 = (\"cien\", \"cañones\", \"por\", \"banda\")\n",
    "ejer_7_new = \" \".join(ejer_7)\n",
    "\n",
    "print(ejer_7_new)\n",
    "# print(*ejer_7)"
   ]
  },
  {
   "cell_type": "markdown",
   "metadata": {},
   "source": [
    "## Ejercicio 8\n",
    "Obten el tercer elemento de la siguiente tupla, y el tercero empezando por la cola\n",
    "> ```ejer_8 = (3, 20, 3, 47, 19, 3, 29, 45, 67, 78, 90, 3, 3)```"
   ]
  },
  {
   "cell_type": "code",
   "execution_count": 85,
   "metadata": {},
   "outputs": [
    {
     "name": "stdout",
     "output_type": "stream",
     "text": [
      "3 90\n"
     ]
    }
   ],
   "source": [
    "ejer_8 = (3, 20, 3, 47, 19, 3, 29, 45, 67, 78, 90, 3, 3)\n",
    "print(ejer_8[2], ejer_8[-3])"
   ]
  },
  {
   "cell_type": "markdown",
   "metadata": {},
   "source": [
    "## Ejercicio 11\n",
    "Convierte la siguiente lista en un diccionario\n",
    "> ```ejer_11 = [(\"x\", 1), (\"x\", 2), (\"x\", 3), (\"y\", 1), (\"y\", 2), (\"z\", 1)]```\n",
    "\n",
    "TIP: Puedes usar dos variables de control en un bucle `for`. Una por cada valor de las tuplas."
   ]
  },
  {
   "cell_type": "code",
   "execution_count": 17,
   "metadata": {},
   "outputs": [
    {
     "name": "stdout",
     "output_type": "stream",
     "text": [
      "x 1\n",
      "x 2\n",
      "x 3\n",
      "y 1\n",
      "y 2\n",
      "z 1\n",
      "{'x': [1, 2, 3], 'y': [1, 2], 'z': [1]}\n"
     ]
    }
   ],
   "source": [
    "ejer_11 = [(\"x\", 1), (\"x\", 2), (\"x\", 3), (\"y\", 1), (\"y\", 2), (\"z\", 1)]\n",
    "diccionario11 = {}\n",
    "\n",
    "for clave, valor in ejer_11:\n",
    "    print(clave, valor)\n",
    "    if clave not in diccionario11:\n",
    "        # print(\"NO: \", clave)\n",
    "        diccionario11[clave] = [valor]\n",
    "        # print (diccionario11.items())\n",
    "    else:\n",
    "        # print (\"SI:\", clave)\n",
    "        diccionario11[clave] += [valor]\n",
    "        # print (diccionario11.items())\n",
    "\n",
    "print (diccionario11)"
   ]
  },
  {
   "cell_type": "code",
   "execution_count": 16,
   "metadata": {},
   "outputs": [
    {
     "name": "stdout",
     "output_type": "stream",
     "text": [
      "x 1\n",
      "x 2\n",
      "x 3\n",
      "y 1\n",
      "y 2\n",
      "z 1\n",
      "{'x': [1, 2, 3], 'y': [1, 2], 'z': [1]}\n"
     ]
    }
   ],
   "source": [
    "# CORRECCIÓN\n",
    "ejer_11 = [(\"x\", 1), (\"x\", 2), (\"x\", 3), (\"y\", 1), (\"y\", 2), (\"z\", 1)]\n",
    "diccionario11 = {}\n",
    "\n",
    "for clave, valor in ejer_11:\n",
    "    print(clave, valor)\n",
    "    if clave not in diccionario11:\n",
    "        diccionario11[clave] = []\n",
    "    diccionario11[clave].append(valor)\n",
    "    \n",
    "\n",
    "print (diccionario11)"
   ]
  },
  {
   "cell_type": "code",
   "execution_count": 20,
   "metadata": {},
   "outputs": [
    {
     "name": "stdout",
     "output_type": "stream",
     "text": [
      "{'x': [1, 2, 3], 'y': [1, 2], 'z': [1]}\n"
     ]
    }
   ],
   "source": [
    "# CORRECCIÓN\n",
    "ejer_11 = [(\"x\", 1), (\"x\", 2), (\"x\", 3), (\"y\", 1), (\"y\", 2), (\"z\", 1)]\n",
    "diccionario11 = {}\n",
    "\n",
    "for clave, valor in ejer_11:\n",
    "    diccionario11.setdefault(clave, []).append(valor)\n",
    "\n",
    "print (diccionario11)"
   ]
  },
  {
   "attachments": {},
   "cell_type": "markdown",
   "metadata": {},
   "source": [
    "## Ejercicio 12\n",
    "1. Crea una lista ordenada ascendente con las claves del diccionario\n",
    "2. Crea otra lista ordenada descendente con los valores\n",
    "3. Añade una nueva clave/valor\n",
    "4. Busca la clave igual a 2 dentro del diccionario\n",
    "5. Itera la clave y el valor del diccionario con un único for\n",
    "> ```ejer_12 = {4:78, 2:98, 8:234, 5:29}```"
   ]
  },
  {
   "cell_type": "code",
   "execution_count": 50,
   "metadata": {},
   "outputs": [
    {
     "name": "stdout",
     "output_type": "stream",
     "text": [
      "PREGUNTA 1\n",
      "[2, 4, 5, 8]\n",
      "PREGUNTA 2\n",
      "[234, 98, 78, 29]\n",
      "PREGUNTA 3\n",
      "{4: 78, 2: 98, 8: 234, 5: 29, 10: 301}\n",
      "PREGUNTA 4\n",
      "98\n",
      "clave no encontrada\n",
      "PREGUNTA 5\n",
      "4 78\n",
      "2 98\n",
      "8 234\n",
      "5 29\n",
      "10 301\n"
     ]
    }
   ],
   "source": [
    "print (\"PREGUNTA 1\")\n",
    "ejer_12 = {4:78, 2:98, 8:234, 5:29}\n",
    "clave_ejer12 = list(ejer_12)\n",
    "clave_ejer12.sort()\n",
    "print(clave_ejer12)\n",
    "\n",
    "print (\"PREGUNTA 2\")\n",
    "valor_ejer12 = list(ejer_12.values())\n",
    "valor_ejer12.sort(reverse=True)\n",
    "print(valor_ejer12)\n",
    "\n",
    "print (\"PREGUNTA 3\")\n",
    "ejer_12[10] = 301\n",
    "print(ejer_12)\n",
    "\n",
    "print (\"PREGUNTA 4\")\n",
    "print(ejer_12[2])\n",
    "# alternativa para q no de error\n",
    "print(ejer_12.get(3,\"clave no encontrada\"))\n",
    "\n",
    "print (\"PREGUNTA 5\")\n",
    "for key, value in ejer_12.items():\n",
    "    print (key, value)"
   ]
  },
  {
   "cell_type": "markdown",
   "metadata": {},
   "source": [
    "## Ejercicio 13\n",
    "Junta ambos diccionarios. Para ello, utiliza `update`\n",
    "> ```ejer_13_1 = {1: 11, 2: 22}```\n",
    ">\n",
    "> ```ejer_13_2 = {3: 33, 4: 44}```"
   ]
  },
  {
   "cell_type": "code",
   "execution_count": 52,
   "metadata": {},
   "outputs": [
    {
     "name": "stdout",
     "output_type": "stream",
     "text": [
      "{1: 11, 2: 22, 3: 33, 4: 44}\n"
     ]
    }
   ],
   "source": [
    "ejer_13_1 = {1: 11, 2: 22}\n",
    "ejer_13_2 = {3: 33, 4: 44}\n",
    "\n",
    "ejer_13_1.update(ejer_13_2)\n",
    "\n",
    "print(ejer_13_1)"
   ]
  },
  {
   "cell_type": "markdown",
   "metadata": {},
   "source": [
    "## Ejercicio 14\n",
    "Suma todos los valores del dicionario\n",
    "> ```ejer_14 = {1: 11, 2: 22, 3: 33, 4: 44, 5: 55}```"
   ]
  },
  {
   "cell_type": "code",
   "execution_count": 60,
   "metadata": {},
   "outputs": [
    {
     "data": {
      "text/plain": [
       "165"
      ]
     },
     "execution_count": 60,
     "metadata": {},
     "output_type": "execute_result"
    }
   ],
   "source": [
    "ejer_14 = {1: 11, 2: 22, 3: 33, 4: 44, 5: 55}\n",
    "\n",
    "ejer_14 = list(ejer_14.values())\n",
    "# print (ejer_14)\n",
    "# print (type(ejer_14))\n",
    "sum(ejer_14)"
   ]
  },
  {
   "cell_type": "code",
   "execution_count": 59,
   "metadata": {},
   "outputs": [
    {
     "data": {
      "text/plain": [
       "165"
      ]
     },
     "execution_count": 59,
     "metadata": {},
     "output_type": "execute_result"
    }
   ],
   "source": [
    "ejer_14 = {1: 11, 2: 22, 3: 33, 4: 44, 5: 55}\n",
    "sum(ejer_14.values())"
   ]
  },
  {
   "cell_type": "markdown",
   "metadata": {},
   "source": [
    "## Ejercicio 15\n",
    "Multiplica todos los valores del diccionario\n",
    "> ```ejer_15 = {1: 11, 2: 22, 3: 33, 4: 44, 5: 55}```"
   ]
  },
  {
   "cell_type": "code",
   "execution_count": 67,
   "metadata": {},
   "outputs": [
    {
     "name": "stdout",
     "output_type": "stream",
     "text": [
      "[11, 22, 33, 44, 55]\n",
      "<class 'list'>\n",
      "19326120\n"
     ]
    }
   ],
   "source": [
    "ejer_15 = {1: 11, 2: 22, 3: 33, 4: 44, 5: 55}\n",
    "ejer_15_2 = 1\n",
    "\n",
    "ejer_15 = list(ejer_15.values())\n",
    "print (ejer_15)\n",
    "print (type(ejer_15))\n",
    "\n",
    "for numero in ejer_15:\n",
    "    ejer_15_2 *= numero\n",
    "\n",
    "print (ejer_15_2)"
   ]
  },
  {
   "cell_type": "code",
   "execution_count": 71,
   "metadata": {},
   "outputs": [
    {
     "name": "stdout",
     "output_type": "stream",
     "text": [
      "19326120\n"
     ]
    }
   ],
   "source": [
    "# Introducción de LIBRERÍAS\n",
    "ejer_15 = {1: 11, 2: 22, 3: 33, 4: 44, 5: 55}\n",
    "import numpy as np\n",
    "import pandas as pd\n",
    "print (np.prod(list(ejer_15.values())))"
   ]
  },
  {
   "cell_type": "code",
   "execution_count": 72,
   "metadata": {},
   "outputs": [
    {
     "name": "stdout",
     "output_type": "stream",
     "text": [
      "19326120\n"
     ]
    }
   ],
   "source": [
    "# Con LIBRERÍA MATH\n",
    "import math\n",
    "ejer_15 = {1: 11, 2: 22, 3: 33, 4: 44, 5: 55}\n",
    "print(math.prod(list(ejer_15.values())))"
   ]
  },
  {
   "cell_type": "markdown",
   "metadata": {},
   "source": [
    "## Ejercicio 16\n",
    "1. Crea un set de tres elementos\n",
    "2. Añade un cuarto\n",
    "3. Elimina el último elemento añadido\n",
    "4. Elimina el elemento 10, si está presente. Usa `discard()`"
   ]
  },
  {
   "cell_type": "code",
   "execution_count": 12,
   "metadata": {},
   "outputs": [
    {
     "name": "stdout",
     "output_type": "stream",
     "text": [
      "{1, 2, 3}\n",
      "{1, 2, 3, 5}\n",
      "{1, 2, 3}\n"
     ]
    }
   ],
   "source": [
    "set1 = {1,2,3}\n",
    "print(set1)\n",
    "\n",
    "set1.add(5)\n",
    "print (set1)\n",
    "\n",
    "set1.remove(5)\n",
    "print(set1)\n",
    "\n",
    "set1.discard(10)"
   ]
  }
 ],
 "metadata": {
  "kernelspec": {
   "display_name": "Python 3.7.4 64-bit",
   "language": "python",
   "name": "python3"
  },
  "language_info": {
   "codemirror_mode": {
    "name": "ipython",
    "version": 3
   },
   "file_extension": ".py",
   "mimetype": "text/x-python",
   "name": "python",
   "nbconvert_exporter": "python",
   "pygments_lexer": "ipython3",
   "version": "3.11.9"
  },
  "vscode": {
   "interpreter": {
    "hash": "90139cb9a825bf3d63f6f6704e828dbd1ff7edbd4d0c6e906a71235d6efc74af"
   }
  }
 },
 "nbformat": 4,
 "nbformat_minor": 4
}
