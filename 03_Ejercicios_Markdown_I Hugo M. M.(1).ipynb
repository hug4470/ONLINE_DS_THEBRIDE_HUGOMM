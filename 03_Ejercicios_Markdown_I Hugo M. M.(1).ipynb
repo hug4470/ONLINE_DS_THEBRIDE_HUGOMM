{
  "metadata": {
    "kernelspec": {
      "name": "python",
      "display_name": "Python (Pyodide)",
      "language": "python"
    },
    "language_info": {
      "codemirror_mode": {
        "name": "python",
        "version": 3
      },
      "file_extension": ".py",
      "mimetype": "text/x-python",
      "name": "python",
      "nbconvert_exporter": "python",
      "pygments_lexer": "ipython3",
      "version": "3.8"
    },
    "colab": {
      "provenance": []
    }
  },
  "nbformat_minor": 5,
  "nbformat": 4,
  "cells": [
    {
      "id": "59ec229f",
      "cell_type": "markdown",
      "source": "<img src=\"./img/TheBridge_logo_RGB_color.jpg\" width = 500>",
      "metadata": {
        "id": "59ec229f"
      }
    },
    {
      "id": "30a2c01b",
      "cell_type": "markdown",
      "source": "# EJERCICIOS MARKDOWN (I)",
      "metadata": {
        "id": "30a2c01b"
      }
    },
    {
      "id": "e165fb0c",
      "cell_type": "markdown",
      "source": "Aquí tienes cinco sencillos ejercicios para practicar lo aprendido en la primera sesión de Markdown. Utiliza las celdas que hay debajo dec cada enunciado y recuerda convertirlas a Markdown primero ;-)",
      "metadata": {
        "id": "e165fb0c"
      }
    },
    {
      "id": "5f74096f",
      "cell_type": "markdown",
      "source": "\n\n### Ejercicio 1: Cabeceras\nCrea las siguientes cabeceras:\n\n1. Una cabecera de nivel 1 con el texto \"Ciencia de Datos\".\n2. Una cabecera de nivel 2 con el texto \"Introducción\".\n3. Una cabecera de nivel 3 con el texto \"Herramientas\".",
      "metadata": {
        "id": "5f74096f"
      }
    },
    {
      "id": "6b7c38d2-59b8-4bba-af6f-d6d61aeceed6",
      "cell_type": "markdown",
      "source": "# Ciencia de Datos\n## Introducción\n## Herramientas",
      "metadata": {}
    },
    {
      "id": "VMO8j7_VlfdC",
      "cell_type": "markdown",
      "source": "## Hola mundo",
      "metadata": {
        "id": "VMO8j7_VlfdC"
      }
    },
    {
      "id": "b3a2fc32",
      "cell_type": "code",
      "source": "print(\"Hola mundo\")",
      "metadata": {
        "id": "b3a2fc32",
        "colab": {
          "base_uri": "https://localhost:8080/"
        },
        "executionInfo": {
          "status": "ok",
          "timestamp": 1714054095082,
          "user_tz": -120,
          "elapsed": 25,
          "user": {
            "displayName": "Miguel Ángel Nievas Fuertes",
            "userId": "11397502732317349410"
          }
        },
        "outputId": "c83ceba0-b719-463d-b56e-056705e25824",
        "trusted": true
      },
      "outputs": [
        {
          "name": "stdout",
          "text": "Hola mundo\n",
          "output_type": "stream"
        }
      ],
      "execution_count": 1
    },
    {
      "id": "4b636168",
      "cell_type": "markdown",
      "source": "### Ejercicio 2: Estilos de texto\nEscribe una frase que contenga las siguientes características:\n\n1. La palabra \"Markdown\" en negritas.\n2. La palabra \"Jupyter\" en cursivas.\n3. La palabra \"Python\" en negritas y cursivas.",
      "metadata": {
        "id": "4b636168"
      }
    },
    {
      "id": "9f7de17e-a61b-4124-9644-5afd28e8027a",
      "cell_type": "markdown",
      "source": "Ya he aprendido a utilizar ***Python*** y **Markdown**, *Jupyter* aún me cuesta un poco.",
      "metadata": {
        "id": "b0fd666e"
      }
    },
    {
      "id": "61fd2979",
      "cell_type": "markdown",
      "source": "### Ejercicio 3: Resaltados y HTML\nCrea una línea que contenga:\n\n1. La palabra \"resaltado\" con un fondo amarillo usando Markdown.\n2. La palabra \"color\" en azul usando HTML.\n\nPara este ejercicio tendrás que buscar un poco más en internet, venga que tú puedes.",
      "metadata": {
        "id": "61fd2979"
      }
    },
    {
      "id": "dd52ecd8-ffe2-492a-9055-b0ffde79e439",
      "cell_type": "markdown",
      "source": "<span style =\"background-color:yellow\">RESALTADO</span> con [COLOR](google.com)",
      "metadata": {
        "id": "7aa81d0f"
      }
    },
    {
      "id": "a91386ca",
      "cell_type": "markdown",
      "source": "### Ejercicio 4: Citas\nIncluye la siguiente cita:\n\n> La Ciencia de Datos es el petróleo del siglo XXI.\n\nEn uno y dos niveles de cita",
      "metadata": {
        "id": "a91386ca"
      }
    },
    {
      "id": "6a267e03-ea6c-4e10-8506-5e0a852d2dfc",
      "cell_type": "markdown",
      "source": "> La Ciencia de Datos es el petróleo del siglo XXI.\n> > La Ciencia de Datos es el petróleo del siglo XXI.",
      "metadata": {
        "id": "97aca4a0"
      }
    },
    {
      "id": "35f0595a",
      "cell_type": "markdown",
      "source": "### Ejercicio 5: Combinando todo\nCrea un texto que combine lo siguiente:\n\n1. Una cabecera de nivel 2 con el texto \"Curso de Markdown\".\n2. Una frase que contenga la palabra \"importante\" en negritas.\n3. Una cita que diga: \"Aprender es crecer\".\n4. La palabra \"ejemplo\" en cursivas y con un fondo verde usando HTML.\n\nNota: Si no has sido capaz de encontrar como dar color de fondo usando HTML quizás <span style=\"background-color:yellow\">*tienes que buscar más cerca de ti*</span>\n",
      "metadata": {
        "id": "35f0595a"
      }
    },
    {
      "id": "e635c5e8-c917-4f5f-9040-a82f70913df7",
      "cell_type": "markdown",
      "source": "## CURSO DE MARKDOWN\nEsta información es **importante**\n> Aprender es crecer.  \n\n<span style=\"background-color:yellow\">*Ejemplo*</style>\n",
      "metadata": {
        "id": "919b170c"
      }
    }
  ]
}