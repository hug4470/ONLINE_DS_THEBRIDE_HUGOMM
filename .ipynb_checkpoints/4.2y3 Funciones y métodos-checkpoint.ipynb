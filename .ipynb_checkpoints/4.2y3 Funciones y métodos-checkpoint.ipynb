{
  "metadata": {
    "kernelspec": {
      "name": "python",
      "display_name": "Python (Pyodide)",
      "language": "python"
    },
    "language_info": {
      "codemirror_mode": {
        "name": "python",
        "version": 3
      },
      "file_extension": ".py",
      "mimetype": "text/x-python",
      "name": "python",
      "nbconvert_exporter": "python",
      "pygments_lexer": "ipython3",
      "version": "3.8"
    },
    "colab": {
      "provenance": []
    }
  },
  "nbformat_minor": 4,
  "nbformat": 4,
  "cells": [
    {
      "cell_type": "markdown",
      "source": "<img src = \"./img/TheBridge_logo_RGB_color.jpg\" width = 500><img src = \"./img/python.jpg\" width = 500>",
      "metadata": {
        "id": "X-DNC9uJXx21"
      }
    },
    {
      "cell_type": "markdown",
      "source": "# Python Basics I",
      "metadata": {
        "id": "s9YILbMrXx24"
      }
    },
    {
      "cell_type": "markdown",
      "source": "## Contenidos",
      "metadata": {
        "id": "1MzQ4nIvXx25"
      }
    },
    {
      "cell_type": "markdown",
      "source": "* [Funciones (I): *Built in*](#Funciones-(I):-*Built-in*)\n* [Métodos](#Métodos)\n",
      "metadata": {
        "id": "2GoQJx2zXx25"
      }
    },
    {
      "cell_type": "markdown",
      "source": "## Funciones (I): *Built in*\n[al indice](#Contenidos)  \n\nHay una serie de funciones internas, que vienen en el intérprete de Python. Algunas de las más comunes son:\n* **Tipos**: `bool()`, `str()`, `int()`, `float()`\n* **Min/Max**: `min()`, `max()`\n* **print()**\n* **type()**\n* **range()**\n* **zip()**\n* **len()**\n* **round()**\n* ...\n\nLa sintaxis de la función es:\n\n```Python\nnombre_funcion(argumentos)\n```\n\nAlgunas ya las hemos visto. Sin embargo, hay unas cuantas que las iremos descubriendo a lo largo de estos notebooks. Para más detalle, tienes [aquí](https://docs.python.org/3/library/functions.html) todas las funciones *built-in* de la documentación.\n\nDe momento, en lo que se refiere a funciones, vamos a ir trabajando con funciones ya hechas, pero más adelante crearemos nuestras propias funciones.",
      "metadata": {
        "id": "g7CkZgMJXx26"
      }
    },
    {
      "cell_type": "code",
      "source": "# Len se usa para calcular la longitud de una variable. Ya veras que lo usaremos mucho en colecciones\nprint (len (\"Esto es una cadena de longitud...\"))\nprint (max (1,12,13,24,25,6))\n# Funcion max. Tiene tantos argumentos como cantidad de números entre los cuales queramos sacar su valor máximo.\n",
      "metadata": {
        "id": "HKsNFl76Xx27",
        "trusted": true
      },
      "outputs": [
        {
          "name": "stdout",
          "text": "33\n25\n",
          "output_type": "stream"
        }
      ],
      "execution_count": 5
    },
    {
      "cell_type": "code",
      "source": "cadena = \"La longitud de esta cadena es\"\nprint (cadena, len (cadena), sep = \"**test**\",)\nprint (\"Esto va en otra línea\")\ncadena = \"La longitud de esta cadena es\"\nprint (cadena, len (cadena), \"y no es un float\", sep = \"**test**\", end = \" _ \")\nprint (\"Esto va en otra línea\")",
      "metadata": {
        "trusted": true
      },
      "outputs": [
        {
          "name": "stdout",
          "text": "La longitud de esta cadena es**test**29\nEsto va en otra línea\nLa longitud de esta cadena es**test**29**test**y no es un float _ Esto va en otra línea\n",
          "output_type": "stream"
        }
      ],
      "execution_count": 17
    },
    {
      "cell_type": "markdown",
      "source": "## Métodos\n[al indice](#Contenidos)  \n\nSe trata de una propiedad MUY utilizada en programación. Son funciones propias de las variables/objetos, y que nos permiten modificarlos u obtener más información de los mismos. Dependiendo del tipo de objeto, tendremos unos métodos disponibles diferentes.\n\nPara usar un método se usa la sintaxis `objeto.metodo()`. Ponemos un punto entre el nombre del objeto y el del metodo, y unos paréntesis por si el método necesita de algunos argumentos. **Aunque no necesite de argumentos, los paréntesis hay que ponerlos igualmente.**\n\nVeamos algunos ejemplos\n\n### String\nUna variable de tipo string, tiene una serie de métodos que permiten sacarle jugo a la cadena de texto. [Aquí](https://docs.python.org/2.5/lib/string-methods.html) tienes todos los métodos que podemos usar en cadenas de texto",
      "metadata": {
        "id": "TUOq5sXJXx28"
      }
    },
    {
      "cell_type": "code",
      "source": "string_ejemplo = \"string en minúsculas\"\n\n#Todo en mayúsuclas\nprint (string_ejemplo.upper())\n\n#Todo en minúsculas\nprint(\"ESTO ES UN EJEMPLO DIFERENTE\".lower())\nstring_ejemplo2 = \"ESTO ES UN EJEMPLO DIFERENTE\"\nprint (string_ejemplo2.lower())\n\n#Reemplazar 1 o más caracteres\nprint (string_ejemplo.replace(\"s\",\"c\"))\nprint (string_ejemplo.replace(\"minúsculas\", \"mayúsculas\"))\nprint (string_ejemplo.replace(\"s\",\"\"))\n\n#Convertir string en lista\nprint (\"Esto se va a convertir en una lista de strings\".split(\" \"))\nprint (\"1Esto se va a 1convertir en una 1lista de strings\".split(\"1\"))\nprint (\"Esto se va a convertir en una lista de strings\".split(\"convertir\"))\n\n#Conocer posición de un caracter en un string\nprint ( \"La 'M' está en la posición\", string_ejemplo.index(\"m\"))",
      "metadata": {
        "id": "IGS6Ec5yXx28",
        "trusted": true
      },
      "outputs": [
        {
          "name": "stdout",
          "text": "STRING EN MINÚSCULAS\nesto es un ejemplo diferente\nesto es un ejemplo diferente\nctring en minúcculac\nstring en mayúsculas\ntring en minúcula\n['Esto', 'se', 'va', 'a', 'convertir', 'en', 'una', 'lista', 'de', 'strings']\n['', 'Esto se va a ', 'convertir en una ', 'lista de strings']\n['Esto se va a ', ' en una lista de strings']\nLa 'M' está en la posición 10\n",
          "output_type": "stream"
        }
      ],
      "execution_count": 50
    },
    {
      "cell_type": "code",
      "source": "",
      "metadata": {
        "id": "FTE_M67tXx28"
      },
      "outputs": [],
      "execution_count": null
    },
    {
      "cell_type": "markdown",
      "source": "Como ves, se pueden hacer muchas cosas en los Strings gracias a sus métodos. Ya verás cómo la cosa se pone más interesante cuando los tipos de los datos sean todavía más complejos.\n\nLos métodos son una manera de abstraernos de cierta operativa. Convertir todos los caracteres de una cadena a minuscula, puede ser un poco tedioso si no existiese el método `lower()`. Tendríamos que acudir a bucles o programación funcional.",
      "metadata": {
        "id": "nVlqQ5hyXx29"
      }
    },
    {
      "cell_type": "markdown",
      "source": "<table align=\"left\">\n <tr><td width=\"80\"><img src=\"./img/error.png\" style=\"width:auto;height:auto\"></td>\n     <td style=\"text-align:left\">\n         <h3>ERRORES en métodos</h3>\n         \n </td></tr>\n</table>",
      "metadata": {
        "id": "wK1ciYBLXx29"
      }
    },
    {
      "cell_type": "code",
      "source": "# Cuando un método necesita ciertos argumentos, y no se los proporcionamos\nstring_ejemplo.replace(\"n\",\"c\")",
      "metadata": {
        "scrolled": true,
        "id": "nvEv1If-Xx29",
        "trusted": true
      },
      "outputs": [
        {
          "execution_count": 59,
          "output_type": "execute_result",
          "data": {
            "text/plain": "'stricg ec micúsculas'"
          },
          "metadata": {}
        }
      ],
      "execution_count": 59
    },
    {
      "cell_type": "code",
      "source": "",
      "metadata": {
        "id": "DBcbV9eZXx2-"
      },
      "outputs": [],
      "execution_count": null
    },
    {
      "cell_type": "code",
      "source": "",
      "metadata": {
        "id": "jynhoJuJXx2-"
      },
      "outputs": [],
      "execution_count": null
    }
  ]
}