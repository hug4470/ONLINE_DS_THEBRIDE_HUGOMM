{
  "metadata": {
    "kernelspec": {
      "name": "python",
      "display_name": "Python (Pyodide)",
      "language": "python"
    },
    "language_info": {
      "codemirror_mode": {
        "name": "python",
        "version": 3
      },
      "file_extension": ".py",
      "mimetype": "text/x-python",
      "name": "python",
      "nbconvert_exporter": "python",
      "pygments_lexer": "ipython3",
      "version": "3.8"
    }
  },
  "nbformat_minor": 4,
  "nbformat": 4,
  "cells": [
    {
      "cell_type": "markdown",
      "source": "<img src = \"./img/TheBridge_logo_RGB_color.jpg\" width = 500>\n<img src = \"./img/python.jpg\" width = 500>",
      "metadata": {}
    },
    {
      "cell_type": "markdown",
      "source": "# Python Basics I",
      "metadata": {}
    },
    {
      "cell_type": "markdown",
      "source": "## Contenidos",
      "metadata": {}
    },
    {
      "cell_type": "markdown",
      "source": "* [Operaciones con booleanos](#Operaciones-con-booleanos)\n\n",
      "metadata": {}
    },
    {
      "cell_type": "markdown",
      "source": "## Operaciones con booleanos\n[al indice](#Contenidos)  \n\nTodas las operaciones que realizabamos en el apartado anterior devolvían un tipo de dato concreto: un booleano. `True` o `False`. Pero ¿cómo harías si se tienen que cumplir 3 condiciones, o solo una de esas tres, o que no se cumplan 5 condiciones?\nPara este tipo de operaciones recurrimos al [*Álgebra de Boole*](https://es.wikipedia.org/wiki/%C3%81lgebra_de_Boole#:~:text=El%20%C3%A1lgebra%20de%20Boole%2C%20tambi%C3%A9n,que%20esquematiza%20las%20operaciones%20l%C3%B3gicas.). Se trata de una rama del álgebra que se utiliza en electrónica, pero que tiene un sin fin de aplicaciones, no solo téncicas, sino aplicables a la vida cotidiana. Estas matemáticas pueden llegar a ser muy complejas aún utilizando ñunicamente dos valores: `True` y `False`. Las operaciones más comunes son **AND, OR, NOR**.\nEn las siguientes tablas tienes todos los posibles resultados de las puertas AND, OR, NOR, dependiendo de sus inputs.\n\n![imagen](./img/puertas_logicas.png)\n\nPuede parecer complejo pero a efectos prácticos, y sin meternos con otro tipo de puertas lógicas, te recomiendo seguir estas reglas:\n* **AND**: Se tienen que cumplir ambas condiciones para que sea un `True`\n* **OR**: Basta que se cumpla al menos una condicion para que sea `True`\n* **NOR**: Lo contrario de lo que haya\n\nVeamos un ejemplo práctico para aclarar estos conceptos. Imaginemos que queremos comprar un ordenador, pero nos cuesta decidirnos. Eso sí, tenemos claras las siguentes condiciones a la hora de elegir\n* La RAM me vale que tenga 16, 32 o 64 GB\n* En cuanto al procesador y disco duro, la combinación que mejor me viene es un i3 con 500GB de disco.\n* Precio: que no pase de los 800 €",
      "metadata": {}
    },
    {
      "cell_type": "code",
      "source": "# Primer ordenador\nram1 = 32\nprocess1 = \"i5\"\ndisco1 = 500\nprecio1 = 850\n\n# Segundo ordenador\nram2 = 8\nprocess2 = \"i5\"\ndisco2 = 500\nprecio2 = 600\n\n# Tercer ordenador\nram3 = 32\nprocess3 = \"i3\"\ndisco3 = 500\nprecio3 = 780",
      "metadata": {
        "trusted": true
      },
      "outputs": [],
      "execution_count": 1
    },
    {
      "cell_type": "markdown",
      "source": "Veamos cómo implemento esto mediante operaciones booleanas",
      "metadata": {}
    },
    {
      "cell_type": "code",
      "source": "# Primero, calculamos el valor de estas condiciones por separado\n# para el primer ordenador\n",
      "metadata": {},
      "outputs": [],
      "execution_count": null
    },
    {
      "cell_type": "code",
      "source": "cond_ram1 = (ram1 == 16 or ram1 == 32 or ram1 == 64)\ncond_process1 = (process1 == \"i3\" and disco1 == 500)\ncond_precio1 = (precio1 < 800)\ncon_total1 = (cond_ram1 and cond_process1 and cond_precio1)\nprint (con_total1, cond_ram1, cond_process1, cond_precio1)",
      "metadata": {
        "trusted": true
      },
      "outputs": [
        {
          "name": "stdout",
          "text": "False True False False\n",
          "output_type": "stream"
        }
      ],
      "execution_count": 4
    },
    {
      "cell_type": "markdown",
      "source": "El primer ordenador cumple el requisito de ram, pero no los de precio y procesador/disco. Veamos los otros dos si los cumplen",
      "metadata": {}
    },
    {
      "cell_type": "code",
      "source": "cond_total2 = (ram2 == 16 or ram2 == 32 or ram2 == 64) \\\nand (process2 == \"i3\" and disco2 == 500) \\\nand (precio2 < 800)\ncond_total3 = (ram3 == 16 or ram3 == 32 or ram3 == 64) \\\nand (process3 == \"i3\" and disco3 == 500) \\\nand (precio3 < 800)\nprint ( \"EL ordenador 2 es:\", cond_total2)\nprint (\"El ordenador 3 es:\", cond_total3)",
      "metadata": {
        "trusted": true
      },
      "outputs": [
        {
          "name": "stdout",
          "text": "EL ordenador 2 es: False\nEl ordenador 3 es: True\n",
          "output_type": "stream"
        }
      ],
      "execution_count": 11
    },
    {
      "cell_type": "markdown",
      "source": "¡Bingo! El tercer ordenador cumple todas las condiciones para ser mi futura compra. Verás en próximos notebooks que esto se puede hacer todavía más sencillo mediante bucles y funciones.\n\nSi quieres aprender más sobre el **Álgebra de Boole**, te recomiendo [esta página](https://ryanstutorials.net/boolean-algebra-tutorial/)",
      "metadata": {}
    },
    {
      "cell_type": "code",
      "source": "",
      "metadata": {},
      "outputs": [],
      "execution_count": null
    },
    {
      "cell_type": "code",
      "source": "",
      "metadata": {},
      "outputs": [],
      "execution_count": null
    }
  ]
}