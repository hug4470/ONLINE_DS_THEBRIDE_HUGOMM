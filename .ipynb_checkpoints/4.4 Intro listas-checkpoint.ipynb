{
  "metadata": {
    "kernelspec": {
      "name": "python",
      "display_name": "Python (Pyodide)",
      "language": "python"
    },
    "language_info": {
      "codemirror_mode": {
        "name": "python",
        "version": 3
      },
      "file_extension": ".py",
      "mimetype": "text/x-python",
      "name": "python",
      "nbconvert_exporter": "python",
      "pygments_lexer": "ipython3",
      "version": "3.8"
    }
  },
  "nbformat_minor": 4,
  "nbformat": 4,
  "cells": [
    {
      "cell_type": "markdown",
      "source": "<img src = \"./img/TheBridge_logo_RGB_color.jpg\" width = 500><img src = \"./img/python.jpg\" width = 500>",
      "metadata": {}
    },
    {
      "cell_type": "markdown",
      "source": "# Python Basics I",
      "metadata": {}
    },
    {
      "cell_type": "markdown",
      "source": "## Contenidos",
      "metadata": {}
    },
    {
      "cell_type": "markdown",
      "source": "* [Listas](#Listas)\n",
      "metadata": {}
    },
    {
      "cell_type": "markdown",
      "source": "## Listas\n[al indice](#Contenidos)  \nSe trata de otro de los tipos de datos de Python más usados. Dentro de las colecciones, que veremos más adelante, la lista es la colección que normalmente se le da más uso. **Nos permiten almacenar conjuntos de variables u objetos**, y son elementos de lo más versátiles puesto que podemos almacenar objetos de distintos tipos, modificarlos, eliminarlos, meter listas dentro de listas... Sus dos caractrísticas principales son:\n* **Mutables**: una vez se ha creado la lista, se puede modificar\n* **Ordenada**: Los elementos tienen un cierto orden, lo que nos permite acceder al elemento que queramos teniendo en cuenta tal orden\n\nEn cuanto a su sintaxis, cuando declaremos la lista simplemente hay que separar cada elemento con comas, y rodearlo todo con corchetes.",
      "metadata": {}
    },
    {
      "cell_type": "code",
      "source": "#lista de números\nnúmeros = [1,3,5,6]\nprint (números, type(números))",
      "metadata": {
        "trusted": true
      },
      "outputs": [
        {
          "name": "stdout",
          "text": "[1, 3, 5, 6] <class 'list'>\n",
          "output_type": "stream"
        }
      ],
      "execution_count": 2
    },
    {
      "cell_type": "code",
      "source": "#lista de strings\nstring = [\"Esto\", \"es\", \"una\", \"lista\", \"de\", \"string\"]\nprint (string)\n\n#lista de booleanos\nbooleanos = [True, False, not False, True or False, True and False]\nprint (booleanos)",
      "metadata": {
        "trusted": true
      },
      "outputs": [
        {
          "name": "stdout",
          "text": "['Esto', 'es', 'una', 'lista', 'de', 'string']\n[True, False, True, True, False]\n",
          "output_type": "stream"
        }
      ],
      "execution_count": 8
    },
    {
      "cell_type": "markdown",
      "source": "**NOTA**: ¿Ves por qué los decimales en Python siempre van con puntos y no con comas? Con las colecciones el intérprete de Python se volvería loco.\n\nPodemos ver tambien el tipo de la lista",
      "metadata": {}
    },
    {
      "cell_type": "code",
      "source": "#Lista de tipos mezclados\nmix = [\"Esto es\", 12, -34.5, True, False, \"lista\"]\nprint (mix, type(mix))\n\n#Listas en listas\nlistas = [\"Gola\", \"12\", 23, [23, True, False]]\nprint (listas, type(listas))",
      "metadata": {
        "trusted": true
      },
      "outputs": [
        {
          "name": "stdout",
          "text": "['Esto es', 12, -34.5, True, False, 'lista'] <class 'list'>\n['Gola', '12', 23, [23, True, False]] <class 'list'>\n",
          "output_type": "stream"
        }
      ],
      "execution_count": 10
    },
    {
      "cell_type": "code",
      "source": "len (listas)",
      "metadata": {
        "trusted": true
      },
      "outputs": [
        {
          "execution_count": 15,
          "output_type": "execute_result",
          "data": {
            "text/plain": "4"
          },
          "metadata": {}
        }
      ],
      "execution_count": 15
    },
    {
      "cell_type": "code",
      "source": "len (mix)",
      "metadata": {
        "trusted": true
      },
      "outputs": [
        {
          "execution_count": 14,
          "output_type": "execute_result",
          "data": {
            "text/plain": "6"
          },
          "metadata": {}
        }
      ],
      "execution_count": 14
    },
    {
      "cell_type": "code",
      "source": "concatenacion = mix + listas\nprint (concatenacion, type(concatenacion))",
      "metadata": {
        "trusted": true
      },
      "outputs": [
        {
          "name": "stdout",
          "text": "['Esto es', 12, -34.5, True, False, 'lista', 'Gola', '12', 23, [23, True, False]] <class 'list'>\n",
          "output_type": "stream"
        }
      ],
      "execution_count": 17
    },
    {
      "cell_type": "markdown",
      "source": "Calcular la longitud de la misma mediante el método *built-in* ya visto: `len()`",
      "metadata": {}
    },
    {
      "cell_type": "code",
      "source": "",
      "metadata": {
        "trusted": true
      },
      "outputs": [],
      "execution_count": null
    },
    {
      "cell_type": "markdown",
      "source": "Accedemos a los elemenos de la lista mediante corchetes `[]`\n\n**Importante**. El primer elemento es el 0",
      "metadata": {}
    },
    {
      "cell_type": "code",
      "source": "lista_ejemplo = [\"Esto\", 2, 3, \"patata\"]\nprint (lista_ejemplo[0])\nprint (lista_ejemplo[-1])\nprint (lista_ejemplo[2])\nprint (lista_ejemplo[-2])",
      "metadata": {
        "trusted": true
      },
      "outputs": [
        {
          "name": "stdout",
          "text": "Esto\npatata\n3\n3\n",
          "output_type": "stream"
        }
      ],
      "execution_count": 23
    },
    {
      "cell_type": "code",
      "source": "",
      "metadata": {
        "trusted": true
      },
      "outputs": [],
      "execution_count": null
    },
    {
      "cell_type": "markdown",
      "source": "### Metodos en Listas\nPara el tipo de objeto lista, también hay una serie de métodos catacterísticos que nos permiten operar con ellas: añadir valores, quitarlos, indexado, filtrado, etc... En [este enlace](https://www.w3schools.com/python/python_ref_list.asp) puedes encontrar todos los métodos que podrás usar con listas.",
      "metadata": {}
    },
    {
      "cell_type": "code",
      "source": "asignaturas = [\"Física\", \"Química\", \"Matemáticas\", \"Literatura\"]\n\n#añadir elemento a una lista\n\nasignaturas.append (\"Filosofía\")\nprint (asignaturas)\n\n#en una posición determinada\nasignaturas.insert (1, \"Gimnasia\")\nprint (asignaturas)\n\n#quitar elementos\n#asignaturas.clear()\n#print (asignaturas)\n\n#quitar un elemento a partir de su índice\nasignaturas.pop(1)\nprint (asignaturas)\n\n#quitar por su valor\nasignaturas.remove(\"Filosofía\")\nprint(asignaturas)\n\n#ordenar la lista alfabeticamente\nasignaturas.sort()\nprint (asignaturas)",
      "metadata": {
        "trusted": true
      },
      "outputs": [
        {
          "name": "stdout",
          "text": "['Física', 'Química', 'Matemáticas', 'Literatura', 'Filosofía']\n['Física', 'Gimnasia', 'Química', 'Matemáticas', 'Literatura', 'Filosofía']\n['Física', 'Química', 'Matemáticas', 'Literatura', 'Filosofía']\n['Física', 'Química', 'Matemáticas', 'Literatura']\n['Física', 'Literatura', 'Matemáticas', 'Química']\n",
          "output_type": "stream"
        }
      ],
      "execution_count": 35
    },
    {
      "cell_type": "code",
      "source": "",
      "metadata": {
        "trusted": true
      },
      "outputs": [],
      "execution_count": null
    },
    {
      "cell_type": "code",
      "source": "",
      "metadata": {
        "trusted": true
      },
      "outputs": [],
      "execution_count": null
    }
  ]
}