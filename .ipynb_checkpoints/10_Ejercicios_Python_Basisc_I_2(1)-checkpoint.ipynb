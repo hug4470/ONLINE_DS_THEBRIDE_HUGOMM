{
  "metadata": {
    "kernelspec": {
      "name": "python",
      "display_name": "Python (Pyodide)",
      "language": "python"
    },
    "language_info": {
      "codemirror_mode": {
        "name": "python",
        "version": 3
      },
      "file_extension": ".py",
      "mimetype": "text/x-python",
      "name": "python",
      "nbconvert_exporter": "python",
      "pygments_lexer": "ipython3",
      "version": "3.8"
    },
    "colab": {
      "provenance": []
    }
  },
  "nbformat_minor": 4,
  "nbformat": 4,
  "cells": [
    {
      "cell_type": "markdown",
      "source": "![TheBridge_logo_RGB_color.jpg](attachment:TheBridge_logo_RGB_color.jpg)",
      "metadata": {
        "id": "GB2K42EgK9q5"
      }
    },
    {
      "cell_type": "markdown",
      "source": "![imagen](./img/ejercicios.png)",
      "metadata": {
        "id": "GnwVlO37K9q6"
      }
    },
    {
      "cell_type": "markdown",
      "source": "## EJERCICIOS PYTHON BASICO 2:\n## Tipos y conversión de tipos",
      "metadata": {
        "id": "_9pTa0PXK9q6"
      }
    },
    {
      "cell_type": "markdown",
      "source": "Completa los siguiente ejercicios, la solución a los mismos se publicarán en el repo del curso a lo largo del sprint",
      "metadata": {
        "id": "tYmV-veoK9q6"
      }
    },
    {
      "cell_type": "markdown",
      "source": "![ejercicio.png](./img/ejercicio.png)\n\n## Ejercicio 1\n\n1. Crea dos variables numericas: un `int` y un `float`\n2. Comprueba sus tipos\n3. Sumalas en otra nueva\n4. ¿De qué tipo es la nueva variable?\n5. Elimina las dos primeras variables creadas",
      "metadata": {
        "id": "YAdFbIOXK9q7"
      }
    },
    {
      "cell_type": "code",
      "source": "# PARTE 1\nej_int = 9\nej_float = 9.0\n# PARTE 2\nprint (ej_int, type(ej_int))\nprint (ej_float, type(ej_float))\n# PARTE 3\nsuma = ej_int + ej_float\n# PARTE 4\nprint (suma, type(suma))\n# PARTE 5\ndel ej_int\ndel ej_float",
      "metadata": {
        "id": "8QZmuLOsK9q7",
        "trusted": true
      },
      "outputs": [],
      "execution_count": null
    },
    {
      "cell_type": "markdown",
      "source": "![ejercicio.png](./img/ejercicio.png)\n\n## Ejercicio 2\nEscribe un programa para pasar de grados a radianes. Hay que usar `input`. Recuerda que la conversión se realiza mediante\n\nradianes = grados*(pi/180)",
      "metadata": {
        "id": "f5xfpkpQK9q7"
      }
    },
    {
      "cell_type": "code",
      "source": "grados = input (\"¿Cuantos grados quieres convertir?\")\nentero = int(grados)\nradianes = (3.1416/180)*entero\nprint (radianes)",
      "metadata": {
        "trusted": true
      },
      "outputs": [],
      "execution_count": null
    },
    {
      "cell_type": "markdown",
      "source": "![ejercicio.png](./img/ejercicio.png)\n\n## Ejercicio 3\nEscribe un programa que calcule el area de un paralelogramo (base x altura). También con `input`",
      "metadata": {
        "id": "zX3-p58CK9q7"
      }
    },
    {
      "cell_type": "code",
      "source": "altura = input(\"Altura\")\nbase = input (\"Base\")\narea = int(altura) * int(base)\nprint (\"El área el paralelo gramo es: \", area)",
      "metadata": {
        "id": "s2QfNiBAK9q7",
        "trusted": true
      },
      "outputs": [],
      "execution_count": null
    },
    {
      "cell_type": "markdown",
      "source": "![ejercicio.png](./img/ejercicio.png)\n\n## Ejercicio 4\nEscribe un programa que calcule el area de un paralelogramo (base x altura). También con `input`. En este caso debe ser capaz de admitir valores reales, con decimales, para base y altura en español. (PISTA: Recuerda que tendrás que hacer uso del método replace)",
      "metadata": {
        "id": "-6TBo_HvK9q8"
      }
    },
    {
      "cell_type": "code",
      "source": "# NO ENTIENDO DE QUÉ FORMA HAY QUE USAR REPLACE. REALMENTE SIRVE EL CODIGO ANTERIOR SIMPLEMENTE USANDO LA FUNCION QUE TRANSFORMA EN FLOAT ¿NO?\n\naltura = input(\"Altura\")\nbase = input (\"Base\")\narea = float(altura) * float(base)\nprint (\"El área el paralelo gramo es: \", area)",
      "metadata": {
        "id": "uzUIa1JqK9q8",
        "trusted": true
      },
      "outputs": [],
      "execution_count": null
    },
    {
      "cell_type": "markdown",
      "source": "![ejercicio.png](./img/ejercicio.png)\n\n## Ejercicio 5\nComplete el siguiente código para solicitar al usuario su nombre y su edad. Luego, calcule en qué año nació el usuario y muestre el resultado.",
      "metadata": {
        "id": "5zKugi5iK9q8"
      }
    },
    {
      "cell_type": "code",
      "source": "nombre = input(\"¿Cuál es tu nombre? \")\nedad = float(input(\"¿Cuál es tu edad? \"))\naño_actual = 2024  \naño_nacimiento = año_actual - edad\n\nprint(f\"{nombre}, naciste en el año {año_nacimiento}.\")",
      "metadata": {
        "id": "LISfTnRkK9q8",
        "trusted": true
      },
      "outputs": [
        {
          "ename": "<class 'TypeError'>",
          "evalue": "float() argument must be a string or a real number, not 'PyodideFuture'",
          "traceback": [
            "\u001b[0;31m---------------------------------------------------------------------------\u001b[0m",
            "\u001b[0;31mTypeError\u001b[0m                                 Traceback (most recent call last)",
            "Cell \u001b[0;32mIn[32], line 2\u001b[0m\n\u001b[1;32m      1\u001b[0m nombre \u001b[38;5;241m=\u001b[39m \u001b[38;5;28minput\u001b[39m(\u001b[38;5;124m\"\u001b[39m\u001b[38;5;124m¿Cuál es tu nombre? \u001b[39m\u001b[38;5;124m\"\u001b[39m)\n\u001b[0;32m----> 2\u001b[0m edad \u001b[38;5;241m=\u001b[39m \u001b[38;5;28;43mfloat\u001b[39;49m\u001b[43m(\u001b[49m\u001b[38;5;28;43minput\u001b[39;49m\u001b[43m(\u001b[49m\u001b[38;5;124;43m\"\u001b[39;49m\u001b[38;5;124;43m¿Cuál es tu edad? \u001b[39;49m\u001b[38;5;124;43m\"\u001b[39;49m\u001b[43m)\u001b[49m\u001b[43m)\u001b[49m\n\u001b[1;32m      3\u001b[0m año_actual \u001b[38;5;241m=\u001b[39m \u001b[38;5;241m2023\u001b[39m  \u001b[38;5;66;03m# Puedes cambiarlo según el año en curso\u001b[39;00m\n\u001b[1;32m      4\u001b[0m año_nacimiento \u001b[38;5;241m=\u001b[39m año_actual \u001b[38;5;241m-\u001b[39m edad\n",
            "\u001b[0;31mTypeError\u001b[0m: float() argument must be a string or a real number, not 'PyodideFuture'"
          ],
          "output_type": "error"
        }
      ],
      "execution_count": 32
    }
  ]
}