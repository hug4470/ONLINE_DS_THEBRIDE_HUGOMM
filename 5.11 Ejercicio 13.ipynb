{
  "metadata": {
    "kernelspec": {
      "name": "python",
      "display_name": "Python (Pyodide)",
      "language": "python"
    },
    "language_info": {
      "codemirror_mode": {
        "name": "python",
        "version": 3
      },
      "file_extension": ".py",
      "mimetype": "text/x-python",
      "name": "python",
      "nbconvert_exporter": "python",
      "pygments_lexer": "ipython3",
      "version": "3.8"
    },
    "colab": {
      "provenance": []
    }
  },
  "nbformat_minor": 4,
  "nbformat": 4,
  "cells": [
    {
      "cell_type": "markdown",
      "source": "![TheBridge_logo_RGB_color.jpg](attachment:TheBridge_logo_RGB_color.jpg)",
      "metadata": {
        "id": "9l3HMgm6RWxF"
      }
    },
    {
      "cell_type": "markdown",
      "source": "![ejercicios.png](attachment:ejercicios.png)",
      "metadata": {
        "id": "RGg9iWpoRWxG"
      }
    },
    {
      "cell_type": "markdown",
      "source": "## PRACTICA OBLIGATORIA: COLECCIONES Y FUNCIONES",
      "metadata": {
        "id": "AyOlWS2nRWxH"
      }
    },
    {
      "cell_type": "markdown",
      "source": "* La práctica obligatoria de esta unidad consiste varios ejercicios de programación libre a completar sobre Colecciones y Funciones. Descarga este notebook en tu ordenador y trabaja en local.  \n* Recuerda que debes subirla a tu repositorio personal antes de la sesión en vivo para que puntúe adecuadamente y puedas participar en dicha sesión.  \n* Recuerda también que no es necesario que esté perfecta, sólo es necesario que se vea el esfuerzo.\n* Esta práctica se resolverá en la sesión en vivo correspondiente y la solución se publicará en el repo del curso.",
      "metadata": {
        "id": "6UOgb0KVRWxH"
      }
    },
    {
      "cell_type": "markdown",
      "source": "### Contenidos",
      "metadata": {
        "id": "j3yu-tEjRWxH"
      }
    },
    {
      "cell_type": "markdown",
      "source": "## Ejercicio 1\nEleva todos los elementos de la lista al cuadrado\n> ```ejer_2 = [1,2,3,4,5]```",
      "metadata": {
        "id": "kO-fLH39RWxH"
      }
    },
    {
      "cell_type": "code",
      "source": "ejer_2 = [1,2,3,4,5]\nlista_cuadrados = [x**2 for x in ejer_2]\nprint (lista_cuadrados)",
      "metadata": {
        "id": "ks5l3yi7RWxH",
        "trusted": true
      },
      "outputs": [
        {
          "name": "stdout",
          "text": "[1, 4, 9, 16, 25]\n",
          "output_type": "stream"
        }
      ],
      "execution_count": 4
    },
    {
      "cell_type": "markdown",
      "source": "## Ejercicio 2\nHaz un programa que detecte todos los duplicados de un elemento en una lista:\n* Utiliza una variable duplicado para asignarle el valor del elemento del que queremos encontrar todos sus duplicados.\n* El programa debe devolver todos los índices de los elementos duplicados.\n* Aplícalo para encontrar los duplicados de \"un\", \"es\" y \"binario\" de:  \n\n>```ejer_3 = [\"Un\", \"árbol\", \"binario\", \"es\", \"una\", \"estructura\", \"de\", \"un\", \"tipo\", \"particular\", \"a\", \"veces\", \"no\", \"es\", \"ni\", \"binario\"]```\n",
      "metadata": {
        "id": "kI_Xr5oFRWxI"
      }
    },
    {
      "cell_type": "code",
      "source": "def encontrar_duplicados (lista, duplicado):\n    lista_lower = [palabra.lower() for palabra in lista]\n    duplicado_lower = duplicado.lower()\n    indices_duplicados = [i for i, palabra in enumerate (lista_lower) if palabra == duplicado_lower]\n    return indices_duplicados\n\nejer_3 = [\"Un\", \"árbol\", \"binario\", \"es\", \"una\", \"estructura\", \"de\", \"un\", \"tipo\", \"particular\", \"a\", \"veces\", \"no\", \"es\", \"ni\", \"binario\"]\n\nprint(\"Indices de 'un':\", encontrar_duplicados(ejer_3, \"un\"))\nprint(\"Indices de 'es':\", encontrar_duplicados(ejer_3, \"es\"))\nprint(\"Indices de 'binario':\", encontrar_duplicados(ejer_3, \"binario\"))",
      "metadata": {
        "id": "cLY9WB7YRWxI",
        "trusted": true
      },
      "outputs": [],
      "execution_count": null
    },
    {
      "cell_type": "markdown",
      "source": "## Ejercicio 3\n1. ¿Cuántas veces se repite el 3 en la siguiente tupla?\n2. Crea una tupla nueva con los elementos desde la posicion 5 a la 10.\n3. ¿Cuántos elementos tiene la tupla `ejer_3`?\n> ```ejer_9 = (3, 20, 3, 47, 19, 3, 29, 45, 67, 78, 90, 3, 3, 5, 2, 4, 7, 9, 4, 2, 4, 3, 3, 4, 6, 7)```",
      "metadata": {
        "id": "3WrBd5QaRWxI"
      }
    },
    {
      "cell_type": "code",
      "source": "# Pregunta 1. Opcion 1 (la primera que se me ha ocurrido)\ndef repetido (tupla, numero):\n    contador = 0\n    for i in tupla:\n        if i == numero:\n            contador += 1\n    print (\"EL número \", numero, \"se repite\", contador, \"veces\")\n    return\nejer_9 = (3, 20, 3, 47, 19, 3, 29, 45, 67, 78, 90, 3, 3, 5, 2, 4, 7, 9, 4, 2, 4, 3, 3, 4, 6, 7)\nrepetido (ejer_9, 3)\n\n# Pregunta 1. Opcion 2. (Recordando que existia método .count())\nejer_9 = (3, 20, 3, 47, 19, 3, 29, 45, 67, 78, 90, 3, 3, 5, 2, 4, 7, 9, 4, 2, 4, 3, 3, 4, 6, 7)\n\ndef contar_repeticiones (tupla, numero):\n  print(\"Las repeticiones del numero\", numero, \"son\", tupla.count(numero))\n  return\n\ncontar_repeticiones(ejer_9, 3)",
      "metadata": {
        "id": "bkv_R5LYRWxI",
        "trusted": true
      },
      "outputs": [],
      "execution_count": null
    },
    {
      "cell_type": "code",
      "source": "# Pregunta 2 (con función)\ndef nueva_tupla (tupla, inicio, fin):\n    nueva_tupla = tupla [inicio:fin]\n    print (\"La nueva tupla es:\", nueva_tupla)\n\nprint (nueva_tupla (ejer_9, 5, 11))\n\n# Pregunta 2 (sin función)\ntupla2 = ejer_9[5:11]\nprint (tupla2)",
      "metadata": {
        "trusted": true
      },
      "outputs": [],
      "execution_count": null
    },
    {
      "cell_type": "markdown",
      "source": "## Ejercicio 4\nComprueba si el numero 60 esta en la tupla del ejercicio 3",
      "metadata": {
        "id": "6g8Y54AeRWxI"
      }
    },
    {
      "cell_type": "code",
      "source": "ejer_9 = (3, 20, 3, 47, 19, 3, 29, 45, 67, 78, 90, 3, 3, 5, 2, 4, 7, 9, 4, 2, 4, 3, 3, 4, 6, 7)\ndef comprobacion (numero, tupla):\n    if numero in tupla:\n            print (\"Sí existe el número:\", numero)\n    else:\n        print (\"El número:\", numero, \"no está en la tupla.\")\n    return",
      "metadata": {
        "id": "F8VTEZonRWxI",
        "trusted": true
      },
      "outputs": [],
      "execution_count": null
    },
    {
      "cell_type": "markdown",
      "source": "## Ejercicio 5\n1. Convierte la tupla del ejercicio 3 en una lista\n2. Convierte la tupla del ejercicio 3 en un set\n3. Convierte la tupla del ejercicio 3 en un diccionario. Usa también los indices",
      "metadata": {
        "id": "y0fg-ZA6RWxI"
      }
    },
    {
      "cell_type": "code",
      "source": "def conversor_lista (tupla):\n    lista = list(tupla)\n    print (lista,type(lista))\n    return\n\ndef conversor_set (tupla):\n    lista = set(tupla)\n    print (lista,type(lista))\n    return\n\ndef conversor_diccionario (tupla):\n    diccionario = {indice:valor for indice, valor in enumerate(tupla)}\n    print (diccionario, type(diccionario))\n    return\n    \nconversor_lista(ejer_9)\nconversor_set(ejer_9)\nconversor_diccionario(ejer_9)",
      "metadata": {
        "id": "_O5hXr01RWxI",
        "trusted": true
      },
      "outputs": [],
      "execution_count": null
    },
    {
      "cell_type": "markdown",
      "source": "## Ejercicio 6\nMultiplica todos los valores del diccionario\n> ```ejer_6 = {1: 11, 2: 22, 3: 33, 4: 44, 5: 55}```",
      "metadata": {
        "id": "eOdWWbxvRWxJ"
      }
    },
    {
      "cell_type": "code",
      "source": "def multiplicacion (iterable):\n    iterable_lista = list(iterable)\n    contador = 1\n  \n    for numero in iterable_lista:\n        contador *= numero\n\n    print (\"El producto total de todos los valores es:\", contador)\n    print (iterable_lista)\n    return\n\n    \nejer_6 = {1: 11, 2: 22, 3: 33, 4: 44, 5: 55}\nmultiplicacion(ejer_6.values())",
      "metadata": {
        "id": "KcuByovKRWxJ"
      },
      "outputs": [],
      "execution_count": null
    },
    {
      "cell_type": "markdown",
      "source": "## Ejercicio 7\n\n1. Crea un diccionario que describa un libro, con los siguientes campos o claves: \"titulo\",\"autor\",\"idioma original\",\"año de publicación\".\n2. Crea un a lista, llamada librería.\n3. Añade cuatro libros a tu elección a la librería.",
      "metadata": {
        "id": "W7TUSaKRRWxJ"
      }
    },
    {
      "cell_type": "code",
      "source": "# Pregunta 1\nlibro = {\n    \"título\":\"Título del libro\",\n    \"autor\":\"Autor del libro\",\n    \"idioma original\":\"Idioma del libro\",\n    \"año de publicación\": 0\n}\n# Pregunta 2\nlibreria = []\n\n# Pregunta 3\nLibro1 = {\n    \"titulo\": \"El Gran Gatsby\",\n    \"autor\": \"F. Scott Fitzgerald\",\n    \"idioma original\": \"Inglés\",\n    \"año de publicación\": 1925\n}\nLibro2 = {\n    \"titulo\": \"Cien años de soledad\",\n    \"autor\": \"Gabriel García Márquez\",\n    \"idioma original\": \"Español\",\n    \"año de publicación\": 1967\n}\nLibro3= {\n    \"titulo\": \"Los Juegos del Hambre\",\n    \"autor\": \"Suzanne Collins\",\n    \"idioma original\": \"Inglés\",\n    \"año de publicación\": 2008\n}\n\nlibreria.append(Libro1)\nlibreria.append(Libro2)\nlibreria.append(Libro3)\nprint (libreria)",
      "metadata": {
        "vscode": {
          "languageId": "plaintext"
        },
        "id": "d-IMRvxRRWxJ",
        "trusted": true
      },
      "outputs": [],
      "execution_count": null
    },
    {
      "cell_type": "markdown",
      "source": "## Ejercicio 8\nModifica los valores del idioma de todos los libros del ejercicio anterior para que sea \"esperanto\"\n",
      "metadata": {
        "id": "glMoedjYRWxJ"
      }
    },
    {
      "cell_type": "code",
      "source": "def idiomanuevo (lista):\n    for libro in lista:\n        libro[\"idioma original\"] = \"Esperanto\"\n    print (lista)\n    return",
      "metadata": {
        "id": "veNdC-uwRWxJ"
      },
      "outputs": [],
      "execution_count": null
    },
    {
      "cell_type": "markdown",
      "source": "## Ejercicio 9\n1. Escribe un programa que dada una variable titulo busque los libros que hay en la librería con ese título. Si no se encuentra debe devolver el mensaje `Ese no lo tengo, ¿mola?`\n2. Pruena que el programa con uno de tus libros y con otro que no contenga tu librería.",
      "metadata": {
        "id": "DRCJG04KRWxJ"
      }
    },
    {
      "cell_type": "code",
      "source": "def buscador(libreria, titulo=\"ninguno\"):\n    encontrado = False  # Inicializar la variable para saber si se encontró el libro\n    \n    for libro in libreria:\n        if libro[\"titulo\"].lower() == titulo.lower():  # Comparar el título en minúsculas\n            encontrado = True\n            break  # Salir del bucle si se encuentra el libro\n\n    if encontrado:\n        print(\"Este libro sí que está en la librería\")\n    else:\n        print(\"Ese no lo tengo, ¿mola?\")\n    return\n\nbuscador (\"Los Juegos del hambre\", libreria)\nbuscador (\"El Señor de los Anillos\", libreria)",
      "metadata": {
        "id": "eWHdJi9BRWxJ"
      },
      "outputs": [],
      "execution_count": null
    },
    {
      "cell_type": "markdown",
      "source": "## Ejercicio 10\nConvierte el programa del ejercicio 2 en una función al que se le pase el valor a buscar como un argumento posicional",
      "metadata": {
        "id": "17YOpYuFRWxJ"
      }
    },
    {
      "cell_type": "code",
      "source": "???",
      "metadata": {
        "id": "xbj0LgvnRWxJ"
      },
      "outputs": [],
      "execution_count": null
    },
    {
      "cell_type": "markdown",
      "source": "## Ejercicio 11\nConvierte el programa del ejercicio 9 en una función al que se le pasen como argumentos la librería, posicional, y el título, argumento keyword con valor \"ninguno\", por defecto.",
      "metadata": {
        "id": "xZ-sWJxPRWxJ"
      }
    },
    {
      "cell_type": "code",
      "source": "def buscador(libreria, titulo=\"ninguno\"):\n    encontrado = False  # Inicializar la variable para saber si se encontró el libro\n    \n    for libro in libreria:\n        if libro[\"titulo\"].lower() == titulo.lower():  # Comparar el título en minúsculas\n            encontrado = True\n            break  # Salir del bucle si se encuentra el libro\n\n    if encontrado:\n        print(\"Este libro sí que está en la librería\")\n    else:\n        print(\"Ese no lo tengo, ¿mola?\")",
      "metadata": {
        "id": "4-JrsMdNRWxK"
      },
      "outputs": [],
      "execution_count": null
    },
    {
      "cell_type": "markdown",
      "source": "## Ejercicio 12\nSolicitar al usuario que ingrese su dirección email. Imprimir un mensaje indicando si la dirección es válida o no, valiéndose de una función para decidirlo. Una dirección se considerará válida si contiene el símbolo \"@\".",
      "metadata": {
        "id": "FtJir95QRWxK"
      }
    },
    {
      "cell_type": "code",
      "source": "def validacion(email):\n    return \"@\" in email\n    \ndireccion_email = input(\"Introduce tu dirección email: \")\nif validacion(direccion_email):\n    print(\"La dirección de email es válida.\")\nelse:\n    print(\"La dirección de email no es válida.\")",
      "metadata": {
        "id": "sk852IZ8RWxK",
        "trusted": true
      },
      "outputs": [],
      "execution_count": null
    },
    {
      "cell_type": "markdown",
      "source": "## Ejercicio 13\nEscribe una función que compruebe si un DNI es válido, devolviendo `True` en caso afirmativo.  \nEn primer lugar, el DNI debe tener entre 7 y 8 dígitos numéricos.  \nPara saber si la letra del DNI es correcta puedes utilizar el siguiente fragmento de código:\n>```Python\n>DNI= 55555555\n>palabra='TRWAGMYFPDXBNJZSQVHLCKE'\n>print('La letra del DNI es: ', palabra[DNI%23])\n>````\n",
      "metadata": {
        "id": "Kw1MWBwBRWxK"
      }
    },
    {
      "cell_type": "code",
      "source": "dni = input (\"DNI\")\ndef comprobar_dni(dni):\n    numero = dni[:-1]\n    letra = dni[-1]\n\n    if not numero.isdigit() or not (7 <= len(numero) <= 8):\n        return False\n\n    numero_dni = int(numero)\n\n    palabra = 'TRWAGMYFPDXBNJZSQVHLCKE'\n    \n    letra_correcta = palabra[numero_dni % 23]\n\n    return letra.upper() == letra_correcta\n\ncomprobar_dni(dni)\n",
      "metadata": {
        "id": "F5Z9rSHqRWxK",
        "trusted": true
      },
      "outputs": [],
      "execution_count": null
    }
  ]
}