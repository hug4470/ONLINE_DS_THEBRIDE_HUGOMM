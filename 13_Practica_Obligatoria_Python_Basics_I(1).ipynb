{
  "metadata": {
    "kernelspec": {
      "name": "python",
      "display_name": "Python (Pyodide)",
      "language": "python"
    },
    "language_info": {
      "codemirror_mode": {
        "name": "python",
        "version": 3
      },
      "file_extension": ".py",
      "mimetype": "text/x-python",
      "name": "python",
      "nbconvert_exporter": "python",
      "pygments_lexer": "ipython3",
      "version": "3.8"
    },
    "colab": {
      "provenance": []
    }
  },
  "nbformat_minor": 4,
  "nbformat": 4,
  "cells": [
    {
      "cell_type": "markdown",
      "source": "![TheBridge_logo_RGB_color.jpg](attachment:TheBridge_logo_RGB_color.jpg)",
      "metadata": {
        "id": "BNCAebJANPxq"
      }
    },
    {
      "cell_type": "markdown",
      "source": "![imagen](./img/ejercicios.png)",
      "metadata": {
        "id": "A9eDZvZaNPxs"
      }
    },
    {
      "cell_type": "markdown",
      "source": "## PRACTICA OBLIGATORIA: PYTHON",
      "metadata": {
        "id": "59zPhBxXNPxs"
      }
    },
    {
      "cell_type": "markdown",
      "source": "* La práctica obligatoria de esta unidad consiste en dos ejercicios de programación libre a completar.   \n* Recuerda que debes subirla a tu repositorio personal antes de la sesión en vivo para que puntúe adecuadamente.  \n* Recuerda también que no es necesario que esté perfecta, sólo es necesario que se vea el esfuerzo.\n* Esta práctica se resolverá en la sesión en vivo correspondiente y la solución se publicará en el repo del curso.",
      "metadata": {
        "id": "mv2kb1GMNPxs"
      }
    },
    {
      "cell_type": "markdown",
      "source": "![ejercicio.png](./img/ejercicio.png)\n## PARTE I\n\nEn este ejercicio debes simular un chatbot al que le haremos pedidos de pizzas.\n\n1. El chatbot tiene que saludar con un: \"Buenas tardes, bienvenido al servicio de pedido online, el precio de nuestra pizzas es de 8,95 para la familiar o de 9,90 para la mediana ¿Cuántas pizzas  familiares desea?\"\n2. El ususario tiene que introducir un número de pizzas en una variable llamada 'pizz_familiar'\n3. El chatbot debe responder: \"Estupendo, ¿cuántas pizzas medianas desea?\" y guardar el número de pizzas medianas en otra variable 'pizz_mediana'\n4. Además debe responder del chatbot: \"Estupendo, se están preparando 'pizz' pizzas familiares y 'pizz_mediana' pizzas medianas. Digame su dirección\"\n5. El ususario tiene que introducir una direccion en formato String en otra variable llamada 'direcc'\n6. El programa debe calcular el monto total\n7. Respuesta final del chatbot: \"Le mandaremos las '(número total de pizzas)' pizzas a la dirección 'direcc'. Serán <precio total a pagar en euros>. Muchas gracias por su pedido.\"\n         \n",
      "metadata": {
        "id": "Kl9JzST2NPxt"
      }
    },
    {
      "cell_type": "code",
      "source": "pizz_familiar = input (\"Buenas tardes, bienvenido al servicio de pedido online, el precio de nuestra pizzas es de 8,95 para la familiar o de 9,90 para la mediana ¿Cuántas pizzas familiares desea?\")\npizz_mediana = input (\"Estupendo, ¿cuántas pizzas medianas desea?\")\ndirecc = input (\"Estupendo, se están preparando 'pizz' pizzas familiares y 'pizz_mediana' pizzas medianas. Digame su dirección.\")\ntotal = pizz_familiar*8.95 + pizz_mediana*9.90\ntotalpizzas = pizz_familiar + pizz_mediana\nprint (\"Le mandaremos las \", totalpizzas, \"pizzas a la dirección: \", direcc, \"Serán \", total, \". Muchas gracias por su pedido.\"",
      "metadata": {
        "id": "qkKibyt-NPxt"
      },
      "outputs": [],
      "execution_count": null
    },
    {
      "cell_type": "markdown",
      "source": "![ejercicio.png](./img/ejercicio.png)\n## Parte II\n\nCrea un programa que realice las siguientes acciones:\n\n1. Solicite al usuario que introduzca 3 números enteros separados por comas (por ejemplo: 1,2,3).\n2. Convierta esa entrada en una lista de números enteros.\n3. Utilizando funciones built-in, determine el número máximo, el número mínimo y la suma total de los números introducidos.\n4. Determine la verdad o falsedad de la siguiente afirmación: \"El número máximo menos el número mínimo es igual a la suma total dividida por 5\".\n5. Muestre los resultados utilizando print.",
      "metadata": {
        "id": "f0oqoGDGNPxt"
      }
    },
    {
      "cell_type": "code",
      "source": "entrada = input (\"Introduzca 3 números enteros separados por comas\")\nentrada_lista = entrada.lista()\nprint (entrada_lista)\nprint (\"Valor máximo\", max(entrada_lista))\nprint (\"Valor mínimo\", min(entrada_lista))\nprint (\"Suma total\", sum(entrada))\nprint (\"La afirmación es: \", max(entrada_lista) - min(entrada_lista) == sum(entrada)/5)",
      "metadata": {
        "id": "rAlpWiQ9NPxt"
      },
      "outputs": [],
      "execution_count": null
    },
    {
      "cell_type": "code",
      "source": "",
      "metadata": {
        "trusted": true
      },
      "outputs": [],
      "execution_count": null
    }
  ]
}