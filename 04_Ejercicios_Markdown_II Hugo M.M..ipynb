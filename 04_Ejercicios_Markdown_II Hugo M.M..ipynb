{
  "metadata": {
    "kernelspec": {
      "name": "python",
      "display_name": "Python (Pyodide)",
      "language": "python"
    },
    "language_info": {
      "codemirror_mode": {
        "name": "python",
        "version": 3
      },
      "file_extension": ".py",
      "mimetype": "text/x-python",
      "name": "python",
      "nbconvert_exporter": "python",
      "pygments_lexer": "ipython3",
      "version": "3.8"
    }
  },
  "nbformat_minor": 5,
  "nbformat": 4,
  "cells": [
    {
      "id": "c49ba49d",
      "cell_type": "markdown",
      "source": "<img src=\"./img/TheBridge_logo_RGB_color.jpg\" width = 500>",
      "metadata": {}
    },
    {
      "id": "22ff8a1a",
      "cell_type": "markdown",
      "source": "# EJERCICIOS MARKDOWN (II)",
      "metadata": {}
    },
    {
      "id": "d626df26",
      "cell_type": "markdown",
      "source": "Aquí tienes cinco sencillos ejercicios para practicar lo aprendido en la segundasesión de Markdown. Como en el anterior, utiliza las celdas que hay debajo dec cada enunciado y recuerda convertirlas a Markdown primero ;-)\n\nSi algunos ejercicios no los entiendes de primeras, dales una vuelta, busca pistas, busca en Internet... pero todavía no le preguntes a ChatGPT... Recuerda con dudas teóricas corre a preguntar, con los ejercicios exprimete antes de preguntar.",
      "metadata": {}
    },
    {
      "id": "b2efd92f",
      "cell_type": "markdown",
      "source": "### Ejercicio 6: Listas\nCrea una lista no ordenada con los siguientes elementos:\n\n1. Manzanas\n2. Plátanos\n3. Uvas",
      "metadata": {}
    },
    {
      "id": "5d06c255-91f6-4543-b4c7-20fb35c95110",
      "cell_type": "markdown",
      "source": "* Manzanas\n* Plátanos\n* Uvas",
      "metadata": {}
    },
    {
      "id": "c8c2ff80",
      "cell_type": "markdown",
      "source": "Crea ahora una lista ordenada de 1 a 3 y que además lo esté alfabéticamente con estos elementos:\n\n    * Arbol binario\n    * Random Forest\n    * Regresión Logística",
      "metadata": {}
    },
    {
      "id": "05906452-1e99-47d1-bb73-e78b1fdb6560",
      "cell_type": "markdown",
      "source": "1. Árbol binario\n2. Randomm Forest\n3. Regresión Logística\n\n   ",
      "metadata": {}
    },
    {
      "id": "2c65c04a",
      "cell_type": "markdown",
      "source": "### Ejercicio 7: Listas Anidadas\nBajo el título \"Frutas y Verduras\", crea una lista ordenada de frutas, y dentro de esta, anida una lista no ordenada de tres frutas. Luego, crea otra lista ordenada de verduras y anida dentro de ella una lista no ordenada de tres verduras.\n\nLas listas anidadas no las hemos visto pero seguro que con esto te haces una idea, como con los subrayados en los ejercicios de la primera parte:\n1. El elemento con orden\n* Aquí sin orden\n2. El siguiente\n* Pico\n* Pala\n",
      "metadata": {}
    },
    {
      "id": "a65daddb-bda0-4f25-a8fb-26aa76b30654",
      "cell_type": "markdown",
      "source": "## FRUTAS Y VERDURAS\n1. Frutas\n   * Manzanas\n   * Tomates\n   * Melocotón\n3. Verduras\n   * Lechuga\n   * Puerro\n   * Coliflor",
      "metadata": {}
    },
    {
      "id": "e224fbf7",
      "cell_type": "markdown",
      "source": "### Ejercicio 8: Enlaces e Imágenes\nInserta:\n\n1. Un enlace que lleve a \"www.thebridge.com\" con el texto \"Por aquí se cruzan puentes\".\n2. Una imagen de cualquier URL con el texto alternativo \"Logo\". Recuerda que puedes hacerlo referenciando la imagen a través de su ruta en tu ordenador, o bien incrustandola en el notebook\n",
      "metadata": {}
    },
    {
      "id": "de3d6287-c5f2-4491-b365-7f8f0f091cae",
      "cell_type": "markdown",
      "source": "[Por aquí se cruzan puentes](www.thebridge.com)\n![Logo](./imagen.png)",
      "metadata": {}
    },
    {
      "id": "94e48fe3",
      "cell_type": "markdown",
      "source": "### Ejercicio 9: Líneas Horizontales y Bloques de Código\nInserta:\n\n1. Un bloque de código en Python que imprima \"Hola Mundo\" (pista: print(\"Hola Mundo\")) entre dos líneas horizontales, cada una creada con un método diferente.",
      "metadata": {}
    },
    {
      "id": "5596ffee-9a5f-4247-973c-9bdb4867b4c1",
      "cell_type": "markdown",
      "source": "---\n```python\nprint(\"Hola Mundo\")\n```\n***",
      "metadata": {}
    }
  ]
}