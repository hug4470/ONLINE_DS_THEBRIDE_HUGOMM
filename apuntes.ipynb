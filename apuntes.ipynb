{
 "cells": [
  {
   "cell_type": "markdown",
   "metadata": {},
   "source": [
    "Producto escalar : Multiplicar los elementos dentro de un array, que no multiplique las listas dentro, sino sus elementos"
   ]
  },
  {
   "cell_type": "markdown",
   "metadata": {},
   "source": [
    "array: colecciones de elementos con los que operar"
   ]
  },
  {
   "cell_type": "markdown",
   "metadata": {},
   "source": [
    "Una imagen no es una mtariz (2 dimensiones), es un tensor de dimensiones. La tercera dimension es RGB, la combinación de los valores Red, Green y Blue que dan ese color."
   ]
  },
  {
   "cell_type": "markdown",
   "metadata": {},
   "source": [
    "VECTOR: Array de 1 dimension\n",
    "MATRIZ: Array de 2 dimensiones\n",
    "TENSOR: Array de 3 dimensiones"
   ]
  },
  {
   "cell_type": "markdown",
   "metadata": {},
   "source": [
    "En un array, no hay más de un solo tipo. SI por ejemplo, tenemos un tipo float y el resto entero, se convertirán a float todos."
   ]
  },
  {
   "cell_type": "markdown",
   "metadata": {},
   "source": [
    "\n",
    "<class 'numpy.float64'>\n",
    "\n",
    "Esto es un tipo float de array, el numero indica cuantos bits ocupa ese dato concreto."
   ]
  },
  {
   "cell_type": "markdown",
   "metadata": {},
   "source": [
    "Atributo .dtype: Indica el largo máximo del array"
   ]
  },
  {
   "cell_type": "markdown",
   "metadata": {},
   "source": [
    "LAS MATRICES SIEMPRE SE DEFINENN FILA X COLUMNA, EN ESE ORDEN"
   ]
  },
  {
   "cell_type": "markdown",
   "metadata": {},
   "source": [
    "Al multilicar MATRIZ x MATRIZ; la propiedad conmutativa no se da. Sería fila1 x columna 1, fila 2 x columna1... (hace cada fila con cada columna, empezando siempre en la primera columna y hacinedo todas las filas)\n",
    "\n",
    "El numero de columnas de la primera matriz tiene que coincidir con el numero de filas de la segunda"
   ]
  },
  {
   "cell_type": "markdown",
   "metadata": {},
   "source": [
    "la matriz invera x la matriz original siempre es igual la matriz identidad"
   ]
  }
 ],
 "metadata": {
  "kernelspec": {
   "display_name": "Python 3",
   "language": "python",
   "name": "python3"
  },
  "language_info": {
   "codemirror_mode": {
    "name": "ipython",
    "version": 3
   },
   "file_extension": ".py",
   "mimetype": "text/x-python",
   "name": "python",
   "nbconvert_exporter": "python",
   "pygments_lexer": "ipython3",
   "version": "3.11.9"
  }
 },
 "nbformat": 4,
 "nbformat_minor": 2
}
