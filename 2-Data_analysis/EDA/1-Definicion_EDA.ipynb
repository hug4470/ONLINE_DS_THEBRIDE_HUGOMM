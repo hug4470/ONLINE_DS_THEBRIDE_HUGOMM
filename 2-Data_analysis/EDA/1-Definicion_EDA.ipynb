{
 "cells": [
  {
   "cell_type": "markdown",
   "metadata": {},
   "source": [
    "![imagen](./img/ejercicios.png)"
   ]
  },
  {
   "cell_type": "markdown",
   "metadata": {},
   "source": [
    "# INFORMACIÓN DEL PROYECTO"
   ]
  },
  {
   "cell_type": "markdown",
   "metadata": {},
   "source": [
    "### TÍTULO"
   ]
  },
  {
   "cell_type": "markdown",
   "metadata": {},
   "source": [
    "AGRESIONES LGTBIFÓBICAS EN ESPAÑA. Evolución y análisis de subgrupos."
   ]
  },
  {
   "cell_type": "markdown",
   "metadata": {},
   "source": [
    "### TEMA"
   ]
  },
  {
   "cell_type": "markdown",
   "metadata": {},
   "source": [
    "Este proyecto tiene como objetivo realizar un análisis exhaustivo de los datos oficiales registrados por el estado relacionados con las agresiones hacia el colectivo LGTBIQ+. Se enfocará en los delitos de odio, así como en otras formas de violencia, incluyendo la homofobia, transfobia y discriminación basada en la sexualidad, la expresión de género y la identidad.\n",
    "\n",
    "El EDA abordará los siguientes aspectos:\n",
    "\n",
    "- **Análisis de Tendencias**: Examinar la evolución de estos delitos a lo largo de los últimos años, identificando patrones y cambios significativos en los índices de agresiones.\n",
    "\n",
    "- **Perfiles de Agresores**: Analizar los datos disponibles sobre los perfiles de las personas agresoras, proporcionando una visión más profunda sobre los factores que contribuyen a estas conductas.\n",
    "\n",
    "- **Contexto Social**: Considerar el contexto social y cultural que rodea estas agresiones, a fin de generar recomendaciones y estrategias para combatir la violencia y promover la inclusión.\n",
    "- **Multiplicidad de realidades en el colectivo**: Valorar la variación de la incidencia de las agresiones según los distintos \"sub-grupos\" de la propia comunidad \"LGTBIQ+\".\n",
    "\n",
    "A través de este análisis, se espera contribuir al entendimiento de la problemática y facilitar la implementación de políticas efectivas para la protección del colectivo LGTBIQ+."
   ]
  },
  {
   "cell_type": "markdown",
   "metadata": {},
   "source": [
    "### HIPÓTESIS"
   ]
  },
  {
   "cell_type": "markdown",
   "metadata": {},
   "source": [
    "HIPÓTESIS PRINCIPAL: El aumento de las agresiones al colectivo LGTBIQ+ en el estado español."
   ]
  },
  {
   "cell_type": "markdown",
   "metadata": {},
   "source": [
    "SUB-HIPÓTESIS:\n",
    "\n",
    "- **Incremento de Agresiones**: Se hipotetiza que el índice de agresiones al colectivo LGTBIQ+ ha aumentado en los últimos años. Este análisis pretende identificar si existe un patrón en las agresiones y qué conclusiones se podrían sacar.\n",
    "\n",
    "- **Perfiles de Agresores**: Se plantea la hipótesis de que los perfiles de los agresores presentan características específicas, como edad, género o procedencia. Identificar estos perfiles puede ayudar a comprender mejor las motivaciones detrás de estas agresiones y facilitar la implementación de estrategias de prevención.\n",
    "\n",
    "- **Disparidad Regional**: Se hipotetiza que existen diferencias significativas en las tasas de agresiones hacia el colectivo LGTBIQ+ según la región geográfica. Este análisis pretenderá identificar áreas de mayor riesgo.\n",
    "\n",
    "- **Discriminación por Subgrupos**: Se plantea que dentro del colectivo LGTBIQ+, ciertos subgrupos (por ejemplo, personas trans, personas no binarias, o aquellos con orientaciones sexuales menos visibles) son más vulnerables a la discriminación y agresiones. Este enfoque permitirá un análisis más detallado sobre qué subgrupos son más afectados y cómo se manifiestan estas agresiones en diferentes contextos.\n",
    "\n",
    "- **Iterseccionalidad**: Se hipotetiza que cuestiones como la racialidad son un factor objetivo por parte de los agresores, que aumenta la probabilidad de sufrir una agresión al pertenecer a ambos colectivos (LGTBIQ+, personas racializadas).\n",
    "\n",
    "- **Legislación**: Se pretende relacionar la legislación española sobre diferentes realidades LGTBIQ+ y los índices de violencia que sufren las mismas."
   ]
  },
  {
   "cell_type": "markdown",
   "metadata": {},
   "source": [
    "## OBTENCIÓN DE LOS DATOS"
   ]
  },
  {
   "cell_type": "markdown",
   "metadata": {},
   "source": [
    "### DATASETS Y FUENTES ALTERNATIVAS DE DATOS"
   ]
  },
  {
   "cell_type": "markdown",
   "metadata": {},
   "source": [
    "**PRIMER DATASET**\n",
    "Para obtener información sobre los registros de agresiones racistas y LGTBIfóbicas.\n",
    "- Hechos conocidos por causa delitos de odio por CC.AA. desde el 2014 hasta el 2024.\n",
    "\n",
    "\n",
    "**SEGUNDO DATASET**\n",
    "Más detalle y variedd en clasificaicón de agresions LGTBIfóbicas.\n",
    "- Informe de incidentes de odio motivados por LGTBIfobia. Intención de conseguir un csv o scrappear los datos: Completar los datos con modalidades e identidades. (Varios años)\n",
    "(https://contraelodio.org/wp/informe-lgtbifobia-madrid/)\n",
    "\n",
    "**TERCER DATASET**\n",
    "Barómetro para comparar las agresiones de España con el resto de Europa.\n",
    "- Special Eurobarometer 493: Discrimination in the EU (including LGBTI) (https://data.europa.eu/data/datasets/s2251_91_4_493_eng?locale=en)\n",
    "\n",
    "**CUARTO DATASET**\n",
    "Recurso sobre legislación en materia LGTBIQ+ en el mundo.\n",
    "- Sexual Orientation Laws | EDA\n",
    "(https://www.kaggle.com/code/chaitanya99/sexual-orientation-laws-eda/report)\n",
    "\n",
    "**QUINTO DATASET**\n",
    "Legislación en materia LGTBIQ+ en el estado español.\n",
    "- ILGA dataset, Spain LGTBI (https://database.ilga.org/spain-lgbti)"
   ]
  },
  {
   "cell_type": "markdown",
   "metadata": {},
   "source": [
    "SITUACIÓN DE LOS DATASETS"
   ]
  },
  {
   "cell_type": "markdown",
   "metadata": {},
   "source": [
    "La gran mayoría no son dataset crudos, ni csv ni otro archivo del estilo. Son archivos .pdf de los que se scrappearán los datos y se trabajarán en crudo."
   ]
  }
 ],
 "metadata": {
  "kernelspec": {
   "display_name": "Python 3",
   "language": "python",
   "name": "python3"
  },
  "language_info": {
   "codemirror_mode": {
    "name": "ipython",
    "version": 3
   },
   "file_extension": ".py",
   "mimetype": "text/x-python",
   "name": "python",
   "nbconvert_exporter": "python",
   "pygments_lexer": "ipython3",
   "version": "3.11.9"
  },
  "orig_nbformat": 4
 },
 "nbformat": 4,
 "nbformat_minor": 2
}
