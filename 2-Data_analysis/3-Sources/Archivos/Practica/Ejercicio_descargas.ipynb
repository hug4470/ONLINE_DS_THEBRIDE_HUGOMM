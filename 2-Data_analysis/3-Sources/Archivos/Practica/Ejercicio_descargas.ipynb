{
 "cells": [
  {
   "attachments": {},
   "cell_type": "markdown",
   "metadata": {},
   "source": [
    "## Ejercicio descargas"
   ]
  },
  {
   "attachments": {},
   "cell_type": "markdown",
   "metadata": {},
   "source": [
    "Python es un lenguaje de propósito general, por lo que podemos desarrollar otros programas,\n",
    "aparte de ciencia de datos, que nos permitan montar dashboards, crear APIs o automatizar\n",
    "procesos. En este caso vas a automatizar un proceso, en el que tendrás que desarrollar un\n",
    "script que ordene todos los archivos de una carpeta, dependiendo de la extensión de los\n",
    "mismos.\n",
    "\n",
    "\n",
    "El objetivo es ordenar la típica carpeta de cajón desastre donde se nos acumulan archivos de\n",
    "todos los formatos como: imágenes, words, presentaciones, excels, ejecutables, zips, etc... Y\n",
    "que no vamos a ir viendo archivo a archivo, ordenándolos.... La solución suele ser eliminarlo\n",
    "todo. Vamos a intentar no tener que llegar a eso, ordenando los ficheros automáticamente en\n",
    "carpetas y revisar las que nos interesen. La típica carpeta donde aplicaríamos este programa es\n",
    "la de “Descargas”, donde se suelen acumular muchos archivos temporales.\n",
    "\n",
    "\n",
    "Por tanto, **el programa tiene que guardar los archivos de la carpeta “Descargas” (o cualquier\n",
    "otra donde acumules mucho archivo temporal) en los siguientes directorios dentro de la\n",
    "propia carpeta “Descargas”**:\n",
    "- Imagenes\n",
    "- Documentos\n",
    "- Software\n",
    "- Otros\n",
    "\n",
    "Cada vez que ejecutes el script, automáticamente se ordenarán todos los archivos en sus\n",
    "correspondientes carpetas.\n"
   ]
  },
  {
   "cell_type": "code",
   "execution_count": 1,
   "metadata": {},
   "outputs": [],
   "source": [
    "doc_types = ('.doc', '.docx', '.txt', '.pdf', '.xls', '.ppt', '.xlsx', '.pptx')\n",
    "img_types = ('.jpg', '.jpeg', '.png', '.svg', '.gif')\n",
    "software_types = ('.exe', '.py','.ipynb')"
   ]
  },
  {
   "attachments": {},
   "cell_type": "markdown",
   "metadata": {},
   "source": [
    "### 1. Crea un un programa con el flujo principal y encapsúlalo en funciones."
   ]
  },
  {
   "cell_type": "code",
   "execution_count": 1,
   "metadata": {},
   "outputs": [],
   "source": [
    "import shutil\n",
    "import os"
   ]
  },
  {
   "cell_type": "code",
   "execution_count": 2,
   "metadata": {},
   "outputs": [],
   "source": [
    "path = r\"C:\\Users\\Alumno Prestamo\\Downloads\"\n",
    "for archivo in os.listdir(path):\n",
    "    if os.path.isfile(os.path.join(path, archivo)):\n",
    "        if archivo.endswith(doc_types):\n",
    "            shutil.move(os.path.join(path, archivo), r\"C:\\Users\\Alumno Prestamo\\Downloads\\Documentos\")\n",
    "            print(archivo, \"movido a Documentos\")\n",
    "        \n",
    "        elif archivo.endswith(img_types):\n",
    "            shutil.move(os.pa+th.join(path, archivo), r\"C:\\Users\\Alumno Prestamo\\Downloads\\Imágenes\")\n",
    "            print(archivo, \"movido a Imágenes\")\n",
    "\n",
    "        elif archivo.endswith(software_types):\n",
    "            shutil.move(os.path.join(path, archivo),r\"C:\\Users\\Alumno Prestamo\\Downloads\\Software\")\n",
    "            print(archivo, \"movido a Software\")\n",
    "        \n",
    "        else:\n",
    "            shutil.move(os.path.join(path, archivo),r\"C:\\Users\\Alumno Prestamo\\Downloads\\Otros\")\n",
    "            print(archivo, \"movido a Otros\")"
   ]
  },
  {
   "attachments": {},
   "cell_type": "markdown",
   "metadata": {},
   "source": [
    "### 2. Crea una clase Fichero en clase.py y un main.py con el programa principal partiendo de esa clase."
   ]
  },
  {
   "cell_type": "code",
   "execution_count": 4,
   "metadata": {},
   "outputs": [],
   "source": [
    "class Fichero:\n",
    "    def __init__(self, nombre, directorio):\n",
    "        self.nombre = nombre\n",
    "        self.directorio = directorio\n",
    "        self.ruta_total = os.path.join(directorio, nombre)\n",
    "\n",
    "    def es_archivo(self):\n",
    "        return os.path.isfile(self.ruta_total)\n",
    "\n",
    "    def obtener_tipo(self):\n",
    "        doc_types = ('.doc', '.docx', '.txt', '.pdf', '.xls', '.ppt', '.xlsx', '.pptx')\n",
    "        img_types = ('.jpg', '.jpeg', '.png', '.svg', '.gif')\n",
    "        software_types = ('.exe', '.py', '.ipynb')\n",
    "\n",
    "        extension = \".\" + self.nombre.rsplit(\".\", 1)\n",
    "\n",
    "        if extension in doc_types:\n",
    "            return 'Documentos'\n",
    "        elif extension in img_types:\n",
    "            return 'Imágenes'\n",
    "        elif extension in software_types:\n",
    "            return 'Software'\n",
    "        else:\n",
    "            return 'Otros'\n",
    "\n",
    "    def mover(self):\n",
    "        tipo = self.obtener_tipo()\n",
    "        carpeta_destino = os.path.join(self.directorio, tipo)\n",
    "\n",
    "        shutil.move(self.ruta_total, os.path.join(carpeta_destino, self.nombre))\n",
    "        print(\"El archivo\", self.nombre, \"se ha movido a la carpeta:\", tipo)"
   ]
  },
  {
   "cell_type": "code",
   "execution_count": 12,
   "metadata": {},
   "outputs": [
    {
     "name": "stdout",
     "output_type": "stream",
     "text": [
      "<__main__.Fichero object at 0x00000262E0411A30>\n",
      "<__main__.Fichero object at 0x00000262E037D6A0>\n",
      "<__main__.Fichero object at 0x00000262E037E580>\n",
      "<__main__.Fichero object at 0x00000262E0974750>\n",
      "<__main__.Fichero object at 0x00000262E0974650>\n"
     ]
    }
   ],
   "source": [
    "path = r\"C:\\Users\\Alumno Prestamo\\Downloads\"\n",
    "for archivo in os.listdir(path):\n",
    "    prueba1 = Fichero(archivo, path)\n",
    "    print(prueba1)"
   ]
  },
  {
   "cell_type": "code",
   "execution_count": 13,
   "metadata": {},
   "outputs": [],
   "source": [
    "def obtener_tipo(self):\n",
    "            doc_types = ('.doc', '.docx', '.txt', '.pdf', '.xls', '.ppt', '.xlsx', '.pptx')\n",
    "            img_types = ('.jpg', '.jpeg', '.png', '.svg', '.gif')\n",
    "            software_types = ('.exe', '.py', '.ipynb')\n",
    "            \n",
    "            if archivo.endswith(doc_types):\n",
    "                shutil.move(os.path.join(path, archivo), r\"C:\\Users\\Alumno Prestamo\\Downloads\\Documentos\")\n",
    "                print(archivo, \"movido a Documentos\")\n",
    "            \n",
    "            elif archivo.endswith(img_types):\n",
    "                shutil.move(os.pa+th.join(path, archivo), r\"C:\\Users\\Alumno Prestamo\\Downloads\\Imágenes\")\n",
    "                print(archivo, \"movido a Imágenes\")\n",
    "\n",
    "            elif archivo.endswith(software_types):\n",
    "                shutil.move(os.path.join(path, archivo),r\"C:\\Users\\Alumno Prestamo\\Downloads\\Software\")\n",
    "                print(archivo, \"movido a Software\")\n",
    "            \n",
    "            else:\n",
    "                shutil.move(os.path.join(path, archivo),r\"C:\\Users\\Alumno Prestamo\\Downloads\\Otros\")\n",
    "                print(archivo, \"movido a Otros\")"
   ]
  },
  {
   "cell_type": "code",
   "execution_count": 10,
   "metadata": {},
   "outputs": [
    {
     "ename": "NameError",
     "evalue": "name 'doc_types' is not defined",
     "output_type": "error",
     "traceback": [
      "\u001b[1;31m---------------------------------------------------------------------------\u001b[0m",
      "\u001b[1;31mNameError\u001b[0m                                 Traceback (most recent call last)",
      "Cell \u001b[1;32mIn[10], line 1\u001b[0m\n\u001b[1;32m----> 1\u001b[0m \u001b[38;5;28;01mif\u001b[39;00m archivo\u001b[38;5;241m.\u001b[39mendswith(\u001b[43mdoc_types\u001b[49m):\n\u001b[0;32m      2\u001b[0m     shutil\u001b[38;5;241m.\u001b[39mmove(os\u001b[38;5;241m.\u001b[39mpath\u001b[38;5;241m.\u001b[39mjoin(path, archivo), \u001b[38;5;124mr\u001b[39m\u001b[38;5;124m\"\u001b[39m\u001b[38;5;124mC:\u001b[39m\u001b[38;5;124m\\\u001b[39m\u001b[38;5;124mUsers\u001b[39m\u001b[38;5;124m\\\u001b[39m\u001b[38;5;124mAlumno Prestamo\u001b[39m\u001b[38;5;124m\\\u001b[39m\u001b[38;5;124mDownloads\u001b[39m\u001b[38;5;124m\\\u001b[39m\u001b[38;5;124mDocumentos\u001b[39m\u001b[38;5;124m\"\u001b[39m)\n\u001b[0;32m      3\u001b[0m     \u001b[38;5;28mprint\u001b[39m(archivo, \u001b[38;5;124m\"\u001b[39m\u001b[38;5;124mmovido a Documentos\u001b[39m\u001b[38;5;124m\"\u001b[39m)\n",
      "\u001b[1;31mNameError\u001b[0m: name 'doc_types' is not defined"
     ]
    }
   ],
   "source": [
    "        if archivo.endswith(doc_types):\n",
    "            shutil.move(os.path.join(path, archivo), r\"C:\\Users\\Alumno Prestamo\\Downloads\\Documentos\")\n",
    "            print(archivo, \"movido a Documentos\")\n",
    "        \n",
    "        elif archivo.endswith(img_types):\n",
    "            shutil.move(os.pa+th.join(path, archivo), r\"C:\\Users\\Alumno Prestamo\\Downloads\\Imágenes\")\n",
    "            print(archivo, \"movido a Imágenes\")\n",
    "\n",
    "        elif archivo.endswith(software_types):\n",
    "            shutil.move(os.path.join(path, archivo),r\"C:\\Users\\Alumno Prestamo\\Downloads\\Software\")\n",
    "            print(archivo, \"movido a Software\")\n",
    "        \n",
    "        else:\n",
    "            shutil.move(os.path.join(path, archivo),r\"C:\\Users\\Alumno Prestamo\\Downloads\\Otros\")\n",
    "            print(archivo, \"movido a Otros\")"
   ]
  },
  {
   "cell_type": "code",
   "execution_count": null,
   "metadata": {},
   "outputs": [],
   "source": [
    "extension = \".\" + self.nombre.rsplit(\".\", 1)\n",
    "\n",
    "            if extension in doc_types:\n",
    "                return \"Documentos\"\n",
    "            elif extension in img_types:\n",
    "                return \"Imágenes\"\n",
    "            elif extension in software_types:\n",
    "                return \"Software\"\n",
    "            else:\n",
    "                return \"Otros\""
   ]
  },
  {
   "cell_type": "code",
   "execution_count": null,
   "metadata": {},
   "outputs": [],
   "source": [
    "def mover(self):\n",
    "        tipo = self.obtener_tipo()\n",
    "        carpeta_destino = os.path.join(self.directorio, tipo)\n",
    "\n",
    "        shutil.move(self.ruta_total, os.path.join(carpeta_destino, self.nombre))\n",
    "        print(\"El archivo\", self.nombre, \"se ha movido a la carpeta:\", tipo)"
   ]
  },
  {
   "cell_type": "code",
   "execution_count": null,
   "metadata": {},
   "outputs": [],
   "source": [
    "# PARA QUE NO MUEVA DIRECTORIOS TAMBIÉN\n",
    "def es_archivo(self):\n",
    "        return os.path.isfile(self.ruta_total)"
   ]
  }
 ],
 "metadata": {
  "kernelspec": {
   "display_name": "Python 3",
   "language": "python",
   "name": "python3"
  },
  "language_info": {
   "codemirror_mode": {
    "name": "ipython",
    "version": 3
   },
   "file_extension": ".py",
   "mimetype": "text/x-python",
   "name": "python",
   "nbconvert_exporter": "python",
   "pygments_lexer": "ipython3",
   "version": "3.13.0"
  },
  "orig_nbformat": 4
 },
 "nbformat": 4,
 "nbformat_minor": 2
}
