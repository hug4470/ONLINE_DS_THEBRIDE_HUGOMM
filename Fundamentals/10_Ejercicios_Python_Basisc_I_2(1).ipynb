{
 "cells": [
  {
   "cell_type": "markdown",
   "metadata": {
    "id": "GB2K42EgK9q5"
   },
   "source": [
    "![TheBridge_logo_RGB_color.jpg](attachment:TheBridge_logo_RGB_color.jpg)"
   ]
  },
  {
   "cell_type": "markdown",
   "metadata": {
    "id": "GnwVlO37K9q6"
   },
   "source": [
    "![imagen](./img/ejercicios.png)"
   ]
  },
  {
   "cell_type": "markdown",
   "metadata": {
    "id": "_9pTa0PXK9q6"
   },
   "source": [
    "## EJERCICIOS PYTHON BASICO 2:\n",
    "## Tipos y conversión de tipos"
   ]
  },
  {
   "cell_type": "markdown",
   "metadata": {
    "id": "tYmV-veoK9q6"
   },
   "source": [
    "Completa los siguiente ejercicios, la solución a los mismos se publicarán en el repo del curso a lo largo del sprint"
   ]
  },
  {
   "cell_type": "markdown",
   "metadata": {
    "id": "YAdFbIOXK9q7"
   },
   "source": [
    "![ejercicio.png](./img/ejercicio.png)\n",
    "\n",
    "## Ejercicio 1\n",
    "\n",
    "1. Crea dos variables numericas: un `int` y un `float`\n",
    "2. Comprueba sus tipos\n",
    "3. Sumalas en otra nueva\n",
    "4. ¿De qué tipo es la nueva variable?\n",
    "5. Elimina las dos primeras variables creadas"
   ]
  },
  {
   "cell_type": "code",
   "execution_count": null,
   "metadata": {
    "id": "8QZmuLOsK9q7"
   },
   "outputs": [],
   "source": [
    "# PARTE 1\n",
    "ej_int = 9\n",
    "ej_float = 9.0\n",
    "# PARTE 2\n",
    "print (ej_int, type(ej_int))\n",
    "print (ej_float, type(ej_float))\n",
    "# PARTE 3\n",
    "suma = ej_int + ej_float\n",
    "# PARTE 4\n",
    "print (suma, type(suma))\n",
    "# PARTE 5\n",
    "del ej_int\n",
    "del ej_float"
   ]
  },
  {
   "cell_type": "markdown",
   "metadata": {
    "id": "f5xfpkpQK9q7"
   },
   "source": [
    "![ejercicio.png](./img/ejercicio.png)\n",
    "\n",
    "## Ejercicio 2\n",
    "Escribe un programa para pasar de grados a radianes. Hay que usar `input`. Recuerda que la conversión se realiza mediante\n",
    "\n",
    "radianes = grados*(pi/180)"
   ]
  },
  {
   "cell_type": "code",
   "execution_count": null,
   "metadata": {},
   "outputs": [],
   "source": [
    "grados = input (\"¿Cuantos grados quieres convertir?\")\n",
    "entero = int(grados)\n",
    "radianes = (3.1416/180)*entero\n",
    "print (radianes)"
   ]
  },
  {
   "cell_type": "markdown",
   "metadata": {
    "id": "zX3-p58CK9q7"
   },
   "source": [
    "![ejercicio.png](./img/ejercicio.png)\n",
    "\n",
    "## Ejercicio 3\n",
    "Escribe un programa que calcule el area de un paralelogramo (base x altura). También con `input`"
   ]
  },
  {
   "cell_type": "code",
   "execution_count": null,
   "metadata": {
    "id": "s2QfNiBAK9q7"
   },
   "outputs": [],
   "source": [
    "altura = input(\"Altura\")\n",
    "base = input (\"Base\")\n",
    "area = int(altura) * int(base)\n",
    "print (\"El área el paralelo gramo es: \", area)"
   ]
  },
  {
   "cell_type": "markdown",
   "metadata": {
    "id": "-6TBo_HvK9q8"
   },
   "source": [
    "![ejercicio.png](./img/ejercicio.png)\n",
    "\n",
    "## Ejercicio 4\n",
    "Escribe un programa que calcule el area de un paralelogramo (base x altura). También con `input`. En este caso debe ser capaz de admitir valores reales, con decimales, para base y altura en español. (PISTA: Recuerda que tendrás que hacer uso del método replace)"
   ]
  },
  {
   "cell_type": "code",
   "execution_count": null,
   "metadata": {
    "id": "uzUIa1JqK9q8"
   },
   "outputs": [],
   "source": [
    "# NO ENTIENDO DE QUÉ FORMA HAY QUE USAR REPLACE. REALMENTE SIRVE EL CODIGO ANTERIOR SIMPLEMENTE USANDO LA FUNCION QUE TRANSFORMA EN FLOAT ¿NO?\n",
    "\n",
    "altura = input(\"Altura\")\n",
    "base = input (\"Base\")\n",
    "area = float(altura) * float(base)\n",
    "print (\"El área el paralelo gramo es: \", area)"
   ]
  },
  {
   "cell_type": "markdown",
   "metadata": {
    "id": "5zKugi5iK9q8"
   },
   "source": [
    "![ejercicio.png](./img/ejercicio.png)\n",
    "\n",
    "## Ejercicio 5\n",
    "Complete el siguiente código para solicitar al usuario su nombre y su edad. Luego, calcule en qué año nació el usuario y muestre el resultado."
   ]
  },
  {
   "cell_type": "code",
   "execution_count": 32,
   "metadata": {
    "id": "LISfTnRkK9q8"
   },
   "outputs": [
    {
     "ename": "<class 'TypeError'>",
     "evalue": "float() argument must be a string or a real number, not 'PyodideFuture'",
     "output_type": "error",
     "traceback": [
      "\u001b[0;31m---------------------------------------------------------------------------\u001b[0m",
      "\u001b[0;31mTypeError\u001b[0m                                 Traceback (most recent call last)",
      "Cell \u001b[0;32mIn[32], line 2\u001b[0m\n\u001b[1;32m      1\u001b[0m nombre \u001b[38;5;241m=\u001b[39m \u001b[38;5;28minput\u001b[39m(\u001b[38;5;124m\"\u001b[39m\u001b[38;5;124m¿Cuál es tu nombre? \u001b[39m\u001b[38;5;124m\"\u001b[39m)\n\u001b[0;32m----> 2\u001b[0m edad \u001b[38;5;241m=\u001b[39m \u001b[38;5;28;43mfloat\u001b[39;49m\u001b[43m(\u001b[49m\u001b[38;5;28;43minput\u001b[39;49m\u001b[43m(\u001b[49m\u001b[38;5;124;43m\"\u001b[39;49m\u001b[38;5;124;43m¿Cuál es tu edad? \u001b[39;49m\u001b[38;5;124;43m\"\u001b[39;49m\u001b[43m)\u001b[49m\u001b[43m)\u001b[49m\n\u001b[1;32m      3\u001b[0m año_actual \u001b[38;5;241m=\u001b[39m \u001b[38;5;241m2023\u001b[39m  \u001b[38;5;66;03m# Puedes cambiarlo según el año en curso\u001b[39;00m\n\u001b[1;32m      4\u001b[0m año_nacimiento \u001b[38;5;241m=\u001b[39m año_actual \u001b[38;5;241m-\u001b[39m edad\n",
      "\u001b[0;31mTypeError\u001b[0m: float() argument must be a string or a real number, not 'PyodideFuture'"
     ]
    }
   ],
   "source": [
    "nombre = input(\"¿Cuál es tu nombre? \")\n",
    "edad = float(input(\"¿Cuál es tu edad? \"))\n",
    "año_actual = 2024  \n",
    "año_nacimiento = año_actual - edad\n",
    "\n",
    "print(f\"{nombre}, naciste en el año {año_nacimiento}.\")"
   ]
  }
 ],
 "metadata": {
  "colab": {
   "provenance": []
  },
  "kernelspec": {
   "display_name": "Python 3 (ipykernel)",
   "language": "python",
   "name": "python3"
  },
  "language_info": {
   "codemirror_mode": {
    "name": "ipython",
    "version": 3
   },
   "file_extension": ".py",
   "mimetype": "text/x-python",
   "name": "python",
   "nbconvert_exporter": "python",
   "pygments_lexer": "ipython3",
   "version": "3.11.9"
  }
 },
 "nbformat": 4,
 "nbformat_minor": 4
}
