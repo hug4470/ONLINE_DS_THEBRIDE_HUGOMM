{
  "metadata": {
    "kernelspec": {
      "name": "python",
      "display_name": "Python (Pyodide)",
      "language": "python"
    },
    "language_info": {
      "codemirror_mode": {
        "name": "ipython",
        "version": 3
      },
      "file_extension": ".py",
      "mimetype": "text/x-python",
      "name": "python",
      "nbconvert_exporter": "python",
      "pygments_lexer": "ipython3",
      "version": "3.9.7"
    },
    "colab": {
      "provenance": []
    }
  },
  "nbformat_minor": 4,
  "nbformat": 4,
  "cells": [
    {
      "cell_type": "markdown",
      "source": "![TheBridge_Python_v0.png](attachment:TheBridge_Python_v0.png)",
      "metadata": {
        "id": "uPODHfnfCeq2"
      }
    },
    {
      "cell_type": "markdown",
      "source": "##  Atributos\n",
      "metadata": {
        "id": "0q48yD4ZCeq6"
      }
    },
    {
      "cell_type": "markdown",
      "source": "### Contenidos\n",
      "metadata": {
        "id": "Bu8ihqbuCeq7"
      }
    },
    {
      "cell_type": "markdown",
      "source": "* [Introducción  ](#Introducción--)\n",
      "metadata": {
        "id": "f5xM7vZTCeq8"
      }
    },
    {
      "cell_type": "markdown",
      "source": "### Introducción  \n[al indice](#Contenidos)  \nSon las **características que definen a los objetos de una clase**. La marca, el color, potencia del coche. Estos son atributos, que se definen de manera genérica en la clase y luego cada objeto *Coche* tendrá un valor para cada uno de sus atributos.\n\nLos atributos los definimos tras la declaración de la clase. Y luego se accede a ellos mediante la sintaxis `objeto.atributo`\n\nVamos a empezar a definir atributos en los coches.",
      "metadata": {
        "id": "qIU907cMCeq-"
      }
    },
    {
      "cell_type": "code",
      "source": "class Coche:\n    puertas = 4\n    ruedas = 4\n",
      "metadata": {
        "id": "kMmA5J4ZCeq_",
        "trusted": true
      },
      "outputs": [],
      "execution_count": null
    },
    {
      "cell_type": "markdown",
      "source": "Ahora todos los coches que creamos, tendrán 4 puertas y 4 ruedas.",
      "metadata": {
        "id": "1U7lMW-iCerB"
      }
    },
    {
      "cell_type": "code",
      "source": "tesla = Coche()\nprint(tesla.puertas)\nprint (tesla.ruedas)",
      "metadata": {
        "id": "5Lyh5PuzCerC",
        "trusted": true
      },
      "outputs": [],
      "execution_count": null
    },
    {
      "cell_type": "markdown",
      "source": "También podemos modificar los atributos. Esto Python lo hace muy sencillo, los cambiamos directamente reasignando valores. En otros lenguajes de programación hay que implementar esto mediante métodos  denominados `getters` y `setters`.",
      "metadata": {
        "id": "Mtcti_iECerD"
      }
    },
    {
      "cell_type": "code",
      "source": "merdees = Coche()\nmercedes.puertas = 3\nprint (mercedes.puertas)",
      "metadata": {
        "id": "w3GQHOQ5CerE",
        "trusted": true
      },
      "outputs": [],
      "execution_count": null
    },
    {
      "cell_type": "markdown",
      "source": "<table align=\"left\">\n <tr><td width=\"80\"><img src=\"./img/error.png\" style=\"width:auto;height:auto\"></td>\n     <td style=\"text-align:left\">\n         <h3>ERRORES atributos que no existen</h3>\n         \n </td></tr>\n</table>",
      "metadata": {
        "id": "qKcdVYSZCerE"
      }
    },
    {
      "cell_type": "code",
      "source": "",
      "metadata": {
        "id": "of0wj87yCerF",
        "trusted": true
      },
      "outputs": [],
      "execution_count": null
    },
    {
      "cell_type": "markdown",
      "source": "Seguimos sin poder diferenciar claramente un coche de otro, pero ya vamos definiendo sus características, que será posible ir modificándolas tanto en la inicialización del objeto, como después. De momento, tenemos características comunes a todos los coches... o no, ¿todos los coches tienen 4 puertas?",
      "metadata": {
        "id": "fEEOW_ZHCerG"
      }
    }
  ]
}