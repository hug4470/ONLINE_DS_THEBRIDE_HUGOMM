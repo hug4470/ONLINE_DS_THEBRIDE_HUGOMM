{
  "metadata": {
    "kernelspec": {
      "name": "python",
      "display_name": "Python (Pyodide)",
      "language": "python"
    },
    "language_info": {
      "codemirror_mode": {
        "name": "ipython",
        "version": 3
      },
      "file_extension": ".py",
      "mimetype": "text/x-python",
      "name": "python",
      "nbconvert_exporter": "python",
      "pygments_lexer": "ipython3",
      "version": "3.7.9"
    },
    "colab": {
      "provenance": []
    }
  },
  "nbformat_minor": 4,
  "nbformat": 4,
  "cells": [
    {
      "cell_type": "markdown",
      "source": "![TheBridge_logo_RGB_color.jpg](attachment:TheBridge_logo_RGB_color.jpg)",
      "metadata": {
        "id": "vigJnuAMSU4x"
      }
    },
    {
      "cell_type": "markdown",
      "source": "![ejercicios.png](attachment:ejercicios.png)",
      "metadata": {
        "id": "2xmnwM17SU4y"
      }
    },
    {
      "cell_type": "markdown",
      "source": "# Ejercicios Clases y Objetos",
      "metadata": {
        "id": "liorA-1ZSU4y"
      }
    },
    {
      "cell_type": "markdown",
      "source": "## Ejercicio 1\nSomos una empresa que tiene varias tiendas de electrodomesticos. Necesitamos un programa para manejar las tiendas, ver las ventas que han tenido, cuántos empleados hay, etc... Para ello vamos a modelizar la tienda en una clase, que tendrá las siguientes características:\n* Nombre clase: \"Tienda\"\n* Atributos comunes:\n    * Tipo: \"Electrodomésticos\"\n    * Abierta: True\n* Atributos propios de cada tienda:\n    * Nombre - String\n    * Dirección - String\n    * Número de empleados - int\n    * Ventas ultimos 3 meses - Lista de 3 numeros\n* Método para calcular las ventas de todos los meses, que devuelva un numero con todas las ventas.\n* Método que calcula la media de ventas de los ultimos meses, por empleado\n* Método que devuelve en un string el nombre de la tienda, junto con su dirección.\n* Método que obtiene las ventas del último mes.\n* Método para dar una proyección de las ventas en caso de haber invertido X dinero en marketing en esa tienda. Siendo X el parámetro de entrada. Si X es menor de 1000, las ventas de los ultimos 3 meses hubiesen sido de (1.2 x ventas), si es mayor o igual de 1000, las ventas hubiesen sido de (1.5 x venta). El método reescribe el atributo de ventas en los últimos 3 meses, y además devuelve las ventas con el aumento.\n\nSe pide:\n1. Implementar la clase \"Tienda\"\n2. Crear tres tiendas con datos inventados\n3. Comprueba en al menos una de ellas, todo lo implementado en la clase tienda (sus atributos, media de ventas, ventas/empleado...)\n3. Calcular las ventas del último mes de todas las tiendas. Para ello usa el bucle `for`\n4. Imprime por pantalla los nombres de las tiendas cuya dirección lleve el string \"Avenida\"\n5. Seguro que ya has hecho este apartado... Documenta la clase :)",
      "metadata": {
        "id": "5xXUz5l9SU4z"
      }
    },
    {
      "cell_type": "code",
      "source": "",
      "metadata": {
        "id": "5cLQcLxfSU4z"
      },
      "outputs": [],
      "execution_count": null
    },
    {
      "cell_type": "markdown",
      "source": "## Ejercicio 2\nEn este ejercicio vamos a implementar una clase *Perro* en Python. La clase tiene las siguientes características:\n* Cosas que sabemos seguro que tiene un perro\n    * Tiene 4 patas\n    * 2 orejas\n    * 2 ojos\n    * Una velocidad de 0. Por defecto, el perro está parado\n* Cuando se inicialice:\n    * El perro será de una determinada raza\n    * Por defecto tendrá pelo \"Marrón\", a no ser que se diga lo contrario.\n    * Por defecto no tendrá dueño, a no ser que se diga lo contrario.\n    \n* Dispondrá también de un método llamado andar, que tiene un argumento de entrada (aumento_velocidad). Este valor se le sumará a la velocidad que ya llevaba el perro.\n* Necesita otro método (parar), donde pondremos la velocidad a 0.\n* Otro método llamado \"ladrar\", que tendrá un argumento de entrada, y la salida será el siguiente string: \"GUAU!\" + el argumento de entrada.\n\n\nSe pide:\n* Implementa la clase *Perro*\n* Crea un objeto de tipo *Perro*, sin dueño\n* Comprueba que están bien todos sus atributos\n* Prueba que ande, y comprueba su velocidad\n* Páralo\n* Documenta la clase *Perro*",
      "metadata": {
        "id": "WEBq7EpsSU40"
      }
    },
    {
      "cell_type": "code",
      "source": "",
      "metadata": {
        "id": "DpEWvbwGSU40"
      },
      "outputs": [],
      "execution_count": null
    }
  ]
}